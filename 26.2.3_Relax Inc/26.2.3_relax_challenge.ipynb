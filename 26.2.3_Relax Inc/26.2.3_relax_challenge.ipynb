{
 "cells": [
  {
   "cell_type": "markdown",
   "metadata": {},
   "source": [
    "# 26.2.3 Relax Inc. Take-Home Challenge"
   ]
  },
  {
   "cell_type": "markdown",
   "metadata": {},
   "source": [
    "# Import Modules and data"
   ]
  },
  {
   "cell_type": "code",
   "execution_count": 1,
   "metadata": {},
   "outputs": [
    {
     "name": "stderr",
     "output_type": "stream",
     "text": [
      "Using `tqdm.autonotebook.tqdm` in notebook mode. Use `tqdm.tqdm` instead to force console mode (e.g. in jupyter console)\n"
     ]
    }
   ],
   "source": [
    "import pandas as pd\n",
    "import matplotlib.pyplot as plt\n",
    "import numpy as np\n",
    "import seaborn as sns\n",
    "\n",
    "# random forest\n",
    "from sklearn.ensemble import RandomForestClassifier\n",
    "\n",
    "#skopt\n",
    "from skopt import BayesSearchCV\n",
    "from skopt.space import Integer, Real\n",
    "\n",
    "#sklearn\n",
    "from sklearn.model_selection import train_test_split, cross_val_score\n",
    "from sklearn.metrics import precision_recall_curve, auc\n",
    "from sklearn.metrics import classification_report, confusion_matrix\n",
    "from sklearn.metrics import accuracy_score, f1_score, roc_auc_score, precision_score, recall_score\n",
    "from sklearn.ensemble import AdaBoostClassifier\n",
    "from sklearn.tree import DecisionTreeClassifier\n",
    "\n",
    "#XGBoost\n",
    "from xgboost import XGBClassifier\n",
    "\n",
    "# SHAP\n",
    "import shap\n"
   ]
  },
  {
   "cell_type": "code",
   "execution_count": null,
   "metadata": {},
   "outputs": [],
   "source": [
    "# Open the file in binary mode to inspect raw bytes\n",
    "with open('../data/takehome_users.csv', 'rb') as file:\n",
    "    content = file.read()  # Read the entire file in binary mode\n",
    "\n",
    "# Locate the problematic byte\n",
    "try:\n",
    "    content.decode('utf-8')\n",
    "except UnicodeDecodeError as e:\n",
    "    print(f\"Error: {e}\")  # This will show the byte position of the error\n",
    "    error_position = e.start\n",
    "\n",
    "    # Display the problematic byte and surrounding context\n",
    "    surrounding_bytes = content[error_position-3:error_position+3]  # Adjust range as needed\n",
    "    print(f\"Problematic byte sequence: {surrounding_bytes}\")"
   ]
  },
  {
   "cell_type": "markdown",
   "metadata": {},
   "source": [
    "I found a non utf-8 character in the users.csv file and removed it using the following above code. I then saved a corrected version, which I am pulling the data from below. "
   ]
  },
  {
   "cell_type": "code",
   "execution_count": 2,
   "metadata": {},
   "outputs": [],
   "source": [
    "users_df = pd.read_csv('../data/takehome_users_corrected.csv')\n",
    "engagement_df = pd.read_csv('../data/takehome_user_engagement.csv')"
   ]
  },
  {
   "cell_type": "code",
   "execution_count": 3,
   "metadata": {},
   "outputs": [
    {
     "data": {
      "text/html": [
       "<div>\n",
       "<style scoped>\n",
       "    .dataframe tbody tr th:only-of-type {\n",
       "        vertical-align: middle;\n",
       "    }\n",
       "\n",
       "    .dataframe tbody tr th {\n",
       "        vertical-align: top;\n",
       "    }\n",
       "\n",
       "    .dataframe thead th {\n",
       "        text-align: right;\n",
       "    }\n",
       "</style>\n",
       "<table border=\"1\" class=\"dataframe\">\n",
       "  <thead>\n",
       "    <tr style=\"text-align: right;\">\n",
       "      <th></th>\n",
       "      <th>object_id</th>\n",
       "      <th>creation_time</th>\n",
       "      <th>name</th>\n",
       "      <th>email</th>\n",
       "      <th>creation_source</th>\n",
       "      <th>last_session_creation_time</th>\n",
       "      <th>opted_in_to_mailing_list</th>\n",
       "      <th>enabled_for_marketing_drip</th>\n",
       "      <th>org_id</th>\n",
       "      <th>invited_by_user_id</th>\n",
       "    </tr>\n",
       "  </thead>\n",
       "  <tbody>\n",
       "    <tr>\n",
       "      <th>0</th>\n",
       "      <td>1</td>\n",
       "      <td>2014-04-22 03:53:30</td>\n",
       "      <td>Clausen August</td>\n",
       "      <td>AugustCClausen@yahoo.com</td>\n",
       "      <td>GUEST_INVITE</td>\n",
       "      <td>1.398139e+09</td>\n",
       "      <td>1</td>\n",
       "      <td>0</td>\n",
       "      <td>11</td>\n",
       "      <td>10803.0</td>\n",
       "    </tr>\n",
       "    <tr>\n",
       "      <th>1</th>\n",
       "      <td>2</td>\n",
       "      <td>2013-11-15 03:45:04</td>\n",
       "      <td>Poole Matthew</td>\n",
       "      <td>MatthewPoole@gustr.com</td>\n",
       "      <td>ORG_INVITE</td>\n",
       "      <td>1.396238e+09</td>\n",
       "      <td>0</td>\n",
       "      <td>0</td>\n",
       "      <td>1</td>\n",
       "      <td>316.0</td>\n",
       "    </tr>\n",
       "    <tr>\n",
       "      <th>2</th>\n",
       "      <td>3</td>\n",
       "      <td>2013-03-19 23:14:52</td>\n",
       "      <td>Bottrill Mitchell</td>\n",
       "      <td>MitchellBottrill@gustr.com</td>\n",
       "      <td>ORG_INVITE</td>\n",
       "      <td>1.363735e+09</td>\n",
       "      <td>0</td>\n",
       "      <td>0</td>\n",
       "      <td>94</td>\n",
       "      <td>1525.0</td>\n",
       "    </tr>\n",
       "    <tr>\n",
       "      <th>3</th>\n",
       "      <td>4</td>\n",
       "      <td>2013-05-21 08:09:28</td>\n",
       "      <td>Clausen Nicklas</td>\n",
       "      <td>NicklasSClausen@yahoo.com</td>\n",
       "      <td>GUEST_INVITE</td>\n",
       "      <td>1.369210e+09</td>\n",
       "      <td>0</td>\n",
       "      <td>0</td>\n",
       "      <td>1</td>\n",
       "      <td>5151.0</td>\n",
       "    </tr>\n",
       "    <tr>\n",
       "      <th>4</th>\n",
       "      <td>5</td>\n",
       "      <td>2013-01-17 10:14:20</td>\n",
       "      <td>Raw Grace</td>\n",
       "      <td>GraceRaw@yahoo.com</td>\n",
       "      <td>GUEST_INVITE</td>\n",
       "      <td>1.358850e+09</td>\n",
       "      <td>0</td>\n",
       "      <td>0</td>\n",
       "      <td>193</td>\n",
       "      <td>5240.0</td>\n",
       "    </tr>\n",
       "  </tbody>\n",
       "</table>\n",
       "</div>"
      ],
      "text/plain": [
       "   object_id        creation_time               name  \\\n",
       "0          1  2014-04-22 03:53:30     Clausen August   \n",
       "1          2  2013-11-15 03:45:04      Poole Matthew   \n",
       "2          3  2013-03-19 23:14:52  Bottrill Mitchell   \n",
       "3          4  2013-05-21 08:09:28    Clausen Nicklas   \n",
       "4          5  2013-01-17 10:14:20          Raw Grace   \n",
       "\n",
       "                        email creation_source  last_session_creation_time  \\\n",
       "0    AugustCClausen@yahoo.com    GUEST_INVITE                1.398139e+09   \n",
       "1      MatthewPoole@gustr.com      ORG_INVITE                1.396238e+09   \n",
       "2  MitchellBottrill@gustr.com      ORG_INVITE                1.363735e+09   \n",
       "3   NicklasSClausen@yahoo.com    GUEST_INVITE                1.369210e+09   \n",
       "4          GraceRaw@yahoo.com    GUEST_INVITE                1.358850e+09   \n",
       "\n",
       "   opted_in_to_mailing_list  enabled_for_marketing_drip  org_id  \\\n",
       "0                         1                           0      11   \n",
       "1                         0                           0       1   \n",
       "2                         0                           0      94   \n",
       "3                         0                           0       1   \n",
       "4                         0                           0     193   \n",
       "\n",
       "   invited_by_user_id  \n",
       "0             10803.0  \n",
       "1               316.0  \n",
       "2              1525.0  \n",
       "3              5151.0  \n",
       "4              5240.0  "
      ]
     },
     "execution_count": 3,
     "metadata": {},
     "output_type": "execute_result"
    }
   ],
   "source": [
    "users_df.head()"
   ]
  },
  {
   "cell_type": "code",
   "execution_count": 5,
   "metadata": {},
   "outputs": [
    {
     "data": {
      "text/html": [
       "<div>\n",
       "<style scoped>\n",
       "    .dataframe tbody tr th:only-of-type {\n",
       "        vertical-align: middle;\n",
       "    }\n",
       "\n",
       "    .dataframe tbody tr th {\n",
       "        vertical-align: top;\n",
       "    }\n",
       "\n",
       "    .dataframe thead th {\n",
       "        text-align: right;\n",
       "    }\n",
       "</style>\n",
       "<table border=\"1\" class=\"dataframe\">\n",
       "  <thead>\n",
       "    <tr style=\"text-align: right;\">\n",
       "      <th></th>\n",
       "      <th>time_stamp</th>\n",
       "      <th>user_id</th>\n",
       "      <th>visited</th>\n",
       "    </tr>\n",
       "  </thead>\n",
       "  <tbody>\n",
       "    <tr>\n",
       "      <th>0</th>\n",
       "      <td>2014-04-22 03:53:30</td>\n",
       "      <td>1</td>\n",
       "      <td>1</td>\n",
       "    </tr>\n",
       "    <tr>\n",
       "      <th>1</th>\n",
       "      <td>2013-11-15 03:45:04</td>\n",
       "      <td>2</td>\n",
       "      <td>1</td>\n",
       "    </tr>\n",
       "    <tr>\n",
       "      <th>2</th>\n",
       "      <td>2013-11-29 03:45:04</td>\n",
       "      <td>2</td>\n",
       "      <td>1</td>\n",
       "    </tr>\n",
       "    <tr>\n",
       "      <th>3</th>\n",
       "      <td>2013-12-09 03:45:04</td>\n",
       "      <td>2</td>\n",
       "      <td>1</td>\n",
       "    </tr>\n",
       "    <tr>\n",
       "      <th>4</th>\n",
       "      <td>2013-12-25 03:45:04</td>\n",
       "      <td>2</td>\n",
       "      <td>1</td>\n",
       "    </tr>\n",
       "  </tbody>\n",
       "</table>\n",
       "</div>"
      ],
      "text/plain": [
       "            time_stamp  user_id  visited\n",
       "0  2014-04-22 03:53:30        1        1\n",
       "1  2013-11-15 03:45:04        2        1\n",
       "2  2013-11-29 03:45:04        2        1\n",
       "3  2013-12-09 03:45:04        2        1\n",
       "4  2013-12-25 03:45:04        2        1"
      ]
     },
     "execution_count": 5,
     "metadata": {},
     "output_type": "execute_result"
    }
   ],
   "source": [
    "engagement_df.head()"
   ]
  },
  {
   "cell_type": "markdown",
   "metadata": {},
   "source": [
    "# Defining an 'adopted' user"
   ]
  },
  {
   "cell_type": "markdown",
   "metadata": {},
   "source": [
    "I could use a join to attach the engagement data to the user data using ID. But that seems like overkill if all that needs to happen is determine which users are 'adopted' users. \n",
    "\n",
    "Defining an \"adopted user\" as a user who has logged into the product on three separate days in at least one seven ­day period"
   ]
  },
  {
   "cell_type": "code",
   "execution_count": 6,
   "metadata": {},
   "outputs": [
    {
     "name": "stdout",
     "output_type": "stream",
     "text": [
      "<class 'pandas.core.frame.DataFrame'>\n",
      "RangeIndex: 207917 entries, 0 to 207916\n",
      "Data columns (total 3 columns):\n",
      " #   Column      Non-Null Count   Dtype \n",
      "---  ------      --------------   ----- \n",
      " 0   time_stamp  207917 non-null  object\n",
      " 1   user_id     207917 non-null  int64 \n",
      " 2   visited     207917 non-null  int64 \n",
      "dtypes: int64(2), object(1)\n",
      "memory usage: 4.8+ MB\n"
     ]
    }
   ],
   "source": [
    "engagement_df.info()"
   ]
  },
  {
   "cell_type": "markdown",
   "metadata": {},
   "source": [
    "Looks like all the data is there but the time stamp is not in datetime format. "
   ]
  },
  {
   "cell_type": "code",
   "execution_count": 7,
   "metadata": {},
   "outputs": [],
   "source": [
    "engagement_df['time_stamp'] = pd.to_datetime(engagement_df['time_stamp'])\n"
   ]
  },
  {
   "cell_type": "code",
   "execution_count": 8,
   "metadata": {},
   "outputs": [
    {
     "name": "stdout",
     "output_type": "stream",
     "text": [
      "There are 2248 users with 3 or more engagements out of a total of 207917 records.\n"
     ]
    }
   ],
   "source": [
    "#identify users that have 3 or more engagements in the data. \n",
    "\n",
    "users_3plus_engagements = []\n",
    "\n",
    "for id in engagement_df['user_id'].unique():\n",
    "    if len(engagement_df[engagement_df['user_id']==id]) >= 3:\n",
    "        users_3plus_engagements.append(id)\n",
    "\n",
    "\n",
    "print(f'There are {len(users_3plus_engagements)} users with 3 or more engagements out of a total of {len(engagement_df)} records.')\n",
    "    "
   ]
  },
  {
   "cell_type": "code",
   "execution_count": 9,
   "metadata": {},
   "outputs": [
    {
     "name": "stderr",
     "output_type": "stream",
     "text": [
      "\n",
      "A value is trying to be set on a copy of a slice from a DataFrame.\n",
      "Try using .loc[row_indexer,col_indexer] = value instead\n",
      "\n",
      "See the caveats in the documentation: https://pandas.pydata.org/pandas-docs/stable/user_guide/indexing.html#returning-a-view-versus-a-copy\n"
     ]
    }
   ],
   "source": [
    "approved_ids = []\n",
    "# Create a DataFrame with user engagement data filtered for the specified user IDs\n",
    "filtered_data = engagement_df[engagement_df['user_id'].isin(users_3plus_engagements)]\n",
    "\n",
    "\n",
    "# Set the time_stamp as the index\n",
    "filtered_data.set_index('time_stamp', inplace=True)\n",
    "\n",
    "# Calculate the 7-day rolling count of 'visited' for all users in one go\n",
    "filtered_data['7_day_engagement'] = filtered_data.groupby('user_id')['visited'].rolling(window='7D').count().reset_index(level=0, drop=True)\n",
    "\n",
    "# Identify approved user IDs where the 7-day engagement is 3 or more\n",
    "approved_ids = filtered_data[filtered_data['7_day_engagement'] >= 3]['user_id'].unique().tolist()"
   ]
  },
  {
   "cell_type": "markdown",
   "metadata": {},
   "source": [
    "## Add class label to user data"
   ]
  },
  {
   "cell_type": "code",
   "execution_count": 10,
   "metadata": {},
   "outputs": [
    {
     "data": {
      "text/html": [
       "<div>\n",
       "<style scoped>\n",
       "    .dataframe tbody tr th:only-of-type {\n",
       "        vertical-align: middle;\n",
       "    }\n",
       "\n",
       "    .dataframe tbody tr th {\n",
       "        vertical-align: top;\n",
       "    }\n",
       "\n",
       "    .dataframe thead th {\n",
       "        text-align: right;\n",
       "    }\n",
       "</style>\n",
       "<table border=\"1\" class=\"dataframe\">\n",
       "  <thead>\n",
       "    <tr style=\"text-align: right;\">\n",
       "      <th></th>\n",
       "      <th>object_id</th>\n",
       "      <th>creation_time</th>\n",
       "      <th>name</th>\n",
       "      <th>email</th>\n",
       "      <th>creation_source</th>\n",
       "      <th>last_session_creation_time</th>\n",
       "      <th>opted_in_to_mailing_list</th>\n",
       "      <th>enabled_for_marketing_drip</th>\n",
       "      <th>org_id</th>\n",
       "      <th>invited_by_user_id</th>\n",
       "    </tr>\n",
       "  </thead>\n",
       "  <tbody>\n",
       "    <tr>\n",
       "      <th>0</th>\n",
       "      <td>1</td>\n",
       "      <td>2014-04-22 03:53:30</td>\n",
       "      <td>Clausen August</td>\n",
       "      <td>AugustCClausen@yahoo.com</td>\n",
       "      <td>GUEST_INVITE</td>\n",
       "      <td>1.398139e+09</td>\n",
       "      <td>1</td>\n",
       "      <td>0</td>\n",
       "      <td>11</td>\n",
       "      <td>10803.0</td>\n",
       "    </tr>\n",
       "    <tr>\n",
       "      <th>1</th>\n",
       "      <td>2</td>\n",
       "      <td>2013-11-15 03:45:04</td>\n",
       "      <td>Poole Matthew</td>\n",
       "      <td>MatthewPoole@gustr.com</td>\n",
       "      <td>ORG_INVITE</td>\n",
       "      <td>1.396238e+09</td>\n",
       "      <td>0</td>\n",
       "      <td>0</td>\n",
       "      <td>1</td>\n",
       "      <td>316.0</td>\n",
       "    </tr>\n",
       "    <tr>\n",
       "      <th>2</th>\n",
       "      <td>3</td>\n",
       "      <td>2013-03-19 23:14:52</td>\n",
       "      <td>Bottrill Mitchell</td>\n",
       "      <td>MitchellBottrill@gustr.com</td>\n",
       "      <td>ORG_INVITE</td>\n",
       "      <td>1.363735e+09</td>\n",
       "      <td>0</td>\n",
       "      <td>0</td>\n",
       "      <td>94</td>\n",
       "      <td>1525.0</td>\n",
       "    </tr>\n",
       "    <tr>\n",
       "      <th>3</th>\n",
       "      <td>4</td>\n",
       "      <td>2013-05-21 08:09:28</td>\n",
       "      <td>Clausen Nicklas</td>\n",
       "      <td>NicklasSClausen@yahoo.com</td>\n",
       "      <td>GUEST_INVITE</td>\n",
       "      <td>1.369210e+09</td>\n",
       "      <td>0</td>\n",
       "      <td>0</td>\n",
       "      <td>1</td>\n",
       "      <td>5151.0</td>\n",
       "    </tr>\n",
       "    <tr>\n",
       "      <th>4</th>\n",
       "      <td>5</td>\n",
       "      <td>2013-01-17 10:14:20</td>\n",
       "      <td>Raw Grace</td>\n",
       "      <td>GraceRaw@yahoo.com</td>\n",
       "      <td>GUEST_INVITE</td>\n",
       "      <td>1.358850e+09</td>\n",
       "      <td>0</td>\n",
       "      <td>0</td>\n",
       "      <td>193</td>\n",
       "      <td>5240.0</td>\n",
       "    </tr>\n",
       "  </tbody>\n",
       "</table>\n",
       "</div>"
      ],
      "text/plain": [
       "   object_id        creation_time               name  \\\n",
       "0          1  2014-04-22 03:53:30     Clausen August   \n",
       "1          2  2013-11-15 03:45:04      Poole Matthew   \n",
       "2          3  2013-03-19 23:14:52  Bottrill Mitchell   \n",
       "3          4  2013-05-21 08:09:28    Clausen Nicklas   \n",
       "4          5  2013-01-17 10:14:20          Raw Grace   \n",
       "\n",
       "                        email creation_source  last_session_creation_time  \\\n",
       "0    AugustCClausen@yahoo.com    GUEST_INVITE                1.398139e+09   \n",
       "1      MatthewPoole@gustr.com      ORG_INVITE                1.396238e+09   \n",
       "2  MitchellBottrill@gustr.com      ORG_INVITE                1.363735e+09   \n",
       "3   NicklasSClausen@yahoo.com    GUEST_INVITE                1.369210e+09   \n",
       "4          GraceRaw@yahoo.com    GUEST_INVITE                1.358850e+09   \n",
       "\n",
       "   opted_in_to_mailing_list  enabled_for_marketing_drip  org_id  \\\n",
       "0                         1                           0      11   \n",
       "1                         0                           0       1   \n",
       "2                         0                           0      94   \n",
       "3                         0                           0       1   \n",
       "4                         0                           0     193   \n",
       "\n",
       "   invited_by_user_id  \n",
       "0             10803.0  \n",
       "1               316.0  \n",
       "2              1525.0  \n",
       "3              5151.0  \n",
       "4              5240.0  "
      ]
     },
     "execution_count": 10,
     "metadata": {},
     "output_type": "execute_result"
    }
   ],
   "source": [
    "users_df.head()"
   ]
  },
  {
   "cell_type": "code",
   "execution_count": 11,
   "metadata": {},
   "outputs": [],
   "source": [
    "users_df['adopted_user'] = users_df['object_id'].isin(approved_ids).astype(int)\n"
   ]
  },
  {
   "cell_type": "code",
   "execution_count": 13,
   "metadata": {},
   "outputs": [
    {
     "data": {
      "text/html": [
       "<div>\n",
       "<style scoped>\n",
       "    .dataframe tbody tr th:only-of-type {\n",
       "        vertical-align: middle;\n",
       "    }\n",
       "\n",
       "    .dataframe tbody tr th {\n",
       "        vertical-align: top;\n",
       "    }\n",
       "\n",
       "    .dataframe thead th {\n",
       "        text-align: right;\n",
       "    }\n",
       "</style>\n",
       "<table border=\"1\" class=\"dataframe\">\n",
       "  <thead>\n",
       "    <tr style=\"text-align: right;\">\n",
       "      <th></th>\n",
       "      <th>object_id</th>\n",
       "      <th>creation_time</th>\n",
       "      <th>name</th>\n",
       "      <th>email</th>\n",
       "      <th>creation_source</th>\n",
       "      <th>last_session_creation_time</th>\n",
       "      <th>opted_in_to_mailing_list</th>\n",
       "      <th>enabled_for_marketing_drip</th>\n",
       "      <th>org_id</th>\n",
       "      <th>invited_by_user_id</th>\n",
       "      <th>adopted_user</th>\n",
       "    </tr>\n",
       "  </thead>\n",
       "  <tbody>\n",
       "    <tr>\n",
       "      <th>0</th>\n",
       "      <td>1</td>\n",
       "      <td>2014-04-22 03:53:30</td>\n",
       "      <td>Clausen August</td>\n",
       "      <td>AugustCClausen@yahoo.com</td>\n",
       "      <td>GUEST_INVITE</td>\n",
       "      <td>1.398139e+09</td>\n",
       "      <td>1</td>\n",
       "      <td>0</td>\n",
       "      <td>11</td>\n",
       "      <td>10803.0</td>\n",
       "      <td>0</td>\n",
       "    </tr>\n",
       "    <tr>\n",
       "      <th>1</th>\n",
       "      <td>2</td>\n",
       "      <td>2013-11-15 03:45:04</td>\n",
       "      <td>Poole Matthew</td>\n",
       "      <td>MatthewPoole@gustr.com</td>\n",
       "      <td>ORG_INVITE</td>\n",
       "      <td>1.396238e+09</td>\n",
       "      <td>0</td>\n",
       "      <td>0</td>\n",
       "      <td>1</td>\n",
       "      <td>316.0</td>\n",
       "      <td>1</td>\n",
       "    </tr>\n",
       "    <tr>\n",
       "      <th>2</th>\n",
       "      <td>3</td>\n",
       "      <td>2013-03-19 23:14:52</td>\n",
       "      <td>Bottrill Mitchell</td>\n",
       "      <td>MitchellBottrill@gustr.com</td>\n",
       "      <td>ORG_INVITE</td>\n",
       "      <td>1.363735e+09</td>\n",
       "      <td>0</td>\n",
       "      <td>0</td>\n",
       "      <td>94</td>\n",
       "      <td>1525.0</td>\n",
       "      <td>0</td>\n",
       "    </tr>\n",
       "    <tr>\n",
       "      <th>3</th>\n",
       "      <td>4</td>\n",
       "      <td>2013-05-21 08:09:28</td>\n",
       "      <td>Clausen Nicklas</td>\n",
       "      <td>NicklasSClausen@yahoo.com</td>\n",
       "      <td>GUEST_INVITE</td>\n",
       "      <td>1.369210e+09</td>\n",
       "      <td>0</td>\n",
       "      <td>0</td>\n",
       "      <td>1</td>\n",
       "      <td>5151.0</td>\n",
       "      <td>0</td>\n",
       "    </tr>\n",
       "    <tr>\n",
       "      <th>4</th>\n",
       "      <td>5</td>\n",
       "      <td>2013-01-17 10:14:20</td>\n",
       "      <td>Raw Grace</td>\n",
       "      <td>GraceRaw@yahoo.com</td>\n",
       "      <td>GUEST_INVITE</td>\n",
       "      <td>1.358850e+09</td>\n",
       "      <td>0</td>\n",
       "      <td>0</td>\n",
       "      <td>193</td>\n",
       "      <td>5240.0</td>\n",
       "      <td>0</td>\n",
       "    </tr>\n",
       "  </tbody>\n",
       "</table>\n",
       "</div>"
      ],
      "text/plain": [
       "   object_id        creation_time               name  \\\n",
       "0          1  2014-04-22 03:53:30     Clausen August   \n",
       "1          2  2013-11-15 03:45:04      Poole Matthew   \n",
       "2          3  2013-03-19 23:14:52  Bottrill Mitchell   \n",
       "3          4  2013-05-21 08:09:28    Clausen Nicklas   \n",
       "4          5  2013-01-17 10:14:20          Raw Grace   \n",
       "\n",
       "                        email creation_source  last_session_creation_time  \\\n",
       "0    AugustCClausen@yahoo.com    GUEST_INVITE                1.398139e+09   \n",
       "1      MatthewPoole@gustr.com      ORG_INVITE                1.396238e+09   \n",
       "2  MitchellBottrill@gustr.com      ORG_INVITE                1.363735e+09   \n",
       "3   NicklasSClausen@yahoo.com    GUEST_INVITE                1.369210e+09   \n",
       "4          GraceRaw@yahoo.com    GUEST_INVITE                1.358850e+09   \n",
       "\n",
       "   opted_in_to_mailing_list  enabled_for_marketing_drip  org_id  \\\n",
       "0                         1                           0      11   \n",
       "1                         0                           0       1   \n",
       "2                         0                           0      94   \n",
       "3                         0                           0       1   \n",
       "4                         0                           0     193   \n",
       "\n",
       "   invited_by_user_id  adopted_user  \n",
       "0             10803.0             0  \n",
       "1               316.0             1  \n",
       "2              1525.0             0  \n",
       "3              5151.0             0  \n",
       "4              5240.0             0  "
      ]
     },
     "execution_count": 13,
     "metadata": {},
     "output_type": "execute_result"
    }
   ],
   "source": [
    "users_df.head()"
   ]
  },
  {
   "cell_type": "code",
   "execution_count": 14,
   "metadata": {},
   "outputs": [
    {
     "name": "stdout",
     "output_type": "stream",
     "text": [
      "[False]\n"
     ]
    }
   ],
   "source": [
    "duplicates = users_df.duplicated()\n",
    "print(duplicates.unique())"
   ]
  },
  {
   "cell_type": "markdown",
   "metadata": {},
   "source": [
    "Looks like none of the users are duplicated"
   ]
  },
  {
   "cell_type": "code",
   "execution_count": 15,
   "metadata": {},
   "outputs": [
    {
     "data": {
      "text/plain": [
       "adopted_user\n",
       "0    10398\n",
       "1     1602\n",
       "Name: count, dtype: int64"
      ]
     },
     "execution_count": 15,
     "metadata": {},
     "output_type": "execute_result"
    }
   ],
   "source": [
    "users_df['adopted_user'].value_counts()"
   ]
  },
  {
   "cell_type": "markdown",
   "metadata": {},
   "source": [
    "The classes for adopted users are defined now, so I can moe forward with EDA and modeling. \n",
    "I do see a class imbalance. Only about 15% of the records are adopted users. \n",
    "That might be important moving forward. "
   ]
  },
  {
   "cell_type": "markdown",
   "metadata": {},
   "source": [
    "# EDA"
   ]
  },
  {
   "cell_type": "code",
   "execution_count": 16,
   "metadata": {},
   "outputs": [
    {
     "name": "stdout",
     "output_type": "stream",
     "text": [
      "<class 'pandas.core.frame.DataFrame'>\n",
      "RangeIndex: 12000 entries, 0 to 11999\n",
      "Data columns (total 11 columns):\n",
      " #   Column                      Non-Null Count  Dtype  \n",
      "---  ------                      --------------  -----  \n",
      " 0   object_id                   12000 non-null  int64  \n",
      " 1   creation_time               12000 non-null  object \n",
      " 2   name                        12000 non-null  object \n",
      " 3   email                       12000 non-null  object \n",
      " 4   creation_source             12000 non-null  object \n",
      " 5   last_session_creation_time  8823 non-null   float64\n",
      " 6   opted_in_to_mailing_list    12000 non-null  int64  \n",
      " 7   enabled_for_marketing_drip  12000 non-null  int64  \n",
      " 8   org_id                      12000 non-null  int64  \n",
      " 9   invited_by_user_id          6417 non-null   float64\n",
      " 10  adopted_user                12000 non-null  int64  \n",
      "dtypes: float64(2), int64(5), object(4)\n",
      "memory usage: 1.0+ MB\n"
     ]
    }
   ],
   "source": [
    "users_df.info()"
   ]
  },
  {
   "cell_type": "markdown",
   "metadata": {},
   "source": [
    "Two columns with missing values here. 'last_session_creation_time' and 'invited_by_user_id'."
   ]
  },
  {
   "cell_type": "code",
   "execution_count": 17,
   "metadata": {},
   "outputs": [
    {
     "data": {
      "image/png": "[encoded data removed]",
      "text/plain": [
       "<Figure size 640x480 with 1 Axes>"
      ]
     },
     "metadata": {},
     "output_type": "display_data"
    }
   ],
   "source": [
    "# Are there any user ID's that are inviting the majority of the users, such that the actual user doing the invites might be important. \n",
    "users_df['invited_by_user_id'].value_counts().hist(density = True)\n",
    "\n",
    "plt.xlabel(\"Number of Invites for a given user\")\n",
    "plt.ylabel(\"Density\")\n",
    "plt.xticks(ticks = range(1,16))\n",
    "plt.title(\"Density plot of invites for a single user\")\n",
    "\n",
    "plt.grid(False)\n",
    "plt.show()"
   ]
  },
  {
   "cell_type": "markdown",
   "metadata": {},
   "source": [
    "Most users who have invited someone only seem to have invited one or two other people. There isn't one user who is inviting a ton of people\n",
    "and personally driving engagement. The fact that a user has been invited is already captued in the creation source feature. I think\n",
    "it's safe to drop the 'invited_by_user_id' feature to eliminate the missing values"
   ]
  },
  {
   "cell_type": "code",
   "execution_count": 18,
   "metadata": {},
   "outputs": [],
   "source": [
    "users_df.drop(columns = 'invited_by_user_id', inplace = True)"
   ]
  },
  {
   "cell_type": "code",
   "execution_count": 19,
   "metadata": {},
   "outputs": [
    {
     "name": "stdout",
     "output_type": "stream",
     "text": [
      "<class 'pandas.core.frame.DataFrame'>\n",
      "RangeIndex: 12000 entries, 0 to 11999\n",
      "Data columns (total 10 columns):\n",
      " #   Column                      Non-Null Count  Dtype  \n",
      "---  ------                      --------------  -----  \n",
      " 0   object_id                   12000 non-null  int64  \n",
      " 1   creation_time               12000 non-null  object \n",
      " 2   name                        12000 non-null  object \n",
      " 3   email                       12000 non-null  object \n",
      " 4   creation_source             12000 non-null  object \n",
      " 5   last_session_creation_time  8823 non-null   float64\n",
      " 6   opted_in_to_mailing_list    12000 non-null  int64  \n",
      " 7   enabled_for_marketing_drip  12000 non-null  int64  \n",
      " 8   org_id                      12000 non-null  int64  \n",
      " 9   adopted_user                12000 non-null  int64  \n",
      "dtypes: float64(1), int64(5), object(4)\n",
      "memory usage: 937.6+ KB\n"
     ]
    }
   ],
   "source": [
    "users_df.info()"
   ]
  },
  {
   "cell_type": "markdown",
   "metadata": {},
   "source": [
    "The remaining missing values are from the 'last_session_creation_time' column. This is a column of unix timestamps for the last login. \n",
    "I'm interpreting these missing values to mean that there was no recent log in, as in the account was created and never used. \n",
    "I want to see if there are any patterns in the users with null values here. Specifically, do they have a specific creation source in common. "
   ]
  },
  {
   "cell_type": "code",
   "execution_count": 20,
   "metadata": {},
   "outputs": [
    {
     "data": {
      "text/plain": [
       "creation_source\n",
       "PERSONAL_PROJECTS    1347\n",
       "ORG_INVITE           1066\n",
       "GUEST_INVITE          575\n",
       "SIGNUP                189\n",
       "Name: count, dtype: int64"
      ]
     },
     "execution_count": 20,
     "metadata": {},
     "output_type": "execute_result"
    }
   ],
   "source": [
    "no_last_session_df = users_df[users_df['last_session_creation_time'].isna()]\n",
    "no_last_session_df['creation_source'].value_counts()"
   ]
  },
  {
   "cell_type": "markdown",
   "metadata": {},
   "source": [
    "Not much here, a lot of these coule be personal accounts that were never used, but there sould also be a lot of people who\n",
    "were getting org invites but had no need for the product in their work at the org. These are basically bounced users in some sense. \n",
    "To get around the null values in the column for last session, I'm going to create a couple new columns to capture the info. "
   ]
  },
  {
   "cell_type": "code",
   "execution_count": 21,
   "metadata": {},
   "outputs": [],
   "source": [
    "# convert unix timestamps and cratiion_time column to datetime objects\n",
    "users_df['last_session_creation_timestamp'] = pd.to_datetime(users_df['last_session_creation_time'], unit = 's')\n",
    "users_df['creation_time'] = pd.to_datetime(users_df['creation_time'])"
   ]
  },
  {
   "cell_type": "code",
   "execution_count": 22,
   "metadata": {},
   "outputs": [
    {
     "name": "stdout",
     "output_type": "stream",
     "text": [
      "Of the users that have a non-null last session creation data, there are 3027 users where the creation data and last session date are the same.\n"
     ]
    }
   ],
   "source": [
    "#does the creation time stamp and the last session creation time_stamp match for any rows? \n",
    "matching_timestamps = users_df[users_df['last_session_creation_timestamp']==users_df['creation_time']]\n",
    "print(f'Of the users that have a non-null last session creation data, there are {len(matching_timestamps)} users where the creation data and last session date are the same.')"
   ]
  },
  {
   "cell_type": "markdown",
   "metadata": {},
   "source": [
    "This indicates that the missing values in this column are actually missing values, not users who never logged in again after creating their account as I originally surmised. \n",
    "If the last login date is really missing, there is no way to impute it, it could be anything. That being said, is it possible that the last login data could be gathered from the \n",
    "engagement dataframe? \n"
   ]
  },
  {
   "cell_type": "code",
   "execution_count": 23,
   "metadata": {},
   "outputs": [
    {
     "name": "stdout",
     "output_type": "stream",
     "text": [
      "No user IDs found in the DataFrame.\n"
     ]
    }
   ],
   "source": [
    "\n",
    "# List of user IDs to check\n",
    "user_ids_to_check = no_last_session_df['object_id'].unique().tolist()\n",
    "\n",
    "# Check if any of the user IDs are in the 'user_id' column\n",
    "found_ids = engagement_df['user_id'][engagement_df['user_id'].isin(user_ids_to_check)]\n",
    "\n",
    "if not found_ids.empty:\n",
    "    print(f'Found user IDs: {found_ids.tolist()}')\n",
    "else:\n",
    "    print('No user IDs found in the DataFrame.')\n"
   ]
  },
  {
   "cell_type": "markdown",
   "metadata": {},
   "source": [
    "Looks like the IDs with missing values for last_login are not found in the engagement_df either. \n",
    "I can either drop the last login date column, or drop all the rows with missing values for this column.\n",
    "There are risks either way. If I drop the column, I'm losing a feature, and if I drop the rows, I lose a good portion of my user data. \n",
    "\n",
    "That being said, some of the user login behavior is already captured in the 'adopted_user' column. The positive class there is not defined by\n",
    "the last log in, but rather by logging in on at least 3 days in a seven day period. \n",
    "\n",
    "The last login column also has limited utility in the sense that thousands of rows in the column just reflect the creation date.\n",
    "That tells us that the user is not an adopted user, which could cause data leakage if the column is kept as a feature. \n",
    "\n",
    "I'm just going to remove the column and keep the user info. \n"
   ]
  },
  {
   "cell_type": "code",
   "execution_count": 24,
   "metadata": {},
   "outputs": [],
   "source": [
    "#users_df.drop(columns= ['last_session_creation_time','last_session_creation_timestamp'], inplace = True)\n",
    "users_df.dropna(subset = ['last_session_creation_time'], inplace=True)"
   ]
  },
  {
   "cell_type": "code",
   "execution_count": 25,
   "metadata": {},
   "outputs": [
    {
     "name": "stdout",
     "output_type": "stream",
     "text": [
      "<class 'pandas.core.frame.DataFrame'>\n",
      "Index: 8823 entries, 0 to 11999\n",
      "Data columns (total 11 columns):\n",
      " #   Column                           Non-Null Count  Dtype         \n",
      "---  ------                           --------------  -----         \n",
      " 0   object_id                        8823 non-null   int64         \n",
      " 1   creation_time                    8823 non-null   datetime64[ns]\n",
      " 2   name                             8823 non-null   object        \n",
      " 3   email                            8823 non-null   object        \n",
      " 4   creation_source                  8823 non-null   object        \n",
      " 5   last_session_creation_time       8823 non-null   float64       \n",
      " 6   opted_in_to_mailing_list         8823 non-null   int64         \n",
      " 7   enabled_for_marketing_drip       8823 non-null   int64         \n",
      " 8   org_id                           8823 non-null   int64         \n",
      " 9   adopted_user                     8823 non-null   int64         \n",
      " 10  last_session_creation_timestamp  8823 non-null   datetime64[ns]\n",
      "dtypes: datetime64[ns](2), float64(1), int64(5), object(3)\n",
      "memory usage: 827.2+ KB\n"
     ]
    }
   ],
   "source": [
    "users_df.info()"
   ]
  },
  {
   "cell_type": "markdown",
   "metadata": {},
   "source": [
    "No more null values. I can drop the name and email info as well, since it's redundant with the user_id captured in object id and it's all personal \n",
    "identifying info. I'll keep objectID for now. I can drop it later for modeling if needed."
   ]
  },
  {
   "cell_type": "code",
   "execution_count": 26,
   "metadata": {},
   "outputs": [],
   "source": [
    "# Can drop name and email - They are redundant with ID\n",
    "users_df.drop(columns= ['name','email'], inplace = True)"
   ]
  },
  {
   "cell_type": "code",
   "execution_count": 27,
   "metadata": {},
   "outputs": [
    {
     "name": "stdout",
     "output_type": "stream",
     "text": [
      "<class 'pandas.core.frame.DataFrame'>\n",
      "Index: 8823 entries, 0 to 11999\n",
      "Data columns (total 9 columns):\n",
      " #   Column                           Non-Null Count  Dtype         \n",
      "---  ------                           --------------  -----         \n",
      " 0   object_id                        8823 non-null   int64         \n",
      " 1   creation_time                    8823 non-null   datetime64[ns]\n",
      " 2   creation_source                  8823 non-null   object        \n",
      " 3   last_session_creation_time       8823 non-null   float64       \n",
      " 4   opted_in_to_mailing_list         8823 non-null   int64         \n",
      " 5   enabled_for_marketing_drip       8823 non-null   int64         \n",
      " 6   org_id                           8823 non-null   int64         \n",
      " 7   adopted_user                     8823 non-null   int64         \n",
      " 8   last_session_creation_timestamp  8823 non-null   datetime64[ns]\n",
      "dtypes: datetime64[ns](2), float64(1), int64(5), object(1)\n",
      "memory usage: 689.3+ KB\n"
     ]
    }
   ],
   "source": [
    "users_df.info()"
   ]
  },
  {
   "cell_type": "markdown",
   "metadata": {},
   "source": [
    "## Create feature for time on platform"
   ]
  },
  {
   "cell_type": "code",
   "execution_count": 28,
   "metadata": {},
   "outputs": [
    {
     "data": {
      "text/html": [
       "<div>\n",
       "<style scoped>\n",
       "    .dataframe tbody tr th:only-of-type {\n",
       "        vertical-align: middle;\n",
       "    }\n",
       "\n",
       "    .dataframe tbody tr th {\n",
       "        vertical-align: top;\n",
       "    }\n",
       "\n",
       "    .dataframe thead th {\n",
       "        text-align: right;\n",
       "    }\n",
       "</style>\n",
       "<table border=\"1\" class=\"dataframe\">\n",
       "  <thead>\n",
       "    <tr style=\"text-align: right;\">\n",
       "      <th></th>\n",
       "      <th>object_id</th>\n",
       "      <th>creation_time</th>\n",
       "      <th>creation_source</th>\n",
       "      <th>last_session_creation_time</th>\n",
       "      <th>opted_in_to_mailing_list</th>\n",
       "      <th>enabled_for_marketing_drip</th>\n",
       "      <th>org_id</th>\n",
       "      <th>adopted_user</th>\n",
       "      <th>last_session_creation_timestamp</th>\n",
       "    </tr>\n",
       "  </thead>\n",
       "  <tbody>\n",
       "    <tr>\n",
       "      <th>0</th>\n",
       "      <td>1</td>\n",
       "      <td>2014-04-22 03:53:30</td>\n",
       "      <td>GUEST_INVITE</td>\n",
       "      <td>1.398139e+09</td>\n",
       "      <td>1</td>\n",
       "      <td>0</td>\n",
       "      <td>11</td>\n",
       "      <td>0</td>\n",
       "      <td>2014-04-22 03:53:30</td>\n",
       "    </tr>\n",
       "    <tr>\n",
       "      <th>1</th>\n",
       "      <td>2</td>\n",
       "      <td>2013-11-15 03:45:04</td>\n",
       "      <td>ORG_INVITE</td>\n",
       "      <td>1.396238e+09</td>\n",
       "      <td>0</td>\n",
       "      <td>0</td>\n",
       "      <td>1</td>\n",
       "      <td>1</td>\n",
       "      <td>2014-03-31 03:45:04</td>\n",
       "    </tr>\n",
       "    <tr>\n",
       "      <th>2</th>\n",
       "      <td>3</td>\n",
       "      <td>2013-03-19 23:14:52</td>\n",
       "      <td>ORG_INVITE</td>\n",
       "      <td>1.363735e+09</td>\n",
       "      <td>0</td>\n",
       "      <td>0</td>\n",
       "      <td>94</td>\n",
       "      <td>0</td>\n",
       "      <td>2013-03-19 23:14:52</td>\n",
       "    </tr>\n",
       "    <tr>\n",
       "      <th>3</th>\n",
       "      <td>4</td>\n",
       "      <td>2013-05-21 08:09:28</td>\n",
       "      <td>GUEST_INVITE</td>\n",
       "      <td>1.369210e+09</td>\n",
       "      <td>0</td>\n",
       "      <td>0</td>\n",
       "      <td>1</td>\n",
       "      <td>0</td>\n",
       "      <td>2013-05-22 08:09:28</td>\n",
       "    </tr>\n",
       "    <tr>\n",
       "      <th>4</th>\n",
       "      <td>5</td>\n",
       "      <td>2013-01-17 10:14:20</td>\n",
       "      <td>GUEST_INVITE</td>\n",
       "      <td>1.358850e+09</td>\n",
       "      <td>0</td>\n",
       "      <td>0</td>\n",
       "      <td>193</td>\n",
       "      <td>0</td>\n",
       "      <td>2013-01-22 10:14:20</td>\n",
       "    </tr>\n",
       "  </tbody>\n",
       "</table>\n",
       "</div>"
      ],
      "text/plain": [
       "   object_id       creation_time creation_source  last_session_creation_time  \\\n",
       "0          1 2014-04-22 03:53:30    GUEST_INVITE                1.398139e+09   \n",
       "1          2 2013-11-15 03:45:04      ORG_INVITE                1.396238e+09   \n",
       "2          3 2013-03-19 23:14:52      ORG_INVITE                1.363735e+09   \n",
       "3          4 2013-05-21 08:09:28    GUEST_INVITE                1.369210e+09   \n",
       "4          5 2013-01-17 10:14:20    GUEST_INVITE                1.358850e+09   \n",
       "\n",
       "   opted_in_to_mailing_list  enabled_for_marketing_drip  org_id  adopted_user  \\\n",
       "0                         1                           0      11             0   \n",
       "1                         0                           0       1             1   \n",
       "2                         0                           0      94             0   \n",
       "3                         0                           0       1             0   \n",
       "4                         0                           0     193             0   \n",
       "\n",
       "  last_session_creation_timestamp  \n",
       "0             2014-04-22 03:53:30  \n",
       "1             2014-03-31 03:45:04  \n",
       "2             2013-03-19 23:14:52  \n",
       "3             2013-05-22 08:09:28  \n",
       "4             2013-01-22 10:14:20  "
      ]
     },
     "execution_count": 28,
     "metadata": {},
     "output_type": "execute_result"
    }
   ],
   "source": [
    "users_df.head()"
   ]
  },
  {
   "cell_type": "code",
   "execution_count": 29,
   "metadata": {},
   "outputs": [
    {
     "name": "stdout",
     "output_type": "stream",
     "text": [
      "<class 'pandas.core.frame.DataFrame'>\n",
      "Index: 8823 entries, 0 to 11999\n",
      "Data columns (total 10 columns):\n",
      " #   Column                                Non-Null Count  Dtype         \n",
      "---  ------                                --------------  -----         \n",
      " 0   object_id                             8823 non-null   int64         \n",
      " 1   creation_time                         8823 non-null   datetime64[ns]\n",
      " 2   creation_source                       8823 non-null   object        \n",
      " 3   last_session_creation_time            8823 non-null   float64       \n",
      " 4   opted_in_to_mailing_list              8823 non-null   int64         \n",
      " 5   enabled_for_marketing_drip            8823 non-null   int64         \n",
      " 6   org_id                                8823 non-null   int64         \n",
      " 7   adopted_user                          8823 non-null   int64         \n",
      " 8   last_session_creation_timestamp       8823 non-null   datetime64[ns]\n",
      " 9   time_between_creation_and_last_login  8823 non-null   int64         \n",
      "dtypes: datetime64[ns](2), float64(1), int64(6), object(1)\n",
      "memory usage: 758.2+ KB\n"
     ]
    }
   ],
   "source": [
    "users_df['time_between_creation_and_last_login'] = users_df['last_session_creation_timestamp'] - users_df['creation_time']\n",
    "users_df['time_between_creation_and_last_login'] = users_df['time_between_creation_and_last_login'].dt.days.astype(int)\n",
    "\n",
    "users_df.info()"
   ]
  },
  {
   "cell_type": "code",
   "execution_count": 30,
   "metadata": {},
   "outputs": [
    {
     "data": {
      "text/html": [
       "<div>\n",
       "<style scoped>\n",
       "    .dataframe tbody tr th:only-of-type {\n",
       "        vertical-align: middle;\n",
       "    }\n",
       "\n",
       "    .dataframe tbody tr th {\n",
       "        vertical-align: top;\n",
       "    }\n",
       "\n",
       "    .dataframe thead th {\n",
       "        text-align: right;\n",
       "    }\n",
       "</style>\n",
       "<table border=\"1\" class=\"dataframe\">\n",
       "  <thead>\n",
       "    <tr style=\"text-align: right;\">\n",
       "      <th></th>\n",
       "      <th>object_id</th>\n",
       "      <th>creation_time</th>\n",
       "      <th>creation_source</th>\n",
       "      <th>last_session_creation_time</th>\n",
       "      <th>opted_in_to_mailing_list</th>\n",
       "      <th>enabled_for_marketing_drip</th>\n",
       "      <th>org_id</th>\n",
       "      <th>adopted_user</th>\n",
       "      <th>last_session_creation_timestamp</th>\n",
       "      <th>time_between_creation_and_last_login</th>\n",
       "    </tr>\n",
       "  </thead>\n",
       "  <tbody>\n",
       "    <tr>\n",
       "      <th>0</th>\n",
       "      <td>1</td>\n",
       "      <td>2014-04-22 03:53:30</td>\n",
       "      <td>GUEST_INVITE</td>\n",
       "      <td>1.398139e+09</td>\n",
       "      <td>1</td>\n",
       "      <td>0</td>\n",
       "      <td>11</td>\n",
       "      <td>0</td>\n",
       "      <td>2014-04-22 03:53:30</td>\n",
       "      <td>0</td>\n",
       "    </tr>\n",
       "    <tr>\n",
       "      <th>1</th>\n",
       "      <td>2</td>\n",
       "      <td>2013-11-15 03:45:04</td>\n",
       "      <td>ORG_INVITE</td>\n",
       "      <td>1.396238e+09</td>\n",
       "      <td>0</td>\n",
       "      <td>0</td>\n",
       "      <td>1</td>\n",
       "      <td>1</td>\n",
       "      <td>2014-03-31 03:45:04</td>\n",
       "      <td>136</td>\n",
       "    </tr>\n",
       "    <tr>\n",
       "      <th>2</th>\n",
       "      <td>3</td>\n",
       "      <td>2013-03-19 23:14:52</td>\n",
       "      <td>ORG_INVITE</td>\n",
       "      <td>1.363735e+09</td>\n",
       "      <td>0</td>\n",
       "      <td>0</td>\n",
       "      <td>94</td>\n",
       "      <td>0</td>\n",
       "      <td>2013-03-19 23:14:52</td>\n",
       "      <td>0</td>\n",
       "    </tr>\n",
       "    <tr>\n",
       "      <th>3</th>\n",
       "      <td>4</td>\n",
       "      <td>2013-05-21 08:09:28</td>\n",
       "      <td>GUEST_INVITE</td>\n",
       "      <td>1.369210e+09</td>\n",
       "      <td>0</td>\n",
       "      <td>0</td>\n",
       "      <td>1</td>\n",
       "      <td>0</td>\n",
       "      <td>2013-05-22 08:09:28</td>\n",
       "      <td>1</td>\n",
       "    </tr>\n",
       "    <tr>\n",
       "      <th>4</th>\n",
       "      <td>5</td>\n",
       "      <td>2013-01-17 10:14:20</td>\n",
       "      <td>GUEST_INVITE</td>\n",
       "      <td>1.358850e+09</td>\n",
       "      <td>0</td>\n",
       "      <td>0</td>\n",
       "      <td>193</td>\n",
       "      <td>0</td>\n",
       "      <td>2013-01-22 10:14:20</td>\n",
       "      <td>5</td>\n",
       "    </tr>\n",
       "  </tbody>\n",
       "</table>\n",
       "</div>"
      ],
      "text/plain": [
       "   object_id       creation_time creation_source  last_session_creation_time  \\\n",
       "0          1 2014-04-22 03:53:30    GUEST_INVITE                1.398139e+09   \n",
       "1          2 2013-11-15 03:45:04      ORG_INVITE                1.396238e+09   \n",
       "2          3 2013-03-19 23:14:52      ORG_INVITE                1.363735e+09   \n",
       "3          4 2013-05-21 08:09:28    GUEST_INVITE                1.369210e+09   \n",
       "4          5 2013-01-17 10:14:20    GUEST_INVITE                1.358850e+09   \n",
       "\n",
       "   opted_in_to_mailing_list  enabled_for_marketing_drip  org_id  adopted_user  \\\n",
       "0                         1                           0      11             0   \n",
       "1                         0                           0       1             1   \n",
       "2                         0                           0      94             0   \n",
       "3                         0                           0       1             0   \n",
       "4                         0                           0     193             0   \n",
       "\n",
       "  last_session_creation_timestamp  time_between_creation_and_last_login  \n",
       "0             2014-04-22 03:53:30                                     0  \n",
       "1             2014-03-31 03:45:04                                   136  \n",
       "2             2013-03-19 23:14:52                                     0  \n",
       "3             2013-05-22 08:09:28                                     1  \n",
       "4             2013-01-22 10:14:20                                     5  "
      ]
     },
     "execution_count": 30,
     "metadata": {},
     "output_type": "execute_result"
    }
   ],
   "source": [
    "users_df.head()"
   ]
  },
  {
   "cell_type": "markdown",
   "metadata": {},
   "source": [
    "# Feature Comparisons"
   ]
  },
  {
   "cell_type": "code",
   "execution_count": 31,
   "metadata": {},
   "outputs": [],
   "source": [
    "adopted_df = users_df[users_df['adopted_user']==1]\n",
    "not_adopted_df = users_df[users_df['adopted_user']==0]"
   ]
  },
  {
   "cell_type": "markdown",
   "metadata": {},
   "source": [
    "### Opted into mailing list"
   ]
  },
  {
   "cell_type": "code",
   "execution_count": 41,
   "metadata": {},
   "outputs": [
    {
     "data": {
      "image/png": "[encoded data removed]",
      "text/plain": [
       "<Figure size 800x500 with 1 Axes>"
      ]
     },
     "metadata": {},
     "output_type": "display_data"
    }
   ],
   "source": [
    "percentages_adopted = adopted_df['opted_in_to_mailing_list'].value_counts(normalize=True) * 100\n",
    "percentages_not_adopted = not_adopted_df['opted_in_to_mailing_list'].value_counts(normalize=True) * 100\n",
    "\n",
    "# Create a side-by-side bar chart\n",
    "labels = ['Opted out', 'Opted In']  # Labels for the binary values\n",
    "bar_width = 0.35     # Width of the bars\n",
    "x = range(len(labels))  # X positions for the bars\n",
    "\n",
    "# Create a figure and axis\n",
    "fig, ax = plt.subplots(figsize=(8, 5))\n",
    "\n",
    "# Create bars for each column\n",
    "bars1 = ax.bar(x, percentages_adopted, width=bar_width, label='Adopted users', color='Tab:blue')\n",
    "bars2 = ax.bar([p + bar_width for p in x], percentages_not_adopted, width=bar_width, label='Not adopted users', color='Tab:orange')\n",
    "\n",
    "# Add title and labels\n",
    "ax.set_title('Opting into mailing list')\n",
    "#ax.set_xlabel('Binary Values')\n",
    "ax.set_ylabel('% of user group')\n",
    "ax.set_xticks([p + bar_width / 2 for p in x])\n",
    "ax.set_xticklabels(labels)\n",
    "\n",
    "# Add legend\n",
    "ax.legend()\n",
    "\n",
    "# Show the percentages on top of the bars\n",
    "for bar in bars1 + bars2:\n",
    "    height = bar.get_height()\n",
    "    ax.text(bar.get_x() + bar.get_width() / 2, height + 1, f'{height:.2f}%', ha='center')\n",
    "\n",
    "# Show the plot\n",
    "plt.tight_layout()\n",
    "plt.show()"
   ]
  },
  {
   "cell_type": "markdown",
   "metadata": {},
   "source": [
    "### Enabled for marketing drip"
   ]
  },
  {
   "cell_type": "code",
   "execution_count": 40,
   "metadata": {},
   "outputs": [
    {
     "data": {
      "image/png": "[encoded data removed]",
      "text/plain": [
       "<Figure size 800x500 with 1 Axes>"
      ]
     },
     "metadata": {},
     "output_type": "display_data"
    }
   ],
   "source": [
    "percentages_adopted = adopted_df['enabled_for_marketing_drip'].value_counts(normalize=True) * 100\n",
    "percentages_not_adopted = not_adopted_df['enabled_for_marketing_drip'].value_counts(normalize=True) * 100\n",
    "\n",
    "# Create a side-by-side bar chart\n",
    "labels = ['Not Enabled', 'Enabled']  # Labels for the binary values\n",
    "bar_width = 0.35     # Width of the bars\n",
    "x = range(len(labels))  # X positions for the bars\n",
    "\n",
    "# Create a figure and axis\n",
    "fig, ax = plt.subplots(figsize=(8, 5))\n",
    "\n",
    "# Create bars for each column\n",
    "bars1 = ax.bar(x, percentages_adopted, width=bar_width, label='Adopted users', color='Tab:Blue')\n",
    "bars2 = ax.bar([p + bar_width for p in x], percentages_not_adopted, width=bar_width, label='Not adopted users', color='Tab:orange')\n",
    "\n",
    "# Add title and labels\n",
    "ax.set_title('Enabled for Marketing Drip')\n",
    "#ax.set_xlabel('Binary Values')\n",
    "ax.set_ylabel('% of user group')\n",
    "ax.set_xticks([p + bar_width / 2 for p in x])\n",
    "ax.set_xticklabels(labels)\n",
    "\n",
    "# Add legend\n",
    "ax.legend()\n",
    "\n",
    "# Show the percentages on top of the bars\n",
    "for bar in bars1 + bars2:\n",
    "    height = bar.get_height()\n",
    "    ax.text(bar.get_x() + bar.get_width() / 2, height + 1, f'{height:.2f}%', ha='center')\n",
    "\n",
    "# Show the plot\n",
    "plt.tight_layout()\n",
    "plt.show()"
   ]
  },
  {
   "cell_type": "markdown",
   "metadata": {},
   "source": [
    "### Creation Source"
   ]
  },
  {
   "cell_type": "code",
   "execution_count": 44,
   "metadata": {},
   "outputs": [
    {
     "data": {
      "image/png": "[encoded data removed]",
      "text/plain": [
       "<Figure size 1000x800 with 1 Axes>"
      ]
     },
     "metadata": {},
     "output_type": "display_data"
    }
   ],
   "source": [
    "adopted_creation_source = adopted_df['creation_source'].value_counts(normalize=True) * 100\n",
    "adopted_creation_source_list = adopted_creation_source.tolist()\n",
    "adopted_creation_source_list\n",
    "\n",
    "not_adopted_creation_source = not_adopted_df['creation_source'].value_counts(normalize=True) * 100\n",
    "not_adopted_creation_source_list = not_adopted_creation_source.tolist()\n",
    "not_adopted_creation_source_list\n",
    "\n",
    "# Create a side-by-side bar chart\n",
    "labels = adopted_df['creation_source'].unique().tolist()  # Labels for the binary values\n",
    "bar_width = 0.35     # Width of the bars\n",
    "x = range(len(labels))  # X positions for the bars\n",
    "\n",
    "# Create a figure and axis\n",
    "fig, ax = plt.subplots(figsize=(10, 8))\n",
    "\n",
    "# Create bars for each column\n",
    "bars1 = ax.bar(x, adopted_creation_source_list, width=bar_width, label='Adopted users', color='Tab:blue')\n",
    "bars2 = ax.bar([p + bar_width for p in x], not_adopted_creation_source_list, width=bar_width, label='Not adopted users', color='Tab:orange')\n",
    "\n",
    "# Add title and labels\n",
    "ax.set_title('Account Creation Source')\n",
    "#ax.set_xlabel('Account Creation Source')\n",
    "ax.set_ylabel('% of user group')\n",
    "ax.set_xticks([p + bar_width / 2 for p in x])\n",
    "ax.set_xticklabels(labels)\n",
    "\n",
    "# Add legend\n",
    "ax.legend()\n",
    "\n",
    "# Show the percentages on top of the bars\n",
    "for bar in bars1 + bars2:\n",
    "    height = bar.get_height()\n",
    "    ax.text(bar.get_x() + bar.get_width() / 2, height + 1, f'{height:.2f}', ha='center')\n",
    "\n",
    "# Show the plot\n",
    "plt.tight_layout()\n",
    "plt.show()"
   ]
  },
  {
   "cell_type": "markdown",
   "metadata": {},
   "source": [
    "### Org ID"
   ]
  },
  {
   "cell_type": "code",
   "execution_count": 45,
   "metadata": {},
   "outputs": [
    {
     "name": "stdout",
     "output_type": "stream",
     "text": [
      "There are 400 unique organizations for the adopted users\n",
      "There are 417 unique organizations for the non-adopted users\n"
     ]
    }
   ],
   "source": [
    "print(f\"There are {len(adopted_df['org_id'].unique())} unique organizations for the adopted users\")\n",
    "print(f\"There are {len(not_adopted_df['org_id'].unique())} unique organizations for the non-adopted users\")"
   ]
  },
  {
   "cell_type": "code",
   "execution_count": 47,
   "metadata": {},
   "outputs": [],
   "source": [
    "organizations_list = []\n",
    "adopted_percentages_list = []\n",
    "not_adopted_percentages_list = []\n",
    "\n",
    "for org in users_df['org_id'].value_counts().head(10).index:\n",
    "\n",
    "    total_org_users = len(users_df[users_df['org_id']== org])\n",
    "    adopted_org_users = len(adopted_df[adopted_df['org_id']== org]) # Number of adopted users for this org\n",
    "    non_adopted_org_users = len(not_adopted_df[not_adopted_df['org_id']== org]) # Number of not adopted users for this org\n",
    "    adopted_users_percent = (adopted_org_users/ len(adopted_df))*100 # % of all adopted users associated with this org\n",
    "    non_adopted_users_percent = (non_adopted_org_users/ len(not_adopted_df))*100  # % of all not_adopted users associated with this org\n",
    "    \n",
    "\n",
    "\n",
    "\n",
    "    organizations_list.append(str(org))\n",
    "    adopted_percentages_list.append(adopted_users_percent)\n",
    "    not_adopted_percentages_list.append(non_adopted_users_percent)"
   ]
  },
  {
   "cell_type": "code",
   "execution_count": 48,
   "metadata": {},
   "outputs": [
    {
     "data": {
      "image/png": "[encoded data removed]",
      "text/plain": [
       "<Figure size 1200x600 with 2 Axes>"
      ]
     },
     "metadata": {},
     "output_type": "display_data"
    }
   ],
   "source": [
    "x_labels = organizations_list\n",
    "y_values1 = adopted_percentages_list  # Y-axis values for the first bar chart\n",
    "y_values2 = not_adopted_percentages_list  # Y-axis values for the second bar chart\n",
    "\n",
    "# Set up the figure and axes\n",
    "fig, (ax1, ax2) = plt.subplots(1, 2, figsize=(12, 6))\n",
    "\n",
    "# First bar chart\n",
    "ax1.bar(organizations_list, adopted_percentages_list, color='Tab:blue')\n",
    "ax1.set_title('Organizations for adopted users')\n",
    "ax1.set_xlabel('Organizaton ID number')\n",
    "ax1.set_ylabel('% of adopted users with this org')\n",
    "ax1.set_xticks(organizations_list)\n",
    "\n",
    "# Second bar chart\n",
    "ax2.bar(organizations_list, not_adopted_percentages_list, color='Tab:orange')\n",
    "ax2.set_title('Organizations for not_adopted users')\n",
    "ax2.set_xlabel('Organizaton ID number')\n",
    "ax1.set_ylabel('% of adopted users with this org')\n",
    "ax2.set_xticks(organizations_list)\n",
    "\n",
    "# Display the plot\n",
    "plt.tight_layout()\n",
    "plt.show()"
   ]
  },
  {
   "cell_type": "markdown",
   "metadata": {},
   "source": [
    "Here we see the percentage of adopted and non-adopted users broken down by the organizations with the most members associated with them. \n",
    "No organization has a majority of either group. In fact, only a few of the top 10 organizations have more than a 1% share of adopted or not-adopted users. \n",
    "It does not seem like a specific organization is making the difference in user adoption."
   ]
  },
  {
   "cell_type": "markdown",
   "metadata": {},
   "source": [
    "# Modeling"
   ]
  },
  {
   "cell_type": "code",
   "execution_count": 49,
   "metadata": {},
   "outputs": [
    {
     "data": {
      "text/html": [
       "<div>\n",
       "<style scoped>\n",
       "    .dataframe tbody tr th:only-of-type {\n",
       "        vertical-align: middle;\n",
       "    }\n",
       "\n",
       "    .dataframe tbody tr th {\n",
       "        vertical-align: top;\n",
       "    }\n",
       "\n",
       "    .dataframe thead th {\n",
       "        text-align: right;\n",
       "    }\n",
       "</style>\n",
       "<table border=\"1\" class=\"dataframe\">\n",
       "  <thead>\n",
       "    <tr style=\"text-align: right;\">\n",
       "      <th></th>\n",
       "      <th>object_id</th>\n",
       "      <th>creation_time</th>\n",
       "      <th>creation_source</th>\n",
       "      <th>last_session_creation_time</th>\n",
       "      <th>opted_in_to_mailing_list</th>\n",
       "      <th>enabled_for_marketing_drip</th>\n",
       "      <th>org_id</th>\n",
       "      <th>adopted_user</th>\n",
       "      <th>last_session_creation_timestamp</th>\n",
       "      <th>time_between_creation_and_last_login</th>\n",
       "    </tr>\n",
       "  </thead>\n",
       "  <tbody>\n",
       "    <tr>\n",
       "      <th>0</th>\n",
       "      <td>1</td>\n",
       "      <td>2014-04-22 03:53:30</td>\n",
       "      <td>GUEST_INVITE</td>\n",
       "      <td>1.398139e+09</td>\n",
       "      <td>1</td>\n",
       "      <td>0</td>\n",
       "      <td>11</td>\n",
       "      <td>0</td>\n",
       "      <td>2014-04-22 03:53:30</td>\n",
       "      <td>0</td>\n",
       "    </tr>\n",
       "    <tr>\n",
       "      <th>1</th>\n",
       "      <td>2</td>\n",
       "      <td>2013-11-15 03:45:04</td>\n",
       "      <td>ORG_INVITE</td>\n",
       "      <td>1.396238e+09</td>\n",
       "      <td>0</td>\n",
       "      <td>0</td>\n",
       "      <td>1</td>\n",
       "      <td>1</td>\n",
       "      <td>2014-03-31 03:45:04</td>\n",
       "      <td>136</td>\n",
       "    </tr>\n",
       "    <tr>\n",
       "      <th>2</th>\n",
       "      <td>3</td>\n",
       "      <td>2013-03-19 23:14:52</td>\n",
       "      <td>ORG_INVITE</td>\n",
       "      <td>1.363735e+09</td>\n",
       "      <td>0</td>\n",
       "      <td>0</td>\n",
       "      <td>94</td>\n",
       "      <td>0</td>\n",
       "      <td>2013-03-19 23:14:52</td>\n",
       "      <td>0</td>\n",
       "    </tr>\n",
       "    <tr>\n",
       "      <th>3</th>\n",
       "      <td>4</td>\n",
       "      <td>2013-05-21 08:09:28</td>\n",
       "      <td>GUEST_INVITE</td>\n",
       "      <td>1.369210e+09</td>\n",
       "      <td>0</td>\n",
       "      <td>0</td>\n",
       "      <td>1</td>\n",
       "      <td>0</td>\n",
       "      <td>2013-05-22 08:09:28</td>\n",
       "      <td>1</td>\n",
       "    </tr>\n",
       "    <tr>\n",
       "      <th>4</th>\n",
       "      <td>5</td>\n",
       "      <td>2013-01-17 10:14:20</td>\n",
       "      <td>GUEST_INVITE</td>\n",
       "      <td>1.358850e+09</td>\n",
       "      <td>0</td>\n",
       "      <td>0</td>\n",
       "      <td>193</td>\n",
       "      <td>0</td>\n",
       "      <td>2013-01-22 10:14:20</td>\n",
       "      <td>5</td>\n",
       "    </tr>\n",
       "  </tbody>\n",
       "</table>\n",
       "</div>"
      ],
      "text/plain": [
       "   object_id       creation_time creation_source  last_session_creation_time  \\\n",
       "0          1 2014-04-22 03:53:30    GUEST_INVITE                1.398139e+09   \n",
       "1          2 2013-11-15 03:45:04      ORG_INVITE                1.396238e+09   \n",
       "2          3 2013-03-19 23:14:52      ORG_INVITE                1.363735e+09   \n",
       "3          4 2013-05-21 08:09:28    GUEST_INVITE                1.369210e+09   \n",
       "4          5 2013-01-17 10:14:20    GUEST_INVITE                1.358850e+09   \n",
       "\n",
       "   opted_in_to_mailing_list  enabled_for_marketing_drip  org_id  adopted_user  \\\n",
       "0                         1                           0      11             0   \n",
       "1                         0                           0       1             1   \n",
       "2                         0                           0      94             0   \n",
       "3                         0                           0       1             0   \n",
       "4                         0                           0     193             0   \n",
       "\n",
       "  last_session_creation_timestamp  time_between_creation_and_last_login  \n",
       "0             2014-04-22 03:53:30                                     0  \n",
       "1             2014-03-31 03:45:04                                   136  \n",
       "2             2013-03-19 23:14:52                                     0  \n",
       "3             2013-05-22 08:09:28                                     1  \n",
       "4             2013-01-22 10:14:20                                     5  "
      ]
     },
     "execution_count": 49,
     "metadata": {},
     "output_type": "execute_result"
    }
   ],
   "source": [
    "users_df.head()"
   ]
  },
  {
   "cell_type": "code",
   "execution_count": 50,
   "metadata": {},
   "outputs": [],
   "source": [
    "# drop ID column - not needed for modeling\n",
    "users_df.drop(columns= ['object_id'], inplace = True)"
   ]
  },
  {
   "cell_type": "markdown",
   "metadata": {},
   "source": [
    "## Extract creation_time features"
   ]
  },
  {
   "cell_type": "code",
   "execution_count": 51,
   "metadata": {},
   "outputs": [],
   "source": [
    "#sign_up_date\n",
    "#users_df['creation_year'] = users_df['creation_time'].dt.year\n",
    "#users_df['creation_month'] = users_df['creation_time'].dt.month\n",
    "#users_df['creation_day'] = users_df['creation_time'].dt.day\n",
    "\n",
    "users_df.drop(columns= ['creation_time'], inplace = True)\n",
    "\n",
    "\n",
    "#users_df['last_sign_in_year'] = users_df['last_session_creation_timestamp'].dt.year\n",
    "#users_df['last_sign_in_year'] = users_df['last_session_creation_timestamp'].dt.month\n",
    "#users_df['last_sign_in_year'] = users_df['last_session_creation_timestamp'].dt.day\n",
    "\n",
    "users_df.drop(columns= ['last_session_creation_timestamp', 'last_session_creation_time'], inplace = True)"
   ]
  },
  {
   "cell_type": "markdown",
   "metadata": {},
   "source": [
    "## Encode Categorical variables"
   ]
  },
  {
   "cell_type": "code",
   "execution_count": 52,
   "metadata": {},
   "outputs": [],
   "source": [
    "users_df = pd.get_dummies(users_df, columns=['creation_source'], drop_first=True)"
   ]
  },
  {
   "cell_type": "code",
   "execution_count": 53,
   "metadata": {},
   "outputs": [
    {
     "name": "stdout",
     "output_type": "stream",
     "text": [
      "<class 'pandas.core.frame.DataFrame'>\n",
      "Index: 8823 entries, 0 to 11999\n",
      "Data columns (total 9 columns):\n",
      " #   Column                                Non-Null Count  Dtype\n",
      "---  ------                                --------------  -----\n",
      " 0   opted_in_to_mailing_list              8823 non-null   int64\n",
      " 1   enabled_for_marketing_drip            8823 non-null   int64\n",
      " 2   org_id                                8823 non-null   int64\n",
      " 3   adopted_user                          8823 non-null   int64\n",
      " 4   time_between_creation_and_last_login  8823 non-null   int64\n",
      " 5   creation_source_ORG_INVITE            8823 non-null   bool \n",
      " 6   creation_source_PERSONAL_PROJECTS     8823 non-null   bool \n",
      " 7   creation_source_SIGNUP                8823 non-null   bool \n",
      " 8   creation_source_SIGNUP_GOOGLE_AUTH    8823 non-null   bool \n",
      "dtypes: bool(4), int64(5)\n",
      "memory usage: 448.0 KB\n"
     ]
    }
   ],
   "source": [
    "users_df.info()"
   ]
  },
  {
   "cell_type": "code",
   "execution_count": 54,
   "metadata": {},
   "outputs": [],
   "source": [
    "X = users_df.drop('adopted_user', axis=1)  \n",
    "y = users_df['adopted_user']"
   ]
  },
  {
   "cell_type": "code",
   "execution_count": 55,
   "metadata": {},
   "outputs": [
    {
     "data": {
      "text/plain": [
       "adopted_user\n",
       "0    0.818429\n",
       "1    0.181571\n",
       "Name: proportion, dtype: float64"
      ]
     },
     "execution_count": 55,
     "metadata": {},
     "output_type": "execute_result"
    }
   ],
   "source": [
    "y.value_counts(normalize=True)"
   ]
  },
  {
   "cell_type": "code",
   "execution_count": 56,
   "metadata": {},
   "outputs": [],
   "source": [
    "X_train, X_test, y_train, y_test = train_test_split(X, y, test_size=0.2, random_state=42,stratify=y)"
   ]
  },
  {
   "cell_type": "code",
   "execution_count": 57,
   "metadata": {},
   "outputs": [
    {
     "data": {
      "text/plain": [
       "adopted_user\n",
       "0    0.818697\n",
       "1    0.181303\n",
       "Name: proportion, dtype: float64"
      ]
     },
     "execution_count": 57,
     "metadata": {},
     "output_type": "execute_result"
    }
   ],
   "source": [
    "#check that class imbalance is maintained using stratify for train test split\n",
    "y_train.value_counts(normalize=True)\n",
    "y_test.value_counts(normalize=True)\n"
   ]
  },
  {
   "cell_type": "markdown",
   "metadata": {},
   "source": [
    "## Random Forest"
   ]
  },
  {
   "cell_type": "code",
   "execution_count": 63,
   "metadata": {},
   "outputs": [
    {
     "name": "stdout",
     "output_type": "stream",
     "text": [
      "Accuracy Scores: [0.96246459 0.9674221  0.96246459 0.95960312 0.9546421 ]\n",
      "F1 Scores: [0.89708738 0.90980392 0.8962818  0.88247423 0.87351779]\n",
      "ROC AUC Scores: [0.98897536 0.98130948 0.9884992  0.98285647 0.97758557]\n",
      "Precision: [0.89534884 0.91699605 0.89803922 0.93449782 0.884     ]\n",
      "Recall: [0.89883268 0.90272374 0.89453125 0.8359375  0.86328125]\n"
     ]
    }
   ],
   "source": [
    "# Create the Random Forest model\n",
    "rf_baseline_model = RandomForestClassifier(random_state=42)  # You can adjust n_estimators\n",
    "\n",
    "#generate cross_validation scores\n",
    "rf_baseline_accuracy_scores = cross_val_score(rf_baseline_model, X_train, y_train, cv=5, scoring='accuracy')\n",
    "rf_baseline_f1_scores = cross_val_score(rf_baseline_model, X_train, y_train, cv=5, scoring='f1')\n",
    "rf_baseline_roc_auc_scores = cross_val_score(rf_baseline_model, X_train, y_train, cv=5, scoring='roc_auc')\n",
    "rf_baseline_precision = cross_val_score(rf_baseline_model, X_train, y_train, cv=5, scoring='precision')\n",
    "rf_baseline_recall = cross_val_score(rf_baseline_model, X_train, y_train, cv=5, scoring='recall')\n",
    "\n",
    "# Print the scores\n",
    "print(\"Accuracy Scores:\", rf_baseline_accuracy_scores)\n",
    "print(\"F1 Scores:\", rf_baseline_f1_scores)\n",
    "print(\"ROC AUC Scores:\", rf_baseline_roc_auc_scores)\n",
    "print(\"Precision:\", rf_baseline_precision)\n",
    "print(\"Recall:\", rf_baseline_recall)"
   ]
  },
  {
   "cell_type": "markdown",
   "metadata": {},
   "source": [
    "## XGBoost"
   ]
  },
  {
   "cell_type": "code",
   "execution_count": 59,
   "metadata": {},
   "outputs": [
    {
     "name": "stdout",
     "output_type": "stream",
     "text": [
      "Accuracy Scores: [0.96175637 0.95750708 0.95892351 0.95818568 0.95251595]\n",
      "F1 Scores: [0.89534884 0.8828125  0.88582677 0.8788501  0.86732673]\n",
      "ROC AUC Scores: [0.99005508 0.98981421 0.99215033 0.9892891  0.9870096 ]\n",
      "Precision: [0.89189189 0.88627451 0.89285714 0.92640693 0.87951807]\n",
      "Recall: [0.89883268 0.87937743 0.87890625 0.8359375  0.85546875]\n"
     ]
    }
   ],
   "source": [
    "xgb_baseline_model = XGBClassifier(use_label_encoder=False, eval_metric='logloss')\n",
    "\n",
    "xgb_baseline_accuracy_scores = cross_val_score(xgb_baseline_model, X_train, y_train, cv=5, scoring='accuracy')\n",
    "xgb_baseline_f1_scores = cross_val_score(xgb_baseline_model, X_train, y_train, cv=5, scoring='f1')\n",
    "xgb_baseline_roc_auc_scores = cross_val_score(xgb_baseline_model, X_train, y_train, cv=5, scoring='roc_auc')\n",
    "xgb_baseline_precision = cross_val_score(xgb_baseline_model, X_train, y_train, cv=5, scoring='precision')\n",
    "xgb_baseline_recall = cross_val_score(xgb_baseline_model, X_train, y_train, cv=5, scoring='recall')\n",
    "\n",
    "# Print the scores\n",
    "print(\"Accuracy Scores:\", xgb_baseline_accuracy_scores)\n",
    "print(\"F1 Scores:\", xgb_baseline_f1_scores)\n",
    "print(\"ROC AUC Scores:\", xgb_baseline_roc_auc_scores)\n",
    "print(\"Precision:\", xgb_baseline_precision)\n",
    "print(\"Recall:\", xgb_baseline_recall)"
   ]
  },
  {
   "cell_type": "markdown",
   "metadata": {},
   "source": [
    "## ADA Boost"
   ]
  },
  {
   "cell_type": "code",
   "execution_count": 61,
   "metadata": {},
   "outputs": [],
   "source": [
    "# Base model for AdaBoost (usually a Decision Tree with a low max depth)\n",
    "base_model = DecisionTreeClassifier(max_depth=1)\n",
    "\n",
    "# Initialize AdaBoost with the base model\n",
    "ada_boost_baseline = AdaBoostClassifier(\n",
    "    base_estimator=base_model, \n",
    "    n_estimators=100,           # Number of boosting rounds\n",
    "    learning_rate=1.0,         # Controls the contribution of each classifier\n",
    "    random_state=42            # Ensures reproducibility\n",
    ")"
   ]
  },
  {
   "cell_type": "code",
   "execution_count": 62,
   "metadata": {},
   "outputs": [
    {
     "name": "stdout",
     "output_type": "stream",
     "text": [
      "Accuracy Scores: [0.96458924 0.96883853 0.96388102 0.95960312 0.95676825]\n",
      "F1 Scores: [0.90310078 0.912      0.89820359 0.88295688 0.87824351]\n",
      "ROC AUC Scores: [0.99081476 0.99126282 0.99281601 0.99048295 0.98805465]\n",
      "Precision: [0.8996139  0.9382716  0.91836735 0.93073593 0.89795918]\n",
      "Recall: [0.90661479 0.88715953 0.87890625 0.83984375 0.859375  ]\n"
     ]
    }
   ],
   "source": [
    "adaboost_baseline_accuracy_scores = cross_val_score(ada_boost_baseline, X_train, y_train, cv=5, scoring='accuracy')\n",
    "adaboost_baseline_f1_scores = cross_val_score(ada_boost_baseline, X_train, y_train, cv=5, scoring='f1')\n",
    "adaboost_baseline_roc_auc_scores = cross_val_score(ada_boost_baseline, X_train, y_train, cv=5, scoring='roc_auc')\n",
    "adaboost_baseline_precision = cross_val_score(ada_boost_baseline, X_train, y_train, cv=5, scoring='precision')\n",
    "adaboost_baseline_recall = cross_val_score(ada_boost_baseline, X_train, y_train, cv=5, scoring='recall')\n",
    "\n",
    "# Print the scores\n",
    "print(\"Accuracy Scores:\", adaboost_baseline_accuracy_scores)\n",
    "print(\"F1 Scores:\", adaboost_baseline_f1_scores)\n",
    "print(\"ROC AUC Scores:\", adaboost_baseline_roc_auc_scores)\n",
    "print(\"Precision:\", adaboost_baseline_precision)\n",
    "print(\"Recall:\", adaboost_baseline_recall)"
   ]
  },
  {
   "cell_type": "markdown",
   "metadata": {},
   "source": [
    "All these models are doing very well out of the box. I'm going to proceed with the XGBoost model below, but really any of them would seem to work. \n",
    "I just need a decent model so that I can look at the feature importances. I'm doing some tuning below but it's almost not needed given the baseline\n",
    "performance. "
   ]
  },
  {
   "cell_type": "code",
   "execution_count": 67,
   "metadata": {},
   "outputs": [
    {
     "name": "stdout",
     "output_type": "stream",
     "text": [
      "Best Parameters: OrderedDict([('alpha', 10.0), ('eta', 0.9), ('gamma', 3.0), ('lambda', 10.0), ('max_depth', 0), ('min_child_weight', 0.0), ('n_estimators', 159), ('scale_pos_weight', 1), ('subsample', 0.2796366123124986)])\n",
      "Best Score: 0.9052162907356692\n"
     ]
    }
   ],
   "source": [
    "xgb_tuned_model = XGBClassifier(use_label_encoder=False, eval_metric='logloss')\n",
    "\n",
    "search_space = {\n",
    "    'n_estimators':Integer(100,1500),\n",
    "    'max_depth': Integer(0, 25),\n",
    "    'scale_pos_weight': Integer(1,10),\n",
    "    'eta': Real(0.1,0.9),\n",
    "    'gamma':Real(0,3),\n",
    "    'min_child_weight': Real(0,5),\n",
    "    'subsample': Real(0,1),\n",
    "    'lambda':  Real(1,10),\n",
    "    'alpha':   Real(0,10)\n",
    "}\n",
    "\n",
    "bayes_search = BayesSearchCV(xgb_tuned_model, \n",
    "                             search_space, \n",
    "                             n_iter=50, \n",
    "                             cv=5, \n",
    "                             scoring= 'f1', \n",
    "                             verbose = 0, \n",
    "                             n_jobs=-1,\n",
    "                             random_state=42)\n",
    "\n",
    "bayes_search.fit(X_train, y_train)\n",
    "\n",
    "best_params = bayes_search.best_params_\n",
    "\n",
    "print(\"Best Parameters:\", bayes_search.best_params_)\n",
    "print(\"Best Score:\", bayes_search.best_score_)"
   ]
  },
  {
   "cell_type": "markdown",
   "metadata": {},
   "source": [
    "# Test Set Performance"
   ]
  },
  {
   "cell_type": "code",
   "execution_count": 68,
   "metadata": {},
   "outputs": [],
   "source": [
    "#Instantiate final model with best params\n",
    "n_estimators_value = best_params['n_estimators']\n",
    "max_depth_value = best_params['max_depth']\n",
    "scale_pos_weight_value = best_params['scale_pos_weight']\n",
    "eta_value = best_params['eta']\n",
    "gamma_value = best_params['gamma']\n",
    "min_child_weight_value = best_params['min_child_weight']\n",
    "subsample_value = best_params['subsample']\n",
    "lambda_value = best_params['lambda']\n",
    "alpha_value = best_params['alpha']\n",
    " \n",
    "\n",
    "\n",
    "\n",
    "xgb_final_model_best_params =XGBClassifier(\n",
    "                                use_label_encoder=False, \n",
    "                                eval_metric='logloss',\n",
    "                                n_estimators = n_estimators_value,\n",
    "                                max_depth = max_depth_value,\n",
    "                                scale_pos_weight  = scale_pos_weight_value,\n",
    "                                eta = eta_value,\n",
    "                                gamma = gamma_value,\n",
    "                                min_child_weight = min_child_weight_value,\n",
    "                                subsample = subsample_value,\n",
    "                                reg_lambda = lambda_value,\n",
    "                                reg_alpha = alpha_value \n",
    "                                )"
   ]
  },
  {
   "cell_type": "code",
   "execution_count": 69,
   "metadata": {},
   "outputs": [],
   "source": [
    "#Train model with best params\n",
    "xgb_final_model_best_params.fit(X_train, y_train)\n",
    "\n",
    "#Predict on test set\n",
    "y_pred_final= xgb_final_model_best_params.predict(X_test)\n",
    "y_scores_rb_final = xgb_final_model_best_params.predict_proba(X_test)[:, 1]  # Probability of the positive class"
   ]
  },
  {
   "cell_type": "code",
   "execution_count": 70,
   "metadata": {},
   "outputs": [
    {
     "name": "stdout",
     "output_type": "stream",
     "text": [
      "Optimal Threshold: 0.74\n",
      "Max F1 Score: 0.89\n"
     ]
    }
   ],
   "source": [
    "# calculate optimal threshold\n",
    "precision, recall, thresholds = precision_recall_curve(y_test, y_scores_rb_final)\n",
    "\n",
    "# Calculate F1 score for each threshold\n",
    "beta = 1\n",
    "fbeta_scores = (1 + beta**2) * (precision * recall) / ((beta**2 * precision) + recall + 1e-10)  # Add a small constant to avoid division by zero\n",
    "\n",
    "# Find the optimal threshold based on the maximum F0.3 score\n",
    "optimal_idx = np.argmax(fbeta_scores)\n",
    "optimal_threshold = thresholds[optimal_idx]\n",
    "optimal_fbeta = fbeta_scores[optimal_idx]\n",
    "\n",
    "print(f'Optimal Threshold: {optimal_threshold:.2f}')\n",
    "print(f'Max F1 Score: {optimal_fbeta:.2f}')"
   ]
  },
  {
   "cell_type": "code",
   "execution_count": 82,
   "metadata": {},
   "outputs": [
    {
     "data": {
      "image/png": "[encoded data removed]",
      "text/plain": [
       "<Figure size 1000x600 with 1 Axes>"
      ]
     },
     "metadata": {},
     "output_type": "display_data"
    }
   ],
   "source": [
    "# Optional: Plot Precision-Recall curve with the optimal threshold\n",
    "plt.figure(figsize=(10, 6))\n",
    "plt.plot(recall, precision, marker='.', label='Precision-Recall curve')\n",
    "plt.axvline(recall[optimal_idx], color='red', linestyle = '--',label='Optimal Threshold')\n",
    "#plt.scatter(recall[optimal_idx], precision[optimal_idx], color='red', label='Optimal Threshold')\n",
    "plt.title('Precision-Recall Curve with Optimal Threshold')\n",
    "plt.xlabel('Recall')\n",
    "plt.ylabel('Precision')\n",
    "plt.grid()\n",
    "plt.legend()\n",
    "plt.show()"
   ]
  },
  {
   "cell_type": "code",
   "execution_count": 73,
   "metadata": {},
   "outputs": [],
   "source": [
    "# Apply optimal threshold to predicitons\n",
    "y_pred_optimal = (y_scores_rb_final >= optimal_threshold).astype(int)"
   ]
  },
  {
   "cell_type": "code",
   "execution_count": 74,
   "metadata": {},
   "outputs": [
    {
     "name": "stdout",
     "output_type": "stream",
     "text": [
      "Accuracy on test set: 0.9620396600566572\n",
      "AUC on test set: 0.9342398356401383\n",
      "F1 on test set: 0.8948194662480377\n"
     ]
    }
   ],
   "source": [
    "test_set_accuracy = accuracy_score(y_test, y_pred_optimal)\n",
    "test_set_auc = roc_auc_score(y_test, y_pred_optimal)\n",
    "test_set_f1 = f1_score(y_test, y_pred_optimal)\n",
    "\n",
    "\n",
    "print(f'Accuracy on test set: {test_set_accuracy}')\n",
    "print(f'AUC on test set: {test_set_auc}')\n",
    "print(f'F1 on test set: {test_set_f1}')"
   ]
  },
  {
   "cell_type": "code",
   "execution_count": 75,
   "metadata": {},
   "outputs": [
    {
     "data": {
      "image/png": "[encoded data removed]",
      "text/plain": [
       "<Figure size 800x600 with 1 Axes>"
      ]
     },
     "metadata": {},
     "output_type": "display_data"
    }
   ],
   "source": [
    "# Assuming y_test is your true labels and y_pred is the predicted labels\n",
    "conf_mat = confusion_matrix(y_test, y_pred_optimal)\n",
    "\n",
    "# Plotting the confusion matrix\n",
    "plt.figure(figsize=(8, 6))\n",
    "sns.heatmap(conf_mat, annot=True, fmt='d', cmap='Blues', cbar=False)\n",
    "plt.xlabel('Predicted labels')\n",
    "plt.ylabel('True labels')\n",
    "plt.title('Confusion Matrix')\n",
    "plt.show()"
   ]
  },
  {
   "cell_type": "markdown",
   "metadata": {},
   "source": [
    "# Feature importances"
   ]
  },
  {
   "cell_type": "code",
   "execution_count": 76,
   "metadata": {},
   "outputs": [
    {
     "data": {
      "text/html": [
       "<style>#sk-container-id-1 {color: black;background-color: white;}#sk-container-id-1 pre{padding: 0;}#sk-container-id-1 div.sk-toggleable {background-color: white;}#sk-container-id-1 label.sk-toggleable__label {cursor: pointer;display: block;width: 100%;margin-bottom: 0;padding: 0.3em;box-sizing: border-box;text-align: center;}#sk-container-id-1 label.sk-toggleable__label-arrow:before {content: \"▸\";float: left;margin-right: 0.25em;color: #696969;}#sk-container-id-1 label.sk-toggleable__label-arrow:hover:before {color: black;}#sk-container-id-1 div.sk-estimator:hover label.sk-toggleable__label-arrow:before {color: black;}#sk-container-id-1 div.sk-toggleable__content {max-height: 0;max-width: 0;overflow: hidden;text-align: left;background-color: #f0f8ff;}#sk-container-id-1 div.sk-toggleable__content pre {margin: 0.2em;color: black;border-radius: 0.25em;background-color: #f0f8ff;}#sk-container-id-1 input.sk-toggleable__control:checked~div.sk-toggleable__content {max-height: 200px;max-width: 100%;overflow: auto;}#sk-container-id-1 input.sk-toggleable__control:checked~label.sk-toggleable__label-arrow:before {content: \"▾\";}#sk-container-id-1 div.sk-estimator input.sk-toggleable__control:checked~label.sk-toggleable__label {background-color: #d4ebff;}#sk-container-id-1 div.sk-label input.sk-toggleable__control:checked~label.sk-toggleable__label {background-color: #d4ebff;}#sk-container-id-1 input.sk-hidden--visually {border: 0;clip: rect(1px 1px 1px 1px);clip: rect(1px, 1px, 1px, 1px);height: 1px;margin: -1px;overflow: hidden;padding: 0;position: absolute;width: 1px;}#sk-container-id-1 div.sk-estimator {font-family: monospace;background-color: #f0f8ff;border: 1px dotted black;border-radius: 0.25em;box-sizing: border-box;margin-bottom: 0.5em;}#sk-container-id-1 div.sk-estimator:hover {background-color: #d4ebff;}#sk-container-id-1 div.sk-parallel-item::after {content: \"\";width: 100%;border-bottom: 1px solid gray;flex-grow: 1;}#sk-container-id-1 div.sk-label:hover label.sk-toggleable__label {background-color: #d4ebff;}#sk-container-id-1 div.sk-serial::before {content: \"\";position: absolute;border-left: 1px solid gray;box-sizing: border-box;top: 0;bottom: 0;left: 50%;z-index: 0;}#sk-container-id-1 div.sk-serial {display: flex;flex-direction: column;align-items: center;background-color: white;padding-right: 0.2em;padding-left: 0.2em;position: relative;}#sk-container-id-1 div.sk-item {position: relative;z-index: 1;}#sk-container-id-1 div.sk-parallel {display: flex;align-items: stretch;justify-content: center;background-color: white;position: relative;}#sk-container-id-1 div.sk-item::before, #sk-container-id-1 div.sk-parallel-item::before {content: \"\";position: absolute;border-left: 1px solid gray;box-sizing: border-box;top: 0;bottom: 0;left: 50%;z-index: -1;}#sk-container-id-1 div.sk-parallel-item {display: flex;flex-direction: column;z-index: 1;position: relative;background-color: white;}#sk-container-id-1 div.sk-parallel-item:first-child::after {align-self: flex-end;width: 50%;}#sk-container-id-1 div.sk-parallel-item:last-child::after {align-self: flex-start;width: 50%;}#sk-container-id-1 div.sk-parallel-item:only-child::after {width: 0;}#sk-container-id-1 div.sk-dashed-wrapped {border: 1px dashed gray;margin: 0 0.4em 0.5em 0.4em;box-sizing: border-box;padding-bottom: 0.4em;background-color: white;}#sk-container-id-1 div.sk-label label {font-family: monospace;font-weight: bold;display: inline-block;line-height: 1.2em;}#sk-container-id-1 div.sk-label-container {text-align: center;}#sk-container-id-1 div.sk-container {/* jupyter's `normalize.less` sets `[hidden] { display: none; }` but bootstrap.min.css set `[hidden] { display: none !important; }` so we also need the `!important` here to be able to override the default hidden behavior on the sphinx rendered scikit-learn.org. See: https://github.com/scikit-learn/scikit-learn/issues/21755 */display: inline-block !important;position: relative;}#sk-container-id-1 div.sk-text-repr-fallback {display: none;}</style><div id=\"sk-container-id-1\" class=\"sk-top-container\"><div class=\"sk-text-repr-fallback\"><pre>XGBClassifier(base_score=None, booster=None, callbacks=None,\n",
       "              colsample_bylevel=None, colsample_bynode=None,\n",
       "              colsample_bytree=None, device=None, early_stopping_rounds=None,\n",
       "              enable_categorical=False, eta=0.9, eval_metric=&#x27;logloss&#x27;,\n",
       "              feature_types=None, gamma=3.0, grow_policy=None,\n",
       "              importance_type=None, interaction_constraints=None,\n",
       "              learning_rate=None, max_bin=None, max_cat_threshold=None,\n",
       "              max_cat_to_onehot=None, max_delta_step=None, max_depth=0,\n",
       "              max_leaves=None, min_child_weight=0.0, missing=nan,\n",
       "              monotone_constraints=None, multi_strategy=None, n_estimators=159,\n",
       "              n_jobs=None, num_parallel_tree=None, ...)</pre><b>In a Jupyter environment, please rerun this cell to show the HTML representation or trust the notebook. <br />On GitHub, the HTML representation is unable to render, please try loading this page with nbviewer.org.</b></div><div class=\"sk-container\" hidden><div class=\"sk-item\"><div class=\"sk-estimator sk-toggleable\"><input class=\"sk-toggleable__control sk-hidden--visually\" id=\"sk-estimator-id-1\" type=\"checkbox\" checked><label for=\"sk-estimator-id-1\" class=\"sk-toggleable__label sk-toggleable__label-arrow\">XGBClassifier</label><div class=\"sk-toggleable__content\"><pre>XGBClassifier(base_score=None, booster=None, callbacks=None,\n",
       "              colsample_bylevel=None, colsample_bynode=None,\n",
       "              colsample_bytree=None, device=None, early_stopping_rounds=None,\n",
       "              enable_categorical=False, eta=0.9, eval_metric=&#x27;logloss&#x27;,\n",
       "              feature_types=None, gamma=3.0, grow_policy=None,\n",
       "              importance_type=None, interaction_constraints=None,\n",
       "              learning_rate=None, max_bin=None, max_cat_threshold=None,\n",
       "              max_cat_to_onehot=None, max_delta_step=None, max_depth=0,\n",
       "              max_leaves=None, min_child_weight=0.0, missing=nan,\n",
       "              monotone_constraints=None, multi_strategy=None, n_estimators=159,\n",
       "              n_jobs=None, num_parallel_tree=None, ...)</pre></div></div></div></div></div>"
      ],
      "text/plain": [
       "XGBClassifier(base_score=None, booster=None, callbacks=None,\n",
       "              colsample_bylevel=None, colsample_bynode=None,\n",
       "              colsample_bytree=None, device=None, early_stopping_rounds=None,\n",
       "              enable_categorical=False, eta=0.9, eval_metric='logloss',\n",
       "              feature_types=None, gamma=3.0, grow_policy=None,\n",
       "              importance_type=None, interaction_constraints=None,\n",
       "              learning_rate=None, max_bin=None, max_cat_threshold=None,\n",
       "              max_cat_to_onehot=None, max_delta_step=None, max_depth=0,\n",
       "              max_leaves=None, min_child_weight=0.0, missing=nan,\n",
       "              monotone_constraints=None, multi_strategy=None, n_estimators=159,\n",
       "              n_jobs=None, num_parallel_tree=None, ...)"
      ]
     },
     "execution_count": 76,
     "metadata": {},
     "output_type": "execute_result"
    }
   ],
   "source": [
    "#Instantiate final model with best params\n",
    "n_estimators_value = best_params['n_estimators']\n",
    "max_depth_value = best_params['max_depth']\n",
    "scale_pos_weight_value = best_params['scale_pos_weight']\n",
    "eta_value = best_params['eta']\n",
    "gamma_value = best_params['gamma']\n",
    "min_child_weight_value = best_params['min_child_weight']\n",
    "subsample_value = best_params['subsample']\n",
    "lambda_value = best_params['lambda']\n",
    "alpha_value = best_params['alpha']\n",
    " \n",
    "\n",
    "\n",
    "\n",
    "xgb_final_model_best_params_all_data =xgb_final_model_best_params_all_data =XGBClassifier(\n",
    "                                use_label_encoder=False, \n",
    "                                eval_metric='logloss',\n",
    "                                n_estimators = n_estimators_value,\n",
    "                                max_depth = max_depth_value,\n",
    "                                scale_pos_weight  = scale_pos_weight_value,\n",
    "                                eta = eta_value,\n",
    "                                gamma = gamma_value,\n",
    "                                min_child_weight = min_child_weight_value,\n",
    "                                subsample = subsample_value,\n",
    "                                reg_lambda = lambda_value,\n",
    "                                reg_alpha = alpha_value \n",
    "                                )\n",
    "\n",
    "xgb_final_model_best_params_all_data.fit(X,y)"
   ]
  },
  {
   "cell_type": "code",
   "execution_count": 77,
   "metadata": {},
   "outputs": [],
   "source": [
    "# Retrieve feature importances\n",
    "importances = xgb_final_model_best_params_all_data.feature_importances_\n",
    "feature_importance_df = pd.DataFrame({\n",
    "    'Feature': X.columns,\n",
    "    'Importance': importances\n",
    "}).sort_values(by='Importance', ascending=False)"
   ]
  },
  {
   "cell_type": "code",
   "execution_count": 78,
   "metadata": {},
   "outputs": [
    {
     "data": {
      "image/png": "[encoded data removed]",
      "text/plain": [
       "<Figure size 1000x600 with 1 Axes>"
      ]
     },
     "metadata": {},
     "output_type": "display_data"
    }
   ],
   "source": [
    "# Plot feature importances\n",
    "plt.figure(figsize=(10, 6))\n",
    "plt.barh(feature_importance_df['Feature'], feature_importance_df['Importance'])\n",
    "plt.xlabel('Importance')\n",
    "plt.ylabel('Features')\n",
    "plt.title('Feature Importances from XGB model')\n",
    "plt.gca().invert_yaxis()  # To display the most important feature on top\n",
    "plt.show()"
   ]
  },
  {
   "cell_type": "code",
   "execution_count": 79,
   "metadata": {},
   "outputs": [
    {
     "name": "stderr",
     "output_type": "stream",
     "text": [
      "[21:21:20] WARNING: /var/folders/c_/qfmhj66j0tn016nkx_th4hxm0000gp/T/abs_d6q0e1lomi/croot/xgboost-split_1713972719224/work/cpp_src/src/c_api/c_api.cc:1240: Saving into deprecated binary model format, please consider using `json` or `ubj`. Model format will default to JSON in XGBoost 2.2 if not specified.\n",
      "No data for colormapping provided via 'c'. Parameters 'vmin', 'vmax' will be ignored\n"
     ]
    },
    {
     "data": {
      "image/png": "[encoded data removed]",
      "text/plain": [
       "<Figure size 800x470 with 2 Axes>"
      ]
     },
     "metadata": {},
     "output_type": "display_data"
    }
   ],
   "source": [
    "# Create SHAP values\n",
    "explainer = shap.TreeExplainer(xgb_final_model_best_params_all_data)  # For tree-based models\n",
    "shap_values = explainer.shap_values(X)\n",
    "\n",
    "# Plot SHAP summary plot (feature importances)\n",
    "shap.summary_plot(shap_values, X)  # Bar plot for importance ranking"
   ]
  },
  {
   "cell_type": "code",
   "execution_count": 80,
   "metadata": {},
   "outputs": [
    {
     "data": {
      "image/png": "[encoded data removed]",
      "text/plain": [
       "<Figure size 600x500 with 1 Axes>"
      ]
     },
     "metadata": {},
     "output_type": "display_data"
    }
   ],
   "source": [
    "shap.dependence_plot('time_between_creation_and_last_login', shap_values, X, show = False, interaction_index=None)\n",
    "\n",
    "# Get the current axes\n",
    "ax = plt.gca()\n",
    "\n",
    "# Add a horizontal line at y=0\n",
    "ax.axhline(y=0, color='#003366', linestyle='--')  # Dark blue line\n",
    "\n",
    "# Add a title to the plot\n",
    "ax.set_title('Days between creation and last activity')\n",
    "\n",
    "# Optionally, set labels for the x and y axes\n",
    "ax.set_xlabel('Days')\n",
    "ax.set_ylabel('SHAP Value')\n",
    "\n",
    "custom_ticks = list(range(1,200,25))  # Replace with your desired x-tick values\n",
    "\n",
    "# Define custom x-ticks and apply rotation\n",
    "custom_ticks = list(range(0, 700, 50))\n",
    "ax.set_xticks(custom_ticks)\n",
    "plt.xticks(rotation=45)\n",
    "\n",
    "# Show the plot\n",
    "plt.show()"
   ]
  },
  {
   "cell_type": "markdown",
   "metadata": {},
   "source": [
    "The major takeaway here seems to be that the best predictor for wheter a person becomes an adopted user or not is how long has elapsed between their account creation date\n",
    "and their last log in date. \n",
    "\n",
    "This can be thought of as a proxy for time on the platform. \n",
    "\n",
    "So given the data available, the factor that best predicts future user adoption is how long they have been using the platform. "
   ]
  }
 ],
 "metadata": {
  "kernelspec": {
   "display_name": "Springboard_Final_Project",
   "language": "python",
   "name": "python3"
  },
  "language_info": {
   "codemirror_mode": {
    "name": "ipython",
    "version": 3
   },
   "file_extension": ".py",
   "mimetype": "text/x-python",
   "name": "python",
   "nbconvert_exporter": "python",
   "pygments_lexer": "ipython3",
   "version": "3.9.19"
  }
 },
 "nbformat": 4,
 "nbformat_minor": 2
}
