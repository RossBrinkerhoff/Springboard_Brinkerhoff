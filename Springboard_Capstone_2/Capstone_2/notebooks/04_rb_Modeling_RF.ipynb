{
 "cells": [
  {
   "cell_type": "markdown",
   "metadata": {},
   "source": [
    "# Notebook Objective<a id='Notebook Objective'></a>"
   ]
  },
  {
   "cell_type": "markdown",
   "metadata": {},
   "source": [
    "In this notebook we'll be turing the final random forest regressor model for our world happiness data set. \n",
    "\n",
    "In preprocessing and training we determined that using all the features of our dataset was the best approach. \n",
    "Preprocessing and training were done using an our of the box RF regressor model with all parameters set at the defaults. \n",
    "\n",
    "In this notebook we'll see if we can beat the default scores through parameter tuning.\n",
    "\n",
    "The tuning process will be automated. We'll be using the skopt module and gp.minimize()\n",
    "to search out parameter space and minimize the MAE score for our model on the test set. \n",
    "\n",
    "The best parameters will then be used to create the final model, which will be trained on all the data we have and \n",
    "then saved for future use. \n",
    "\n",
    "We'll also be examining the feature importances in the final model to see if there are any additional \n",
    "insights there that might help us understand which features in our data have the greatest influence over our life ladder target variable. "
   ]
  },
  {
   "cell_type": "code",
   "execution_count": 1,
   "metadata": {},
   "outputs": [],
   "source": [
    "#Import Modules\n",
    "\n",
    "import os\n",
    "\n",
    "import pandas as pd\n",
    "import numpy as np\n",
    "import seaborn as sns\n",
    "import matplotlib.pyplot as plt\n",
    "\n",
    "from sklearn.preprocessing import LabelEncoder\n",
    "\n",
    "from sklearn.model_selection import train_test_split\n",
    "\n",
    "from sklearn.ensemble import RandomForestRegressor\n",
    "\n",
    "from sklearn.metrics import r2_score\n",
    "from sklearn.metrics import mean_absolute_percentage_error\n",
    "from sklearn.metrics import mean_absolute_error\n",
    "\n",
    "from skopt import gp_minimize\n",
    "from skopt.space import Real, Integer, Categorical\n",
    "\n",
    "import joblib\n"
   ]
  },
  {
   "cell_type": "code",
   "execution_count": 2,
   "metadata": {},
   "outputs": [],
   "source": [
    "#import cleaned_data for modeling\n",
    "df_global = pd.read_csv('../data/interim/cleaned_data.csv', index_col = 0)"
   ]
  },
  {
   "cell_type": "code",
   "execution_count": 3,
   "metadata": {},
   "outputs": [
    {
     "data": {
      "text/html": [
       "<div>\n",
       "<style scoped>\n",
       "    .dataframe tbody tr th:only-of-type {\n",
       "        vertical-align: middle;\n",
       "    }\n",
       "\n",
       "    .dataframe tbody tr th {\n",
       "        vertical-align: top;\n",
       "    }\n",
       "\n",
       "    .dataframe thead th {\n",
       "        text-align: right;\n",
       "    }\n",
       "</style>\n",
       "<table border=\"1\" class=\"dataframe\">\n",
       "  <thead>\n",
       "    <tr style=\"text-align: right;\">\n",
       "      <th></th>\n",
       "      <th>Country Name</th>\n",
       "      <th>Regional Indicator</th>\n",
       "      <th>Year</th>\n",
       "      <th>Life Ladder</th>\n",
       "      <th>Log GDP Per Capita</th>\n",
       "      <th>Social Support</th>\n",
       "      <th>Healthy Life Expectancy At Birth</th>\n",
       "      <th>Freedom To Make Life Choices</th>\n",
       "      <th>Generosity</th>\n",
       "      <th>Perceptions Of Corruption</th>\n",
       "      <th>Positive Affect</th>\n",
       "      <th>Negative Affect</th>\n",
       "      <th>Confidence In National Government</th>\n",
       "    </tr>\n",
       "  </thead>\n",
       "  <tbody>\n",
       "    <tr>\n",
       "      <th>0</th>\n",
       "      <td>Afghanistan</td>\n",
       "      <td>South Asia</td>\n",
       "      <td>2008</td>\n",
       "      <td>3.723590</td>\n",
       "      <td>7.350416</td>\n",
       "      <td>0.450662</td>\n",
       "      <td>50.500000</td>\n",
       "      <td>0.718114</td>\n",
       "      <td>0.167652</td>\n",
       "      <td>0.881686</td>\n",
       "      <td>0.414297</td>\n",
       "      <td>0.258195</td>\n",
       "      <td>0.612072</td>\n",
       "    </tr>\n",
       "    <tr>\n",
       "      <th>1</th>\n",
       "      <td>Afghanistan</td>\n",
       "      <td>South Asia</td>\n",
       "      <td>2009</td>\n",
       "      <td>4.401778</td>\n",
       "      <td>7.508646</td>\n",
       "      <td>0.552308</td>\n",
       "      <td>50.799999</td>\n",
       "      <td>0.678896</td>\n",
       "      <td>0.190809</td>\n",
       "      <td>0.850035</td>\n",
       "      <td>0.481421</td>\n",
       "      <td>0.237092</td>\n",
       "      <td>0.611545</td>\n",
       "    </tr>\n",
       "    <tr>\n",
       "      <th>2</th>\n",
       "      <td>Afghanistan</td>\n",
       "      <td>South Asia</td>\n",
       "      <td>2010</td>\n",
       "      <td>4.758381</td>\n",
       "      <td>7.613900</td>\n",
       "      <td>0.539075</td>\n",
       "      <td>51.099998</td>\n",
       "      <td>0.600127</td>\n",
       "      <td>0.121316</td>\n",
       "      <td>0.706766</td>\n",
       "      <td>0.516907</td>\n",
       "      <td>0.275324</td>\n",
       "      <td>0.299357</td>\n",
       "    </tr>\n",
       "    <tr>\n",
       "      <th>3</th>\n",
       "      <td>Afghanistan</td>\n",
       "      <td>South Asia</td>\n",
       "      <td>2011</td>\n",
       "      <td>3.831719</td>\n",
       "      <td>7.581259</td>\n",
       "      <td>0.521104</td>\n",
       "      <td>51.400002</td>\n",
       "      <td>0.495901</td>\n",
       "      <td>0.163571</td>\n",
       "      <td>0.731109</td>\n",
       "      <td>0.479835</td>\n",
       "      <td>0.267175</td>\n",
       "      <td>0.307386</td>\n",
       "    </tr>\n",
       "    <tr>\n",
       "      <th>4</th>\n",
       "      <td>Afghanistan</td>\n",
       "      <td>South Asia</td>\n",
       "      <td>2012</td>\n",
       "      <td>3.782938</td>\n",
       "      <td>7.660506</td>\n",
       "      <td>0.520637</td>\n",
       "      <td>51.700001</td>\n",
       "      <td>0.530935</td>\n",
       "      <td>0.237588</td>\n",
       "      <td>0.775620</td>\n",
       "      <td>0.613513</td>\n",
       "      <td>0.267919</td>\n",
       "      <td>0.435440</td>\n",
       "    </tr>\n",
       "  </tbody>\n",
       "</table>\n",
       "</div>"
      ],
      "text/plain": [
       "  Country Name Regional Indicator  Year  Life Ladder  Log GDP Per Capita   \n",
       "0  Afghanistan         South Asia  2008     3.723590            7.350416  \\\n",
       "1  Afghanistan         South Asia  2009     4.401778            7.508646   \n",
       "2  Afghanistan         South Asia  2010     4.758381            7.613900   \n",
       "3  Afghanistan         South Asia  2011     3.831719            7.581259   \n",
       "4  Afghanistan         South Asia  2012     3.782938            7.660506   \n",
       "\n",
       "   Social Support  Healthy Life Expectancy At Birth   \n",
       "0        0.450662                         50.500000  \\\n",
       "1        0.552308                         50.799999   \n",
       "2        0.539075                         51.099998   \n",
       "3        0.521104                         51.400002   \n",
       "4        0.520637                         51.700001   \n",
       "\n",
       "   Freedom To Make Life Choices  Generosity  Perceptions Of Corruption   \n",
       "0                      0.718114    0.167652                   0.881686  \\\n",
       "1                      0.678896    0.190809                   0.850035   \n",
       "2                      0.600127    0.121316                   0.706766   \n",
       "3                      0.495901    0.163571                   0.731109   \n",
       "4                      0.530935    0.237588                   0.775620   \n",
       "\n",
       "   Positive Affect  Negative Affect  Confidence In National Government  \n",
       "0         0.414297         0.258195                           0.612072  \n",
       "1         0.481421         0.237092                           0.611545  \n",
       "2         0.516907         0.275324                           0.299357  \n",
       "3         0.479835         0.267175                           0.307386  \n",
       "4         0.613513         0.267919                           0.435440  "
      ]
     },
     "execution_count": 3,
     "metadata": {},
     "output_type": "execute_result"
    }
   ],
   "source": [
    "df_global.head()"
   ]
  },
  {
   "cell_type": "code",
   "execution_count": 4,
   "metadata": {},
   "outputs": [],
   "source": [
    "#Convert object type columns to numeric using encoding\n",
    "\n",
    "country_label_encoder = LabelEncoder()\n",
    "df_global['Country Name'] = country_label_encoder.fit_transform(df_global['Country Name'])\n",
    "\n",
    "region_label_encoder = LabelEncoder()\n",
    "df_global['Regional Indicator'] = region_label_encoder.fit_transform(df_global['Regional Indicator'])"
   ]
  },
  {
   "cell_type": "code",
   "execution_count": 5,
   "metadata": {},
   "outputs": [
    {
     "data": {
      "text/html": [
       "<div>\n",
       "<style scoped>\n",
       "    .dataframe tbody tr th:only-of-type {\n",
       "        vertical-align: middle;\n",
       "    }\n",
       "\n",
       "    .dataframe tbody tr th {\n",
       "        vertical-align: top;\n",
       "    }\n",
       "\n",
       "    .dataframe thead th {\n",
       "        text-align: right;\n",
       "    }\n",
       "</style>\n",
       "<table border=\"1\" class=\"dataframe\">\n",
       "  <thead>\n",
       "    <tr style=\"text-align: right;\">\n",
       "      <th></th>\n",
       "      <th>Country Name</th>\n",
       "      <th>Regional Indicator</th>\n",
       "      <th>Year</th>\n",
       "      <th>Life Ladder</th>\n",
       "      <th>Log GDP Per Capita</th>\n",
       "      <th>Social Support</th>\n",
       "      <th>Healthy Life Expectancy At Birth</th>\n",
       "      <th>Freedom To Make Life Choices</th>\n",
       "      <th>Generosity</th>\n",
       "      <th>Perceptions Of Corruption</th>\n",
       "      <th>Positive Affect</th>\n",
       "      <th>Negative Affect</th>\n",
       "      <th>Confidence In National Government</th>\n",
       "    </tr>\n",
       "  </thead>\n",
       "  <tbody>\n",
       "    <tr>\n",
       "      <th>0</th>\n",
       "      <td>0</td>\n",
       "      <td>6</td>\n",
       "      <td>2008</td>\n",
       "      <td>3.723590</td>\n",
       "      <td>7.350416</td>\n",
       "      <td>0.450662</td>\n",
       "      <td>50.500000</td>\n",
       "      <td>0.718114</td>\n",
       "      <td>0.167652</td>\n",
       "      <td>0.881686</td>\n",
       "      <td>0.414297</td>\n",
       "      <td>0.258195</td>\n",
       "      <td>0.612072</td>\n",
       "    </tr>\n",
       "    <tr>\n",
       "      <th>1</th>\n",
       "      <td>0</td>\n",
       "      <td>6</td>\n",
       "      <td>2009</td>\n",
       "      <td>4.401778</td>\n",
       "      <td>7.508646</td>\n",
       "      <td>0.552308</td>\n",
       "      <td>50.799999</td>\n",
       "      <td>0.678896</td>\n",
       "      <td>0.190809</td>\n",
       "      <td>0.850035</td>\n",
       "      <td>0.481421</td>\n",
       "      <td>0.237092</td>\n",
       "      <td>0.611545</td>\n",
       "    </tr>\n",
       "    <tr>\n",
       "      <th>2</th>\n",
       "      <td>0</td>\n",
       "      <td>6</td>\n",
       "      <td>2010</td>\n",
       "      <td>4.758381</td>\n",
       "      <td>7.613900</td>\n",
       "      <td>0.539075</td>\n",
       "      <td>51.099998</td>\n",
       "      <td>0.600127</td>\n",
       "      <td>0.121316</td>\n",
       "      <td>0.706766</td>\n",
       "      <td>0.516907</td>\n",
       "      <td>0.275324</td>\n",
       "      <td>0.299357</td>\n",
       "    </tr>\n",
       "    <tr>\n",
       "      <th>3</th>\n",
       "      <td>0</td>\n",
       "      <td>6</td>\n",
       "      <td>2011</td>\n",
       "      <td>3.831719</td>\n",
       "      <td>7.581259</td>\n",
       "      <td>0.521104</td>\n",
       "      <td>51.400002</td>\n",
       "      <td>0.495901</td>\n",
       "      <td>0.163571</td>\n",
       "      <td>0.731109</td>\n",
       "      <td>0.479835</td>\n",
       "      <td>0.267175</td>\n",
       "      <td>0.307386</td>\n",
       "    </tr>\n",
       "    <tr>\n",
       "      <th>4</th>\n",
       "      <td>0</td>\n",
       "      <td>6</td>\n",
       "      <td>2012</td>\n",
       "      <td>3.782938</td>\n",
       "      <td>7.660506</td>\n",
       "      <td>0.520637</td>\n",
       "      <td>51.700001</td>\n",
       "      <td>0.530935</td>\n",
       "      <td>0.237588</td>\n",
       "      <td>0.775620</td>\n",
       "      <td>0.613513</td>\n",
       "      <td>0.267919</td>\n",
       "      <td>0.435440</td>\n",
       "    </tr>\n",
       "  </tbody>\n",
       "</table>\n",
       "</div>"
      ],
      "text/plain": [
       "   Country Name  Regional Indicator  Year  Life Ladder  Log GDP Per Capita   \n",
       "0             0                   6  2008     3.723590            7.350416  \\\n",
       "1             0                   6  2009     4.401778            7.508646   \n",
       "2             0                   6  2010     4.758381            7.613900   \n",
       "3             0                   6  2011     3.831719            7.581259   \n",
       "4             0                   6  2012     3.782938            7.660506   \n",
       "\n",
       "   Social Support  Healthy Life Expectancy At Birth   \n",
       "0        0.450662                         50.500000  \\\n",
       "1        0.552308                         50.799999   \n",
       "2        0.539075                         51.099998   \n",
       "3        0.521104                         51.400002   \n",
       "4        0.520637                         51.700001   \n",
       "\n",
       "   Freedom To Make Life Choices  Generosity  Perceptions Of Corruption   \n",
       "0                      0.718114    0.167652                   0.881686  \\\n",
       "1                      0.678896    0.190809                   0.850035   \n",
       "2                      0.600127    0.121316                   0.706766   \n",
       "3                      0.495901    0.163571                   0.731109   \n",
       "4                      0.530935    0.237588                   0.775620   \n",
       "\n",
       "   Positive Affect  Negative Affect  Confidence In National Government  \n",
       "0         0.414297         0.258195                           0.612072  \n",
       "1         0.481421         0.237092                           0.611545  \n",
       "2         0.516907         0.275324                           0.299357  \n",
       "3         0.479835         0.267175                           0.307386  \n",
       "4         0.613513         0.267919                           0.435440  "
      ]
     },
     "execution_count": 5,
     "metadata": {},
     "output_type": "execute_result"
    }
   ],
   "source": [
    "df_global.head()"
   ]
  },
  {
   "cell_type": "markdown",
   "metadata": {},
   "source": [
    "# Train-Test Split<a id='Train-Test Split'></a>"
   ]
  },
  {
   "cell_type": "code",
   "execution_count": 6,
   "metadata": {},
   "outputs": [],
   "source": [
    "#Define X and y prior to splitting\n",
    "target_col = ['Life Ladder']\n",
    "X = df_global.drop(target_col, axis = 1)\n",
    "y = df_global[target_col]"
   ]
  },
  {
   "cell_type": "code",
   "execution_count": 7,
   "metadata": {},
   "outputs": [],
   "source": [
    "#Train Test split global data - using test_size = 0.2 and random_state = 42 \n",
    "\n",
    "X_train,X_test,y_train,y_test = train_test_split(X,y,test_size = 0.2, random_state=42)"
   ]
  },
  {
   "cell_type": "markdown",
   "metadata": {},
   "source": [
    "# Model Baseline<a id='Model Baseline'></a>"
   ]
  },
  {
   "cell_type": "markdown",
   "metadata": {},
   "source": [
    "Here we use an 'out of the box' RF regressor model with no tuning to set a baseline for performance. \n",
    "The performance of our final model after hyperparamter tuning will be compared to this model where no tuning was done. "
   ]
  },
  {
   "cell_type": "code",
   "execution_count": 8,
   "metadata": {},
   "outputs": [
    {
     "name": "stdout",
     "output_type": "stream",
     "text": [
      "The r2 score for the baseline model on the test data is: 0.8960661044910936\n",
      "The MAE score for the baseline model on the test data is: 0.28505371117097045\n",
      "The MAPE score for the baseline model on the test data is: 0.05635984115967334\n"
     ]
    }
   ],
   "source": [
    "rf_reg = RandomForestRegressor(random_state=42)\n",
    "baseline_model = rf_reg.fit(X_train,y_train.values.ravel())\n",
    "\n",
    "baseline_model_y_pred_test = baseline_model.predict(X_test)\n",
    "\n",
    "#baseline r2\n",
    "baseline_r2_score_test = r2_score(y_test,baseline_model_y_pred_test)\n",
    "print(f\"The r2 score for the baseline model on the test data is: {baseline_r2_score_test}\")\n",
    "\n",
    "#baseline MAE\n",
    "baseline_mae_score_test = mean_absolute_error(y_test,baseline_model_y_pred_test)\n",
    "print(f\"The MAE score for the baseline model on the test data is: {baseline_mae_score_test}\")\n",
    "\n",
    "#baseline MAPE\n",
    "baseline_mape_score_test = mean_absolute_percentage_error(y_test,baseline_model_y_pred_test)\n",
    "print(f\"The MAPE score for the baseline model on the test data is: {baseline_mape_score_test}\")\n",
    "\n",
    "\n",
    "\n"
   ]
  },
  {
   "cell_type": "markdown",
   "metadata": {},
   "source": [
    "# Search Hyperparamter Space<a id='Search Hyperparamter Space'></a>"
   ]
  },
  {
   "cell_type": "code",
   "execution_count": 9,
   "metadata": {},
   "outputs": [],
   "source": [
    "# Define the objective function\n",
    "def objective(params):\n",
    "    n_estimators, max_depth, min_samples_split, min_samples_leaf, max_features = params\n",
    "    \n",
    "    # Create Random Forest regressor with specified hyperparameters\n",
    "    rf_model = RandomForestRegressor(n_estimators=int(n_estimators),\n",
    "                                          max_depth=(max_depth),\n",
    "                                          min_samples_split= int(min_samples_split),\n",
    "                                          min_samples_leaf=int(min_samples_leaf),\n",
    "                                          max_features = (max_features),\n",
    "                                          oob_score=True,\n",
    "                                          random_state=42)\n",
    "    \n",
    "    rf_model.fit(X_train, y_train.values.ravel())\n",
    "\n",
    "    y_pred_test_set = rf_model.predict(X_test)\n",
    "    \n",
    "    # Evaluate the model using the test set\n",
    "    model_MAE_test = mean_absolute_error(y_test,y_pred_test_set)\n",
    "    \n",
    "    \n",
    "    # Return the mean squared error\n",
    "    return model_MAE_test\n",
    "\n",
    "# Define the search space\n",
    "\n",
    "max_depth_values = [4,8,10]\n",
    "max_depth_values.append(None)\n",
    "\n",
    "\n",
    "space = [Integer(9000,11000, name='n_estimators'),\n",
    "         Categorical(max_depth_values,name='max_depth'),\n",
    "         Integer(2,10, name='min_samples_split'),\n",
    "         Integer(1,10, name='min_samples_leaf'),\n",
    "         Categorical([None,'sqrt'], name='max_features')]\n",
    "\n",
    "\n",
    "\n",
    "\n",
    "# Run the optimizer\n",
    "result = gp_minimize(objective, space, n_calls=300, random_state=42)\n",
    "\n",
    "# Get the best hyperparameters\n",
    "best_params = result.x\n",
    "best_score = result.fun\n",
    "\n"
   ]
  },
  {
   "cell_type": "markdown",
   "metadata": {},
   "source": [
    "# Test optimized parameters<a id='Test optimized parameters'></a>"
   ]
  },
  {
   "cell_type": "code",
   "execution_count": 10,
   "metadata": {},
   "outputs": [
    {
     "name": "stdout",
     "output_type": "stream",
     "text": [
      "Best hyperparameters: [9032, None, 2, 1, None]\n",
      "Best MAE: 0.2827849305256138\n"
     ]
    }
   ],
   "source": [
    "print(\"Best hyperparameters:\", best_params)\n",
    "print(\"Best MAE:\", best_score)"
   ]
  },
  {
   "cell_type": "code",
   "execution_count": 11,
   "metadata": {},
   "outputs": [
    {
     "data": {
      "text/html": [
       "<style>#sk-container-id-1 {color: black;}#sk-container-id-1 pre{padding: 0;}#sk-container-id-1 div.sk-toggleable {background-color: white;}#sk-container-id-1 label.sk-toggleable__label {cursor: pointer;display: block;width: 100%;margin-bottom: 0;padding: 0.3em;box-sizing: border-box;text-align: center;}#sk-container-id-1 label.sk-toggleable__label-arrow:before {content: \"▸\";float: left;margin-right: 0.25em;color: #696969;}#sk-container-id-1 label.sk-toggleable__label-arrow:hover:before {color: black;}#sk-container-id-1 div.sk-estimator:hover label.sk-toggleable__label-arrow:before {color: black;}#sk-container-id-1 div.sk-toggleable__content {max-height: 0;max-width: 0;overflow: hidden;text-align: left;background-color: #f0f8ff;}#sk-container-id-1 div.sk-toggleable__content pre {margin: 0.2em;color: black;border-radius: 0.25em;background-color: #f0f8ff;}#sk-container-id-1 input.sk-toggleable__control:checked~div.sk-toggleable__content {max-height: 200px;max-width: 100%;overflow: auto;}#sk-container-id-1 input.sk-toggleable__control:checked~label.sk-toggleable__label-arrow:before {content: \"▾\";}#sk-container-id-1 div.sk-estimator input.sk-toggleable__control:checked~label.sk-toggleable__label {background-color: #d4ebff;}#sk-container-id-1 div.sk-label input.sk-toggleable__control:checked~label.sk-toggleable__label {background-color: #d4ebff;}#sk-container-id-1 input.sk-hidden--visually {border: 0;clip: rect(1px 1px 1px 1px);clip: rect(1px, 1px, 1px, 1px);height: 1px;margin: -1px;overflow: hidden;padding: 0;position: absolute;width: 1px;}#sk-container-id-1 div.sk-estimator {font-family: monospace;background-color: #f0f8ff;border: 1px dotted black;border-radius: 0.25em;box-sizing: border-box;margin-bottom: 0.5em;}#sk-container-id-1 div.sk-estimator:hover {background-color: #d4ebff;}#sk-container-id-1 div.sk-parallel-item::after {content: \"\";width: 100%;border-bottom: 1px solid gray;flex-grow: 1;}#sk-container-id-1 div.sk-label:hover label.sk-toggleable__label {background-color: #d4ebff;}#sk-container-id-1 div.sk-serial::before {content: \"\";position: absolute;border-left: 1px solid gray;box-sizing: border-box;top: 0;bottom: 0;left: 50%;z-index: 0;}#sk-container-id-1 div.sk-serial {display: flex;flex-direction: column;align-items: center;background-color: white;padding-right: 0.2em;padding-left: 0.2em;position: relative;}#sk-container-id-1 div.sk-item {position: relative;z-index: 1;}#sk-container-id-1 div.sk-parallel {display: flex;align-items: stretch;justify-content: center;background-color: white;position: relative;}#sk-container-id-1 div.sk-item::before, #sk-container-id-1 div.sk-parallel-item::before {content: \"\";position: absolute;border-left: 1px solid gray;box-sizing: border-box;top: 0;bottom: 0;left: 50%;z-index: -1;}#sk-container-id-1 div.sk-parallel-item {display: flex;flex-direction: column;z-index: 1;position: relative;background-color: white;}#sk-container-id-1 div.sk-parallel-item:first-child::after {align-self: flex-end;width: 50%;}#sk-container-id-1 div.sk-parallel-item:last-child::after {align-self: flex-start;width: 50%;}#sk-container-id-1 div.sk-parallel-item:only-child::after {width: 0;}#sk-container-id-1 div.sk-dashed-wrapped {border: 1px dashed gray;margin: 0 0.4em 0.5em 0.4em;box-sizing: border-box;padding-bottom: 0.4em;background-color: white;}#sk-container-id-1 div.sk-label label {font-family: monospace;font-weight: bold;display: inline-block;line-height: 1.2em;}#sk-container-id-1 div.sk-label-container {text-align: center;}#sk-container-id-1 div.sk-container {/* jupyter's `normalize.less` sets `[hidden] { display: none; }` but bootstrap.min.css set `[hidden] { display: none !important; }` so we also need the `!important` here to be able to override the default hidden behavior on the sphinx rendered scikit-learn.org. See: https://github.com/scikit-learn/scikit-learn/issues/21755 */display: inline-block !important;position: relative;}#sk-container-id-1 div.sk-text-repr-fallback {display: none;}</style><div id=\"sk-container-id-1\" class=\"sk-top-container\"><div class=\"sk-text-repr-fallback\"><pre>RandomForestRegressor(max_features=None, n_estimators=9032, random_state=42)</pre><b>In a Jupyter environment, please rerun this cell to show the HTML representation or trust the notebook. <br />On GitHub, the HTML representation is unable to render, please try loading this page with nbviewer.org.</b></div><div class=\"sk-container\" hidden><div class=\"sk-item\"><div class=\"sk-estimator sk-toggleable\"><input class=\"sk-toggleable__control sk-hidden--visually\" id=\"sk-estimator-id-1\" type=\"checkbox\" checked><label for=\"sk-estimator-id-1\" class=\"sk-toggleable__label sk-toggleable__label-arrow\">RandomForestRegressor</label><div class=\"sk-toggleable__content\"><pre>RandomForestRegressor(max_features=None, n_estimators=9032, random_state=42)</pre></div></div></div></div></div>"
      ],
      "text/plain": [
       "RandomForestRegressor(max_features=None, n_estimators=9032, random_state=42)"
      ]
     },
     "execution_count": 11,
     "metadata": {},
     "output_type": "execute_result"
    }
   ],
   "source": [
    "n_estimators = best_params[0]\n",
    "max_depth = best_params[1]\n",
    "min_samples_split = best_params[2]\n",
    "min_samples_leaf = best_params[3]\n",
    "max_features = best_params[4]\n",
    "\n",
    "rf_model_tuned = RandomForestRegressor(n_estimators=n_estimators,\n",
    "                                          max_depth=max_depth,\n",
    "                                          min_samples_split=min_samples_split,\n",
    "                                          min_samples_leaf=min_samples_leaf,\n",
    "                                          max_features = max_features,\n",
    "                                          random_state=42)\n",
    "\n",
    "rf_model_tuned.fit(X_train, y_train.values.ravel())"
   ]
  },
  {
   "cell_type": "code",
   "execution_count": 14,
   "metadata": {},
   "outputs": [],
   "source": [
    "y_pred_tuned = rf_model_tuned.predict(X_test)\n",
    "\n",
    "tuned_mae = mean_absolute_error(y_test,y_pred_tuned)\n",
    "tuned_r2 = r2_score(y_test,y_pred_tuned)\n",
    "tuned_mape = mean_absolute_percentage_error(y_test,y_pred_tuned)"
   ]
  },
  {
   "cell_type": "code",
   "execution_count": 16,
   "metadata": {},
   "outputs": [
    {
     "name": "stdout",
     "output_type": "stream",
     "text": [
      "Baseline MAE on test set: 0.28505371117097045\n",
      "Baseline r2 on test set: 0.8960661044910936\n",
      "\n",
      "\n",
      "Model MAE on test set: 0.2827849305256138\n",
      "Model r2 on test set: 0.8978096464222939\n",
      "\n",
      "\n",
      "r2 comparison:\n",
      "The tuned model r2 score is a 0.1946% improvement over baseline\n",
      "\n",
      "\n",
      "MAE comparison:\n",
      "The tuned model is a 0.7959% improvement over baseline\n",
      "\n",
      "\n",
      "Mape for the tuned model is : 0.055992312558080626\n"
     ]
    }
   ],
   "source": [
    "\n",
    "print('Baseline MAE on test set:',baseline_mae_score_test)\n",
    "print('Baseline r2 on test set:', baseline_r2_score_test)\n",
    "print('\\n')\n",
    "print('Model MAE on test set:',tuned_mae)\n",
    "print('Model r2 on test set:', tuned_r2)\n",
    "\n",
    "print('\\n')\n",
    "\n",
    "r2_score_difference = tuned_r2 - baseline_r2_score_test\n",
    "r2_percent_difference = round((np.abs(r2_score_difference/baseline_r2_score_test)*100),4)\n",
    "\n",
    "mae_score_difference = tuned_mae - baseline_mae_score_test\n",
    "mae_percent_difference = round((np.abs(mae_score_difference/baseline_mae_score_test)*100),4)\n",
    "\n",
    "\n",
    "print('r2 comparison:')\n",
    "\n",
    "if r2_score_difference  > 0:\n",
    "    print(f'The tuned model r2 score is a {r2_percent_difference}% improvement over baseline')\n",
    "\n",
    "elif r2_score_difference  == 0:\n",
    "        print(f'The tuned model has the same r2 performance as the baseline model')\n",
    "\n",
    "elif r2_score_difference  < 0:\n",
    "    print(f'The tuned model has a {r2_percent_difference}% reduced r2 compared to the baseline model')\n",
    "\n",
    "print('\\n')\n",
    "\n",
    "\n",
    "print('MAE comparison:')\n",
    "\n",
    "if mae_score_difference  < 0:\n",
    "    print(f'The tuned model is a {mae_percent_difference}% improvement over baseline')\n",
    "\n",
    "elif mae_score_difference  == 0:\n",
    "        print(f'The tuned model has the same performance as the baseline model')\n",
    "\n",
    "elif mae_score_difference  > 0:\n",
    "    print(f'The tuned model has a {mae_percent_difference}% higher MAE than the baseline model')\n",
    "\n",
    "print('\\n')\n",
    "print(f\"Mape for the tuned model is : {tuned_mape}\")\n",
    "\n"
   ]
  },
  {
   "cell_type": "markdown",
   "metadata": {},
   "source": [
    "# Train optimized Model on all data<a id='Train optimized Model on all data'></a>"
   ]
  },
  {
   "cell_type": "code",
   "execution_count": 18,
   "metadata": {},
   "outputs": [
    {
     "data": {
      "text/html": [
       "<style>#sk-container-id-2 {color: black;}#sk-container-id-2 pre{padding: 0;}#sk-container-id-2 div.sk-toggleable {background-color: white;}#sk-container-id-2 label.sk-toggleable__label {cursor: pointer;display: block;width: 100%;margin-bottom: 0;padding: 0.3em;box-sizing: border-box;text-align: center;}#sk-container-id-2 label.sk-toggleable__label-arrow:before {content: \"▸\";float: left;margin-right: 0.25em;color: #696969;}#sk-container-id-2 label.sk-toggleable__label-arrow:hover:before {color: black;}#sk-container-id-2 div.sk-estimator:hover label.sk-toggleable__label-arrow:before {color: black;}#sk-container-id-2 div.sk-toggleable__content {max-height: 0;max-width: 0;overflow: hidden;text-align: left;background-color: #f0f8ff;}#sk-container-id-2 div.sk-toggleable__content pre {margin: 0.2em;color: black;border-radius: 0.25em;background-color: #f0f8ff;}#sk-container-id-2 input.sk-toggleable__control:checked~div.sk-toggleable__content {max-height: 200px;max-width: 100%;overflow: auto;}#sk-container-id-2 input.sk-toggleable__control:checked~label.sk-toggleable__label-arrow:before {content: \"▾\";}#sk-container-id-2 div.sk-estimator input.sk-toggleable__control:checked~label.sk-toggleable__label {background-color: #d4ebff;}#sk-container-id-2 div.sk-label input.sk-toggleable__control:checked~label.sk-toggleable__label {background-color: #d4ebff;}#sk-container-id-2 input.sk-hidden--visually {border: 0;clip: rect(1px 1px 1px 1px);clip: rect(1px, 1px, 1px, 1px);height: 1px;margin: -1px;overflow: hidden;padding: 0;position: absolute;width: 1px;}#sk-container-id-2 div.sk-estimator {font-family: monospace;background-color: #f0f8ff;border: 1px dotted black;border-radius: 0.25em;box-sizing: border-box;margin-bottom: 0.5em;}#sk-container-id-2 div.sk-estimator:hover {background-color: #d4ebff;}#sk-container-id-2 div.sk-parallel-item::after {content: \"\";width: 100%;border-bottom: 1px solid gray;flex-grow: 1;}#sk-container-id-2 div.sk-label:hover label.sk-toggleable__label {background-color: #d4ebff;}#sk-container-id-2 div.sk-serial::before {content: \"\";position: absolute;border-left: 1px solid gray;box-sizing: border-box;top: 0;bottom: 0;left: 50%;z-index: 0;}#sk-container-id-2 div.sk-serial {display: flex;flex-direction: column;align-items: center;background-color: white;padding-right: 0.2em;padding-left: 0.2em;position: relative;}#sk-container-id-2 div.sk-item {position: relative;z-index: 1;}#sk-container-id-2 div.sk-parallel {display: flex;align-items: stretch;justify-content: center;background-color: white;position: relative;}#sk-container-id-2 div.sk-item::before, #sk-container-id-2 div.sk-parallel-item::before {content: \"\";position: absolute;border-left: 1px solid gray;box-sizing: border-box;top: 0;bottom: 0;left: 50%;z-index: -1;}#sk-container-id-2 div.sk-parallel-item {display: flex;flex-direction: column;z-index: 1;position: relative;background-color: white;}#sk-container-id-2 div.sk-parallel-item:first-child::after {align-self: flex-end;width: 50%;}#sk-container-id-2 div.sk-parallel-item:last-child::after {align-self: flex-start;width: 50%;}#sk-container-id-2 div.sk-parallel-item:only-child::after {width: 0;}#sk-container-id-2 div.sk-dashed-wrapped {border: 1px dashed gray;margin: 0 0.4em 0.5em 0.4em;box-sizing: border-box;padding-bottom: 0.4em;background-color: white;}#sk-container-id-2 div.sk-label label {font-family: monospace;font-weight: bold;display: inline-block;line-height: 1.2em;}#sk-container-id-2 div.sk-label-container {text-align: center;}#sk-container-id-2 div.sk-container {/* jupyter's `normalize.less` sets `[hidden] { display: none; }` but bootstrap.min.css set `[hidden] { display: none !important; }` so we also need the `!important` here to be able to override the default hidden behavior on the sphinx rendered scikit-learn.org. See: https://github.com/scikit-learn/scikit-learn/issues/21755 */display: inline-block !important;position: relative;}#sk-container-id-2 div.sk-text-repr-fallback {display: none;}</style><div id=\"sk-container-id-2\" class=\"sk-top-container\"><div class=\"sk-text-repr-fallback\"><pre>RandomForestRegressor(max_features=None, n_estimators=9032, random_state=42)</pre><b>In a Jupyter environment, please rerun this cell to show the HTML representation or trust the notebook. <br />On GitHub, the HTML representation is unable to render, please try loading this page with nbviewer.org.</b></div><div class=\"sk-container\" hidden><div class=\"sk-item\"><div class=\"sk-estimator sk-toggleable\"><input class=\"sk-toggleable__control sk-hidden--visually\" id=\"sk-estimator-id-2\" type=\"checkbox\" checked><label for=\"sk-estimator-id-2\" class=\"sk-toggleable__label sk-toggleable__label-arrow\">RandomForestRegressor</label><div class=\"sk-toggleable__content\"><pre>RandomForestRegressor(max_features=None, n_estimators=9032, random_state=42)</pre></div></div></div></div></div>"
      ],
      "text/plain": [
       "RandomForestRegressor(max_features=None, n_estimators=9032, random_state=42)"
      ]
     },
     "execution_count": 18,
     "metadata": {},
     "output_type": "execute_result"
    }
   ],
   "source": [
    "rf_model_final = RandomForestRegressor(n_estimators=n_estimators,\n",
    "                                          max_depth=max_depth,\n",
    "                                          min_samples_split=min_samples_split,\n",
    "                                          min_samples_leaf=min_samples_leaf,\n",
    "                                          max_features = max_features,\n",
    "                                          random_state=42)\n",
    "\n",
    "\n",
    "\n",
    "rf_model_final.fit(X,y.values.ravel())"
   ]
  },
  {
   "cell_type": "markdown",
   "metadata": {},
   "source": [
    "# Plot Feature Importances<a id='Plot Feature Importances'></a>"
   ]
  },
  {
   "cell_type": "markdown",
   "metadata": {},
   "source": [
    "With a final model trained, we can now determine the feature importances of the model as they realate to all of the data.\n",
    "This helps answer the question at the core of this project: \n",
    "\n",
    "What is the most important feature in the collected data in terms of its effect on the Life Ladder score?"
   ]
  },
  {
   "cell_type": "code",
   "execution_count": 19,
   "metadata": {},
   "outputs": [],
   "source": [
    "#Get the array of feature importances from the model. \n",
    "importances = rf_model_final.feature_importances_\n",
    "\n",
    "#Get the list of feature names that the model was trained on\n",
    "feature_names = X.columns\n",
    "\n",
    "# Zip the feature names with their importances\n",
    "feature_importance_tuples = list(zip(feature_names, importances))\n",
    "\n",
    "#Sort the features by importance in decending order\n",
    "feature_importance_tuples = sorted(feature_importance_tuples, key=lambda x: x[1], reverse=True)"
   ]
  },
  {
   "cell_type": "code",
   "execution_count": 20,
   "metadata": {},
   "outputs": [
    {
     "data": {
      "image/png": "[encoded data removed]",
      "text/plain": [
       "<Figure size 640x480 with 1 Axes>"
      ]
     },
     "metadata": {},
     "output_type": "display_data"
    }
   ],
   "source": [
    "features, importances = zip(*feature_importance_tuples)\n",
    "\n",
    "# Create a bar chart\n",
    "plt.bar(features, importances, color='blue')\n",
    "plt.xlabel('Features')\n",
    "plt.ylabel('Importance')\n",
    "plt.title('Feature Importances - Final Model')\n",
    "plt.xticks(rotation=90)\n",
    "plt.show()"
   ]
  },
  {
   "cell_type": "markdown",
   "metadata": {},
   "source": [
    "We see here a familiar pattern in feature importances. Log GDP is by far the most important. \n",
    "This is no suprise given the previous data exploration in the Preprocessing and Training notebook. \n",
    "\n",
    "However, it is notable that the second and third most important features have changed somewhat. \n",
    "Based on previous analysis we would expect the second and third features to be Healthy Life Expectancy, Positive Affect and Regional Indicator.\n",
    "We see here that Positive Affect is now second, replacing Healthy Life Expectancy and Regional Indicator has moved up one place as well. \n",
    "Regional indicator is especially interesting because it's not at all obvious why that would have any particular effect on Life Ladder scores. \n",
    "There is nothing in our data set to help us explore that question unfortunately. \n",
    "\n",
    "Even so, these factors are small in comparison to Log GDP. \n",
    "\n",
    "This doesn't mean that a higher GDP causes people living in a particular country to report being happier. We can't say that there is a causal relationship here. But we can say that there appears to be a significant positive coorelation between a strong econonmy in a general sense and self reported Life Ladder scores. "
   ]
  },
  {
   "cell_type": "markdown",
   "metadata": {},
   "source": [
    "# Save optimized Model<a id='Save optimized Model'></a>"
   ]
  },
  {
   "cell_type": "code",
   "execution_count": 21,
   "metadata": {},
   "outputs": [
    {
     "data": {
      "text/plain": [
       "['/Users/rossbrinkerhoff/Desktop/Springboard/Springboard_Brinkerhoff/Springboard_Capstone_2/Capstone_2/models/rf_final.pkl']"
      ]
     },
     "execution_count": 21,
     "metadata": {},
     "output_type": "execute_result"
    }
   ],
   "source": [
    "rel_file_path = '../models'\n",
    "abs_path = os.path.abspath(rel_file_path)\n",
    "joblib.dump(rf_model_tuned,abs_path + '/rf_final.pkl')"
   ]
  }
 ],
 "metadata": {
  "kernelspec": {
   "display_name": "Springboard_Second_Capstone",
   "language": "python",
   "name": "python3"
  },
  "language_info": {
   "codemirror_mode": {
    "name": "ipython",
    "version": 3
   },
   "file_extension": ".py",
   "mimetype": "text/x-python",
   "name": "python",
   "nbconvert_exporter": "python",
   "pygments_lexer": "ipython3",
   "version": "3.9.18"
  }
 },
 "nbformat": 4,
 "nbformat_minor": 2
}
