{
 "cells": [
  {
   "cell_type": "markdown",
   "metadata": {
    "colab_type": "text",
    "id": "WNK7vbHo-KYU"
   },
   "source": [
    "## Bayesian methods of hyperparameter optimization"
   ]
  },
  {
   "cell_type": "markdown",
   "metadata": {
    "colab_type": "text",
    "id": "BlFdvPwF-KYW"
   },
   "source": [
    "In addition to the random search and the grid search methods for selecting optimal hyperparameters, we can use Bayesian methods of probabilities to select the optimal hyperparameters for an algorithm.\n",
    "\n",
    "In this case study, we will be using the BayesianOptimization library to perform hyperparmater tuning. This library has very good documentation which you can find here: https://github.com/fmfn/BayesianOptimization\n",
    "\n",
    "You will need to install the Bayesian optimization module. Running a cell with an exclamation point in the beginning of the command will run it as a shell command — please do this to install this module from our notebook in the cell below."
   ]
  },
  {
   "cell_type": "code",
   "execution_count": 1,
   "metadata": {
    "colab": {},
    "colab_type": "code",
    "id": "Pssx080d-Ulf"
   },
   "outputs": [],
   "source": [
    "#! pip install bayesian-optimization"
   ]
  },
  {
   "cell_type": "code",
   "execution_count": 2,
   "metadata": {},
   "outputs": [],
   "source": [
    "#! pip install --upgrade graphviz\n",
    "#! pip install --upgrade pygraphviz"
   ]
  },
  {
   "cell_type": "code",
   "execution_count": 3,
   "metadata": {
    "ExecuteTime": {
     "end_time": "2019-04-22T16:39:09.312682Z",
     "start_time": "2019-04-22T16:39:09.309208Z"
    },
    "_kg_hide-input": true,
    "colab": {},
    "colab_type": "code",
    "id": "l9nfFTyj-KYY"
   },
   "outputs": [],
   "source": [
    "import warnings\n",
    "warnings.filterwarnings('ignore')\n",
    "from sklearn.preprocessing import LabelEncoder\n",
    "import numpy as np\n",
    "import pandas as pd\n",
    "from bayes_opt import BayesianOptimization\n"
   ]
  },
  {
   "cell_type": "code",
   "execution_count": 4,
   "metadata": {},
   "outputs": [],
   "source": [
    "from catboost import CatBoostClassifier, cv, Pool"
   ]
  },
  {
   "cell_type": "code",
   "execution_count": 5,
   "metadata": {},
   "outputs": [],
   "source": [
    "import lightgbm"
   ]
  },
  {
   "cell_type": "code",
   "execution_count": 6,
   "metadata": {
    "colab": {
     "base_uri": "https://localhost:8080/",
     "height": 85
    },
    "colab_type": "code",
    "id": "D16Dquw1AAK0",
    "outputId": "44167587-f22e-4bf5-a816-e2bcfdc6c4ee"
   },
   "outputs": [
    {
     "data": {
      "text/plain": [
       "['flight_delays_test.csv.zip',\n",
       " '.DS_Store',\n",
       " 'Bayesian_optimization_case_study.ipynb',\n",
       " 'flight_delays_train.csv.zip']"
      ]
     },
     "execution_count": 6,
     "metadata": {},
     "output_type": "execute_result"
    }
   ],
   "source": [
    "import os\n",
    "os.listdir()"
   ]
  },
  {
   "cell_type": "markdown",
   "metadata": {
    "ExecuteTime": {
     "end_time": "2019-04-22T14:48:15.929012Z",
     "start_time": "2019-04-22T14:48:15.926574Z"
    },
    "colab_type": "text",
    "id": "AkBt3yds-KYu"
   },
   "source": [
    "## How does Bayesian optimization work?"
   ]
  },
  {
   "cell_type": "markdown",
   "metadata": {
    "colab_type": "text",
    "id": "E1kyBCUs-KYv"
   },
   "source": [
    "Bayesian optimization works by constructing a posterior distribution of functions (Gaussian process) that best describes the function you want to optimize. As the number of observations grows, the posterior distribution improves, and the algorithm becomes more certain of which regions in parameter space are worth exploring and which are not, as seen in the picture below."
   ]
  },
  {
   "cell_type": "markdown",
   "metadata": {
    "colab_type": "text",
    "id": "gAdHF72R-KYw"
   },
   "source": [
    "<img src=\"https://github.com/fmfn/BayesianOptimization/blob/master/examples/bo_example.png?raw=true\" />\n",
    "As you iterate over and over, the algorithm balances its needs of exploration and exploitation while taking into account what it knows about the target function. At each step, a Gaussian Process is fitted to the known samples (points previously explored), and the posterior distribution, combined with an exploration strategy (such as UCB — aka Upper Confidence Bound), or EI (Expected Improvement). This process is used to determine the next point that should be explored (see the gif below).\n",
    "<img src=\"https://github.com/fmfn/BayesianOptimization/raw/master/examples/bayesian_optimization.gif\" />"
   ]
  },
  {
   "cell_type": "markdown",
   "metadata": {
    "colab_type": "text",
    "id": "RTP8KUlLoYzu"
   },
   "source": [
    "## Let's look at a simple example"
   ]
  },
  {
   "cell_type": "markdown",
   "metadata": {
    "colab_type": "text",
    "id": "crpPqKdC-KYx"
   },
   "source": [
    "The first step is to create an optimizer. It uses two items:\n",
    "* function to optimize\n",
    "* bounds of parameters\n",
    "\n",
    "The function is the procedure that counts metrics of our model quality. The important thing is that our optimization will maximize the value on function. Smaller metrics are best. Hint: don't forget to use negative metric values."
   ]
  },
  {
   "cell_type": "markdown",
   "metadata": {
    "colab_type": "text",
    "id": "e09ciF8gpTfr"
   },
   "source": [
    "Here we define our simple function we want to optimize."
   ]
  },
  {
   "cell_type": "code",
   "execution_count": 7,
   "metadata": {
    "colab": {},
    "colab_type": "code",
    "id": "ofwvnfEwo5mG"
   },
   "outputs": [],
   "source": [
    "def simple_func(a, b):\n",
    "    return a + b"
   ]
  },
  {
   "cell_type": "markdown",
   "metadata": {
    "colab_type": "text",
    "id": "XCGsdciCpeI3"
   },
   "source": [
    "Now, we define our bounds of the parameters to optimize, within the Bayesian optimizer."
   ]
  },
  {
   "cell_type": "code",
   "execution_count": 8,
   "metadata": {
    "colab": {},
    "colab_type": "code",
    "id": "4jLYW2qnpOFr"
   },
   "outputs": [],
   "source": [
    "optimizer = BayesianOptimization(\n",
    "    simple_func,\n",
    "    {'a': (1, 3),\n",
    "    'b': (4, 7)})"
   ]
  },
  {
   "cell_type": "markdown",
   "metadata": {
    "colab_type": "text",
    "id": "dg6LdYx8pq2T"
   },
   "source": [
    "These are the main parameters of this function:\n",
    "\n",
    "* **n_iter:** This is how many steps of Bayesian optimization you want to perform. The more steps, the more likely you are to find a good maximum.\n",
    "\n",
    "* **init_points:** This is how many steps of random exploration you want to perform. Random exploration can help by diversifying the exploration space."
   ]
  },
  {
   "cell_type": "markdown",
   "metadata": {
    "colab_type": "text",
    "id": "i-GKMJ1uqMYv"
   },
   "source": [
    "Let's run an example where we use the optimizer to find the best values to maximize the target value for a and b given the inputs of 3 and 2."
   ]
  },
  {
   "cell_type": "code",
   "execution_count": 9,
   "metadata": {
    "colab": {
     "base_uri": "https://localhost:8080/",
     "height": 153
    },
    "colab_type": "code",
    "id": "Oy44Ro7wqNat",
    "outputId": "9cc64d54-b1e6-46d1-dc29-4c0039a1c72d"
   },
   "outputs": [
    {
     "name": "stdout",
     "output_type": "stream",
     "text": [
      "|   iter    |  target   |     a     |     b     |\n",
      "-------------------------------------------------\n",
      "| \u001b[0m1        \u001b[0m | \u001b[0m6.413    \u001b[0m | \u001b[0m1.832    \u001b[0m | \u001b[0m4.581    \u001b[0m |\n",
      "| \u001b[0m2        \u001b[0m | \u001b[0m6.015    \u001b[0m | \u001b[0m1.342    \u001b[0m | \u001b[0m4.673    \u001b[0m |\n",
      "| \u001b[95m3        \u001b[0m | \u001b[95m8.26     \u001b[0m | \u001b[95m1.96     \u001b[0m | \u001b[95m6.3      \u001b[0m |\n",
      "| \u001b[95m4        \u001b[0m | \u001b[95m9.478    \u001b[0m | \u001b[95m2.478    \u001b[0m | \u001b[95m7.0      \u001b[0m |\n",
      "| \u001b[95m5        \u001b[0m | \u001b[95m9.528    \u001b[0m | \u001b[95m3.0      \u001b[0m | \u001b[95m6.528    \u001b[0m |\n",
      "=================================================\n"
     ]
    }
   ],
   "source": [
    "optimizer.maximize(3,2)"
   ]
  },
  {
   "cell_type": "markdown",
   "metadata": {
    "colab_type": "text",
    "id": "tyKFMF2Hq2Sx"
   },
   "source": [
    "Great, now let's print the best parameters and the associated maximized target."
   ]
  },
  {
   "cell_type": "code",
   "execution_count": 10,
   "metadata": {
    "colab": {
     "base_uri": "https://localhost:8080/",
     "height": 51
    },
    "colab_type": "code",
    "id": "_H6DixyfscV_",
    "outputId": "fd0c35d7-e30d-4d30-9ab2-12c0fa837971"
   },
   "outputs": [
    {
     "name": "stdout",
     "output_type": "stream",
     "text": [
      "{'a': 3.0, 'b': 6.527711879031396}\n"
     ]
    },
    {
     "data": {
      "text/plain": [
       "9.527711879031397"
      ]
     },
     "execution_count": 10,
     "metadata": {},
     "output_type": "execute_result"
    }
   ],
   "source": [
    "print(optimizer.max['params']);optimizer.max['target']"
   ]
  },
  {
   "cell_type": "markdown",
   "metadata": {
    "colab_type": "text",
    "id": "tQ1T1V6Mspi4"
   },
   "source": [
    "## Test it on real data using the Light GBM"
   ]
  },
  {
   "cell_type": "markdown",
   "metadata": {
    "colab_type": "text",
    "id": "y_oGwREZkm4h"
   },
   "source": [
    "The dataset we will be working with is the famous flight departures dataset. Our modeling goal will be to predict if a flight departure is going to be delayed by 15 minutes based on the other attributes in our dataset. As part of this modeling exercise, we will use Bayesian hyperparameter optimization to identify the best parameters for our model."
   ]
  },
  {
   "cell_type": "markdown",
   "metadata": {
    "colab_type": "text",
    "id": "abYSagjQANDZ"
   },
   "source": [
    "**<font color='teal'> You can load the zipped csv files just as you would regular csv files using Pandas read_csv. In the next cell load the train and test data into two seperate dataframes. </font>**\n"
   ]
  },
  {
   "cell_type": "code",
   "execution_count": 11,
   "metadata": {
    "colab": {},
    "colab_type": "code",
    "id": "EWKBApVuAeJe"
   },
   "outputs": [],
   "source": [
    "train_df = pd.read_csv('flight_delays_train.csv.zip')\n",
    "test_df = pd.read_csv('flight_delays_test.csv.zip')"
   ]
  },
  {
   "cell_type": "markdown",
   "metadata": {
    "colab_type": "text",
    "id": "OapNcT9Eikis"
   },
   "source": [
    "**<font color='teal'> Print the top five rows of the train dataframe and review the columns in the data. </font>**"
   ]
  },
  {
   "cell_type": "code",
   "execution_count": 12,
   "metadata": {
    "colab": {
     "base_uri": "https://localhost:8080/",
     "height": 204
    },
    "colab_type": "code",
    "id": "__4cXZ8iiYaC",
    "outputId": "8718ad4b-8955-486c-9ae8-1dee6aa6c2fb"
   },
   "outputs": [
    {
     "data": {
      "text/html": [
       "<div>\n",
       "<style scoped>\n",
       "    .dataframe tbody tr th:only-of-type {\n",
       "        vertical-align: middle;\n",
       "    }\n",
       "\n",
       "    .dataframe tbody tr th {\n",
       "        vertical-align: top;\n",
       "    }\n",
       "\n",
       "    .dataframe thead th {\n",
       "        text-align: right;\n",
       "    }\n",
       "</style>\n",
       "<table border=\"1\" class=\"dataframe\">\n",
       "  <thead>\n",
       "    <tr style=\"text-align: right;\">\n",
       "      <th></th>\n",
       "      <th>Month</th>\n",
       "      <th>DayofMonth</th>\n",
       "      <th>DayOfWeek</th>\n",
       "      <th>DepTime</th>\n",
       "      <th>UniqueCarrier</th>\n",
       "      <th>Origin</th>\n",
       "      <th>Dest</th>\n",
       "      <th>Distance</th>\n",
       "      <th>dep_delayed_15min</th>\n",
       "    </tr>\n",
       "  </thead>\n",
       "  <tbody>\n",
       "    <tr>\n",
       "      <th>0</th>\n",
       "      <td>c-8</td>\n",
       "      <td>c-21</td>\n",
       "      <td>c-7</td>\n",
       "      <td>1934</td>\n",
       "      <td>AA</td>\n",
       "      <td>ATL</td>\n",
       "      <td>DFW</td>\n",
       "      <td>732</td>\n",
       "      <td>N</td>\n",
       "    </tr>\n",
       "    <tr>\n",
       "      <th>1</th>\n",
       "      <td>c-4</td>\n",
       "      <td>c-20</td>\n",
       "      <td>c-3</td>\n",
       "      <td>1548</td>\n",
       "      <td>US</td>\n",
       "      <td>PIT</td>\n",
       "      <td>MCO</td>\n",
       "      <td>834</td>\n",
       "      <td>N</td>\n",
       "    </tr>\n",
       "    <tr>\n",
       "      <th>2</th>\n",
       "      <td>c-9</td>\n",
       "      <td>c-2</td>\n",
       "      <td>c-5</td>\n",
       "      <td>1422</td>\n",
       "      <td>XE</td>\n",
       "      <td>RDU</td>\n",
       "      <td>CLE</td>\n",
       "      <td>416</td>\n",
       "      <td>N</td>\n",
       "    </tr>\n",
       "    <tr>\n",
       "      <th>3</th>\n",
       "      <td>c-11</td>\n",
       "      <td>c-25</td>\n",
       "      <td>c-6</td>\n",
       "      <td>1015</td>\n",
       "      <td>OO</td>\n",
       "      <td>DEN</td>\n",
       "      <td>MEM</td>\n",
       "      <td>872</td>\n",
       "      <td>N</td>\n",
       "    </tr>\n",
       "    <tr>\n",
       "      <th>4</th>\n",
       "      <td>c-10</td>\n",
       "      <td>c-7</td>\n",
       "      <td>c-6</td>\n",
       "      <td>1828</td>\n",
       "      <td>WN</td>\n",
       "      <td>MDW</td>\n",
       "      <td>OMA</td>\n",
       "      <td>423</td>\n",
       "      <td>Y</td>\n",
       "    </tr>\n",
       "  </tbody>\n",
       "</table>\n",
       "</div>"
      ],
      "text/plain": [
       "  Month DayofMonth DayOfWeek  DepTime UniqueCarrier Origin Dest  Distance  \\\n",
       "0   c-8       c-21       c-7     1934            AA    ATL  DFW       732   \n",
       "1   c-4       c-20       c-3     1548            US    PIT  MCO       834   \n",
       "2   c-9        c-2       c-5     1422            XE    RDU  CLE       416   \n",
       "3  c-11       c-25       c-6     1015            OO    DEN  MEM       872   \n",
       "4  c-10        c-7       c-6     1828            WN    MDW  OMA       423   \n",
       "\n",
       "  dep_delayed_15min  \n",
       "0                 N  \n",
       "1                 N  \n",
       "2                 N  \n",
       "3                 N  \n",
       "4                 Y  "
      ]
     },
     "execution_count": 12,
     "metadata": {},
     "output_type": "execute_result"
    }
   ],
   "source": [
    "train_df.head()"
   ]
  },
  {
   "cell_type": "markdown",
   "metadata": {
    "colab_type": "text",
    "id": "UxGBsPQhffgd"
   },
   "source": [
    "**<font color='teal'> Use the describe function to review the numeric columns in the train dataframe. </font>**"
   ]
  },
  {
   "cell_type": "code",
   "execution_count": 13,
   "metadata": {
    "colab": {
     "base_uri": "https://localhost:8080/",
     "height": 297
    },
    "colab_type": "code",
    "id": "_bRRKG3DAtae",
    "outputId": "7cfb9975-ec97-422c-abbd-98923a0b7aec"
   },
   "outputs": [
    {
     "data": {
      "text/html": [
       "<div>\n",
       "<style scoped>\n",
       "    .dataframe tbody tr th:only-of-type {\n",
       "        vertical-align: middle;\n",
       "    }\n",
       "\n",
       "    .dataframe tbody tr th {\n",
       "        vertical-align: top;\n",
       "    }\n",
       "\n",
       "    .dataframe thead th {\n",
       "        text-align: right;\n",
       "    }\n",
       "</style>\n",
       "<table border=\"1\" class=\"dataframe\">\n",
       "  <thead>\n",
       "    <tr style=\"text-align: right;\">\n",
       "      <th></th>\n",
       "      <th>DepTime</th>\n",
       "      <th>Distance</th>\n",
       "    </tr>\n",
       "  </thead>\n",
       "  <tbody>\n",
       "    <tr>\n",
       "      <th>count</th>\n",
       "      <td>100000.000000</td>\n",
       "      <td>100000.00000</td>\n",
       "    </tr>\n",
       "    <tr>\n",
       "      <th>mean</th>\n",
       "      <td>1341.523880</td>\n",
       "      <td>729.39716</td>\n",
       "    </tr>\n",
       "    <tr>\n",
       "      <th>std</th>\n",
       "      <td>476.378445</td>\n",
       "      <td>574.61686</td>\n",
       "    </tr>\n",
       "    <tr>\n",
       "      <th>min</th>\n",
       "      <td>1.000000</td>\n",
       "      <td>30.00000</td>\n",
       "    </tr>\n",
       "    <tr>\n",
       "      <th>25%</th>\n",
       "      <td>931.000000</td>\n",
       "      <td>317.00000</td>\n",
       "    </tr>\n",
       "    <tr>\n",
       "      <th>50%</th>\n",
       "      <td>1330.000000</td>\n",
       "      <td>575.00000</td>\n",
       "    </tr>\n",
       "    <tr>\n",
       "      <th>75%</th>\n",
       "      <td>1733.000000</td>\n",
       "      <td>957.00000</td>\n",
       "    </tr>\n",
       "    <tr>\n",
       "      <th>max</th>\n",
       "      <td>2534.000000</td>\n",
       "      <td>4962.00000</td>\n",
       "    </tr>\n",
       "  </tbody>\n",
       "</table>\n",
       "</div>"
      ],
      "text/plain": [
       "             DepTime      Distance\n",
       "count  100000.000000  100000.00000\n",
       "mean     1341.523880     729.39716\n",
       "std       476.378445     574.61686\n",
       "min         1.000000      30.00000\n",
       "25%       931.000000     317.00000\n",
       "50%      1330.000000     575.00000\n",
       "75%      1733.000000     957.00000\n",
       "max      2534.000000    4962.00000"
      ]
     },
     "execution_count": 13,
     "metadata": {},
     "output_type": "execute_result"
    }
   ],
   "source": [
    "train_df.describe()"
   ]
  },
  {
   "cell_type": "markdown",
   "metadata": {
    "colab_type": "text",
    "id": "i6k-_fI5Aiyh"
   },
   "source": [
    "Notice, `DepTime` is the departure time in a numeric representation in 2400 hours. "
   ]
  },
  {
   "cell_type": "markdown",
   "metadata": {
    "colab_type": "text",
    "id": "gtZS4-hrlQah"
   },
   "source": [
    " **<font color='teal'>The response variable is 'dep_delayed_15min' which is a categorical column, so we need to map the Y for yes and N for no values to 1 and 0. Run the code in the next cell to do this.</font>**"
   ]
  },
  {
   "cell_type": "code",
   "execution_count": 14,
   "metadata": {
    "ExecuteTime": {
     "end_time": "2019-04-22T15:38:42.677690Z",
     "start_time": "2019-04-22T15:38:42.481963Z"
    },
    "colab": {},
    "colab_type": "code",
    "id": "yRlOTbnW-KYc"
   },
   "outputs": [],
   "source": [
    "#train_df = train_df[train_df.DepTime <= 2400].copy()\n",
    "y_train = train_df['dep_delayed_15min'].map({'Y': 1, 'N': 0}).values"
   ]
  },
  {
   "cell_type": "markdown",
   "metadata": {
    "colab_type": "text",
    "id": "z3WPkFQO9uo9"
   },
   "source": [
    "## Feature Engineering\n",
    "Use these defined functions to create additional features for the model. Run the cell to add the functions to your workspace."
   ]
  },
  {
   "cell_type": "code",
   "execution_count": 15,
   "metadata": {
    "colab": {},
    "colab_type": "code",
    "id": "cXqsqz5W9t3r"
   },
   "outputs": [],
   "source": [
    "def label_enc(df_column):\n",
    "    df_column = LabelEncoder().fit_transform(df_column)\n",
    "    return df_column\n",
    "\n",
    "def make_harmonic_features_sin(value, period=2400):\n",
    "    value *= 2 * np.pi / period \n",
    "    return np.sin(value)\n",
    "\n",
    "def make_harmonic_features_cos(value, period=2400):\n",
    "    value *= 2 * np.pi / period \n",
    "    return np.cos(value)\n",
    "\n",
    "def feature_eng(df):\n",
    "    df['flight'] = df['Origin']+df['Dest']\n",
    "    df['Month'] = df.Month.map(lambda x: x.split('-')[-1]).astype('int32')\n",
    "    df['DayofMonth'] = df.DayofMonth.map(lambda x: x.split('-')[-1]).astype('uint8')\n",
    "    df['begin_of_month'] = (df['DayofMonth'] < 10).astype('uint8')\n",
    "    df['midddle_of_month'] = ((df['DayofMonth'] >= 10)&(df['DayofMonth'] < 20)).astype('uint8')\n",
    "    df['end_of_month'] = (df['DayofMonth'] >= 20).astype('uint8')\n",
    "    df['DayOfWeek'] = df.DayOfWeek.map(lambda x: x.split('-')[-1]).astype('uint8')\n",
    "    df['hour'] = df.DepTime.map(lambda x: x/100).astype('int32')\n",
    "    df['morning'] = df['hour'].map(lambda x: 1 if (x <= 11)& (x >= 7) else 0).astype('uint8')\n",
    "    df['day'] = df['hour'].map(lambda x: 1 if (x >= 12) & (x <= 18) else 0).astype('uint8')\n",
    "    df['evening'] = df['hour'].map(lambda x: 1 if (x >= 19) & (x <= 23) else 0).astype('uint8')\n",
    "    df['night'] = df['hour'].map(lambda x: 1 if (x >= 0) & (x <= 6) else 0).astype('int32')\n",
    "    df['winter'] = df['Month'].map(lambda x: x in [12, 1, 2]).astype('int32')\n",
    "    df['spring'] = df['Month'].map(lambda x: x in [3, 4, 5]).astype('int32')\n",
    "    df['summer'] = df['Month'].map(lambda x: x in [6, 7, 8]).astype('int32')\n",
    "    df['autumn'] = df['Month'].map(lambda x: x in [9, 10, 11]).astype('int32')\n",
    "    df['holiday'] = (df['DayOfWeek'] >= 5).astype(int) \n",
    "    df['weekday'] = (df['DayOfWeek'] < 5).astype(int)\n",
    "    df['airport_dest_per_month'] = df.groupby(['Dest', 'Month'])['Dest'].transform('count')\n",
    "    df['airport_origin_per_month'] = df.groupby(['Origin', 'Month'])['Origin'].transform('count')\n",
    "    df['airport_dest_count'] = df.groupby(['Dest'])['Dest'].transform('count')\n",
    "    df['airport_origin_count'] = df.groupby(['Origin'])['Origin'].transform('count')\n",
    "    df['carrier_count'] = df.groupby(['UniqueCarrier'])['Dest'].transform('count')\n",
    "    df['carrier_count_per month'] = df.groupby(['UniqueCarrier', 'Month'])['Dest'].transform('count')\n",
    "    df['deptime_cos'] = df['DepTime'].map(make_harmonic_features_cos)\n",
    "    df['deptime_sin'] = df['DepTime'].map(make_harmonic_features_sin)\n",
    "    df['flightUC'] = df['flight']+df['UniqueCarrier']\n",
    "    df['DestUC'] = df['Dest']+df['UniqueCarrier']\n",
    "    df['OriginUC'] = df['Origin']+df['UniqueCarrier']\n",
    "    return df.drop('DepTime', axis=1)"
   ]
  },
  {
   "cell_type": "markdown",
   "metadata": {
    "colab_type": "text",
    "id": "-BYbxXpU-FGE"
   },
   "source": [
    "Concatenate the training and testing dataframes.\n"
   ]
  },
  {
   "cell_type": "code",
   "execution_count": 16,
   "metadata": {
    "colab": {},
    "colab_type": "code",
    "id": "Cj6bfSNw_RAf"
   },
   "outputs": [],
   "source": [
    "full_df = pd.concat([train_df.drop('dep_delayed_15min', axis=1), test_df])\n",
    "full_df = feature_eng(full_df)"
   ]
  },
  {
   "cell_type": "markdown",
   "metadata": {
    "colab_type": "text",
    "id": "GSO8JbfM_W-F"
   },
   "source": [
    "Apply the earlier defined feature engineering functions to the full dataframe."
   ]
  },
  {
   "cell_type": "code",
   "execution_count": 17,
   "metadata": {
    "colab": {},
    "colab_type": "code",
    "id": "x6RfAINftjwi"
   },
   "outputs": [],
   "source": [
    "for column in ['UniqueCarrier', 'Origin', 'Dest','flight',  'flightUC', 'DestUC', 'OriginUC']:\n",
    "    full_df[column] = label_enc(full_df[column])"
   ]
  },
  {
   "cell_type": "markdown",
   "metadata": {
    "colab_type": "text",
    "id": "IJAw1RGB_ZuM"
   },
   "source": [
    "\n",
    "Split the new full dataframe into X_train and X_test. "
   ]
  },
  {
   "cell_type": "code",
   "execution_count": 18,
   "metadata": {
    "colab": {},
    "colab_type": "code",
    "id": "15cPtQU5tjfz"
   },
   "outputs": [],
   "source": [
    "X_train = full_df[:train_df.shape[0]]\n",
    "X_test = full_df[train_df.shape[0]:]"
   ]
  },
  {
   "cell_type": "markdown",
   "metadata": {
    "colab_type": "text",
    "id": "umfAw-9JErLV"
   },
   "source": [
    "Create a list of the categorical features."
   ]
  },
  {
   "cell_type": "code",
   "execution_count": 19,
   "metadata": {
    "ExecuteTime": {
     "end_time": "2019-04-22T14:31:58.412296Z",
     "start_time": "2019-04-22T14:31:58.409088Z"
    },
    "colab": {},
    "colab_type": "code",
    "id": "5ibeVyNb-KZI"
   },
   "outputs": [],
   "source": [
    "categorical_features = ['Month',  'DayOfWeek', 'UniqueCarrier', 'Origin', 'Dest','flight',  'flightUC', 'DestUC', 'OriginUC']"
   ]
  },
  {
   "cell_type": "markdown",
   "metadata": {
    "colab_type": "text",
    "id": "NzMIsMPIETVk"
   },
   "source": [
    "Let's build a light GBM model to test the bayesian optimizer."
   ]
  },
  {
   "cell_type": "markdown",
   "metadata": {
    "ExecuteTime": {
     "end_time": "2019-04-22T15:18:04.466965Z",
     "start_time": "2019-04-22T15:18:04.457992Z"
    },
    "colab_type": "text",
    "id": "2hfm1i5G-KZH"
   },
   "source": [
    "### [LightGBM](https://lightgbm.readthedocs.io/en/latest/) is a gradient boosting framework that uses tree-based learning algorithms. It is designed to be distributed and efficient with the following advantages:\n",
    "\n",
    "* Faster training speed and higher efficiency.\n",
    "* Lower memory usage.\n",
    "* Better accuracy.\n",
    "* Support of parallel and GPU learning.\n",
    "* Capable of handling large-scale data."
   ]
  },
  {
   "cell_type": "markdown",
   "metadata": {
    "colab_type": "text",
    "id": "jf-3F2Wg-KZL"
   },
   "source": [
    "First, we define the function we want to maximize and that will count cross-validation metrics of lightGBM for our parameters.\n",
    "\n",
    "Some params such as num_leaves, max_depth, min_child_samples, min_data_in_leaf should be integers."
   ]
  },
  {
   "cell_type": "code",
   "execution_count": 20,
   "metadata": {
    "ExecuteTime": {
     "end_time": "2019-04-22T15:40:14.034265Z",
     "start_time": "2019-04-22T15:40:14.027868Z"
    },
    "colab": {},
    "colab_type": "code",
    "id": "LyUJBhGX-KZM"
   },
   "outputs": [],
   "source": [
    "def lgb_eval(num_leaves,max_depth,lambda_l2,lambda_l1,min_child_samples, min_data_in_leaf):\n",
    "    params = {\n",
    "        \"objective\" : \"binary\",\n",
    "        \"metric\" : \"auc\", \n",
    "        'is_unbalance': True,\n",
    "        \"num_leaves\" : int(num_leaves),\n",
    "        \"max_depth\" : int(max_depth),\n",
    "        \"lambda_l2\" : lambda_l2,\n",
    "        \"lambda_l1\" : lambda_l1,\n",
    "        \"num_threads\" : 20,\n",
    "        \"min_child_samples\" : int(min_child_samples),\n",
    "        'min_data_in_leaf': int(min_data_in_leaf),\n",
    "        \"learning_rate\" : 0.03,\n",
    "        \"subsample_freq\" : 5,\n",
    "        \"bagging_seed\" : 42,\n",
    "        \"verbosity\" : -1\n",
    "    }\n",
    "\n",
    "    early_stopping_callback = lightgbm.early_stopping(stopping_rounds=100)\n",
    "    lgtrain = lightgbm.Dataset(X_train, y_train,categorical_feature=categorical_features)\n",
    "    cv_result = lightgbm.cv(params,\n",
    "                       lgtrain,\n",
    "                       num_boost_round =1000,\n",
    "                       stratified=True,\n",
    "                       nfold=3,\n",
    "                       callbacks=[early_stopping_callback])\n",
    "    #print(cv_result.keys())\n",
    "    return cv_result['valid auc-mean'][-1]"
   ]
  },
  {
   "cell_type": "markdown",
   "metadata": {
    "colab_type": "text",
    "id": "FJwqBhdeF11Q"
   },
   "source": [
    "Apply the Bayesian optimizer to the function we created in the previous step to identify the best hyperparameters. We will run 10 iterations and set init_points = 2.\n"
   ]
  },
  {
   "cell_type": "code",
   "execution_count": 21,
   "metadata": {
    "ExecuteTime": {
     "end_time": "2019-04-22T15:48:04.682447Z",
     "start_time": "2019-04-22T15:40:14.641634Z"
    },
    "colab": {
     "base_uri": "https://localhost:8080/",
     "height": 51
    },
    "colab_type": "code",
    "id": "JheCOkUE-KZP",
    "outputId": "8f37ee51-885d-44e4-cdcd-ceb7abd58b61"
   },
   "outputs": [
    {
     "name": "stdout",
     "output_type": "stream",
     "text": [
      "|   iter    |  target   | lambda_l1 | lambda_l2 | max_depth | min_ch... | min_da... | num_le... |\n",
      "-------------------------------------------------------------------------------------------------\n",
      "Training until validation scores don't improve for 100 rounds\n",
      "Did not meet early stopping. Best iteration is:\n",
      "[998]\tcv_agg's valid auc: 0.742633 + 0.00378792\n",
      "| \u001b[0m1        \u001b[0m | \u001b[0m0.7426   \u001b[0m | \u001b[0m0.034    \u001b[0m | \u001b[0m0.03979  \u001b[0m | \u001b[0m11.19    \u001b[0m | \u001b[0m6.975e+03\u001b[0m | \u001b[0m1.265e+03\u001b[0m | \u001b[0m1.035e+03\u001b[0m |\n",
      "Training until validation scores don't improve for 100 rounds\n",
      "Early stopping, best iteration is:\n",
      "[829]\tcv_agg's valid auc: 0.743523 + 0.0043726\n",
      "| \u001b[95m2        \u001b[0m | \u001b[95m0.7435   \u001b[0m | \u001b[95m0.0008579\u001b[0m | \u001b[95m0.02879  \u001b[0m | \u001b[95m42.24    \u001b[0m | \u001b[95m527.4    \u001b[0m | \u001b[95m1.859e+03\u001b[0m | \u001b[95m2.251e+03\u001b[0m |\n",
      "Training until validation scores don't improve for 100 rounds\n",
      "Did not meet early stopping. Best iteration is:\n",
      "[929]\tcv_agg's valid auc: 0.743655 + 0.00412294\n",
      "| \u001b[95m3        \u001b[0m | \u001b[95m0.7437   \u001b[0m | \u001b[95m0.018    \u001b[0m | \u001b[95m0.02235  \u001b[0m | \u001b[95m54.01    \u001b[0m | \u001b[95m5.052e+03\u001b[0m | \u001b[95m1.79e+03 \u001b[0m | \u001b[95m1.825e+03\u001b[0m |\n",
      "Training until validation scores don't improve for 100 rounds\n",
      "Early stopping, best iteration is:\n",
      "[176]\tcv_agg's valid auc: 0.726739 + 0.00394095\n",
      "| \u001b[0m4        \u001b[0m | \u001b[0m0.7267   \u001b[0m | \u001b[0m0.02696  \u001b[0m | \u001b[0m0.01302  \u001b[0m | \u001b[0m26.16    \u001b[0m | \u001b[0m9.769e+03\u001b[0m | \u001b[0m790.8    \u001b[0m | \u001b[0m840.2    \u001b[0m |\n",
      "Training until validation scores don't improve for 100 rounds\n",
      "Did not meet early stopping. Best iteration is:\n",
      "[1000]\tcv_agg's valid auc: 0.742741 + 0.00488666\n",
      "| \u001b[0m5        \u001b[0m | \u001b[0m0.7427   \u001b[0m | \u001b[0m0.03006  \u001b[0m | \u001b[0m0.02201  \u001b[0m | \u001b[0m6.009    \u001b[0m | \u001b[0m6.121e+03\u001b[0m | \u001b[0m1.818e+03\u001b[0m | \u001b[0m3.675e+03\u001b[0m |\n",
      "Training until validation scores don't improve for 100 rounds\n",
      "Early stopping, best iteration is:\n",
      "[221]\tcv_agg's valid auc: 0.725805 + 0.0035777\n",
      "| \u001b[0m6        \u001b[0m | \u001b[0m0.7258   \u001b[0m | \u001b[0m0.006119 \u001b[0m | \u001b[0m0.0489   \u001b[0m | \u001b[0m43.08    \u001b[0m | \u001b[0m2.988e+03\u001b[0m | \u001b[0m671.3    \u001b[0m | \u001b[0m2.561e+03\u001b[0m |\n",
      "Training until validation scores don't improve for 100 rounds\n",
      "Early stopping, best iteration is:\n",
      "[198]\tcv_agg's valid auc: 0.727888 + 0.00515757\n",
      "| \u001b[0m7        \u001b[0m | \u001b[0m0.7279   \u001b[0m | \u001b[0m0.02595  \u001b[0m | \u001b[0m0.02813  \u001b[0m | \u001b[0m5.572    \u001b[0m | \u001b[0m3.879e+03\u001b[0m | \u001b[0m650.6    \u001b[0m | \u001b[0m364.5    \u001b[0m |\n",
      "Training until validation scores don't improve for 100 rounds\n",
      "Did not meet early stopping. Best iteration is:\n",
      "[973]\tcv_agg's valid auc: 0.743504 + 0.00412336\n",
      "| \u001b[0m8        \u001b[0m | \u001b[0m0.7435   \u001b[0m | \u001b[0m0.01093  \u001b[0m | \u001b[0m0.00174  \u001b[0m | \u001b[0m23.85    \u001b[0m | \u001b[0m2.755e+03\u001b[0m | \u001b[0m1.717e+03\u001b[0m | \u001b[0m934.8    \u001b[0m |\n",
      "Training until validation scores don't improve for 100 rounds\n",
      "Early stopping, best iteration is:\n",
      "[188]\tcv_agg's valid auc: 0.726243 + 0.00436693\n",
      "| \u001b[0m9        \u001b[0m | \u001b[0m0.7262   \u001b[0m | \u001b[0m0.02202  \u001b[0m | \u001b[0m0.0405   \u001b[0m | \u001b[0m10.9     \u001b[0m | \u001b[0m8.432e+03\u001b[0m | \u001b[0m591.6    \u001b[0m | \u001b[0m1.9e+03  \u001b[0m |\n",
      "Training until validation scores don't improve for 100 rounds\n",
      "Did not meet early stopping. Best iteration is:\n",
      "[945]\tcv_agg's valid auc: 0.743288 + 0.00475332\n",
      "| \u001b[0m10       \u001b[0m | \u001b[0m0.7433   \u001b[0m | \u001b[0m0.03834  \u001b[0m | \u001b[0m0.01285  \u001b[0m | \u001b[0m32.01    \u001b[0m | \u001b[0m634.2    \u001b[0m | \u001b[0m1.889e+03\u001b[0m | \u001b[0m2.051e+03\u001b[0m |\n",
      "Training until validation scores don't improve for 100 rounds\n",
      "Early stopping, best iteration is:\n",
      "[799]\tcv_agg's valid auc: 0.743214 + 0.00469846\n",
      "| \u001b[0m11       \u001b[0m | \u001b[0m0.7432   \u001b[0m | \u001b[0m0.01909  \u001b[0m | \u001b[0m0.04671  \u001b[0m | \u001b[0m25.61    \u001b[0m | \u001b[0m6.392e+03\u001b[0m | \u001b[0m1.934e+03\u001b[0m | \u001b[0m2.265e+03\u001b[0m |\n",
      "Training until validation scores don't improve for 100 rounds\n",
      "Did not meet early stopping. Best iteration is:\n",
      "[953]\tcv_agg's valid auc: 0.74349 + 0.00448576\n",
      "| \u001b[0m12       \u001b[0m | \u001b[0m0.7435   \u001b[0m | \u001b[0m0.02989  \u001b[0m | \u001b[0m0.01355  \u001b[0m | \u001b[0m59.1     \u001b[0m | \u001b[0m1.495e+03\u001b[0m | \u001b[0m1.939e+03\u001b[0m | \u001b[0m134.5    \u001b[0m |\n",
      "=================================================================================================\n"
     ]
    }
   ],
   "source": [
    "lgbBO = BayesianOptimization(lgb_eval, {'num_leaves': (25, 4000),\n",
    "                                                'max_depth': (5, 63),\n",
    "                                                'lambda_l2': (0.0, 0.05),\n",
    "                                                'lambda_l1': (0.0, 0.05),\n",
    "                                                'min_child_samples': (50, 10000),\n",
    "                                                'min_data_in_leaf': (100, 2000)\n",
    "                                                })\n",
    "\n",
    "lgbBO.maximize(n_iter=10, init_points=2)"
   ]
  },
  {
   "cell_type": "markdown",
   "metadata": {
    "colab_type": "text",
    "id": "rdkxhhST-KZS"
   },
   "source": [
    " **<font color='teal'> Print the best result by using the '.max' function.</font>**"
   ]
  },
  {
   "cell_type": "code",
   "execution_count": 22,
   "metadata": {
    "ExecuteTime": {
     "end_time": "2019-04-22T15:49:01.513767Z",
     "start_time": "2019-04-22T15:49:01.509392Z"
    },
    "colab": {},
    "colab_type": "code",
    "id": "oc8z6mfy-KZS"
   },
   "outputs": [
    {
     "data": {
      "text/plain": [
       "{'target': 0.7436554605519623,\n",
       " 'params': {'lambda_l1': 0.01799778114090698,\n",
       "  'lambda_l2': 0.022345988749849804,\n",
       "  'max_depth': 54.012814616986724,\n",
       "  'min_child_samples': 5051.724490255255,\n",
       "  'min_data_in_leaf': 1790.3921483817019,\n",
       "  'num_leaves': 1824.9430177670004}}"
      ]
     },
     "execution_count": 22,
     "metadata": {},
     "output_type": "execute_result"
    }
   ],
   "source": [
    "lgbBO.max"
   ]
  },
  {
   "cell_type": "markdown",
   "metadata": {
    "ExecuteTime": {
     "end_time": "2019-04-22T15:50:29.049881Z",
     "start_time": "2019-04-22T15:50:29.045908Z"
    },
    "colab_type": "text",
    "id": "J5LAydKC-KZW"
   },
   "source": [
    "Review the process at each step by using the '.res[0]' function."
   ]
  },
  {
   "cell_type": "code",
   "execution_count": 23,
   "metadata": {
    "ExecuteTime": {
     "end_time": "2019-04-22T15:51:01.001688Z",
     "start_time": "2019-04-22T15:51:00.997484Z"
    },
    "colab": {},
    "colab_type": "code",
    "id": "X1ttZmrI-KZX"
   },
   "outputs": [
    {
     "data": {
      "text/plain": [
       "{'target': 0.742633432724732,\n",
       " 'params': {'lambda_l1': 0.034004390896542294,\n",
       "  'lambda_l2': 0.039789113299697865,\n",
       "  'max_depth': 11.190614018502815,\n",
       "  'min_child_samples': 6974.76637768443,\n",
       "  'min_data_in_leaf': 1264.7473764282395,\n",
       "  'num_leaves': 1034.9860507111434}}"
      ]
     },
     "execution_count": 23,
     "metadata": {},
     "output_type": "execute_result"
    }
   ],
   "source": [
    "lgbBO.res[0]"
   ]
  },
  {
   "cell_type": "code",
   "execution_count": 24,
   "metadata": {},
   "outputs": [],
   "source": [
    "target_scores = []\n",
    "\n",
    "for i in lgbBO.res:\n",
    "    target_scores.append(i['target'])"
   ]
  },
  {
   "cell_type": "code",
   "execution_count": 25,
   "metadata": {},
   "outputs": [
    {
     "data": {
      "image/png": "[encoded data removed]",
      "text/plain": [
       "<Figure size 640x480 with 1 Axes>"
      ]
     },
     "metadata": {},
     "output_type": "display_data"
    }
   ],
   "source": [
    "import matplotlib.pyplot as plt\n",
    "\n",
    "x_values = range(1, len(target_scores) + 1)\n",
    "\n",
    "plt.plot(x_values,target_scores)\n",
    "\n",
    "plt.axvline(target_scores.index(lgbBO.max['target'])+1, color = 'r', linestyle ='--', label = 'best score')\n",
    "\n",
    "plt.xticks([1,2,3,4,5,6,7,8,9,10,11,12])\n",
    "\n",
    "\n",
    "\n",
    "plt.xlabel('Iteration')\n",
    "plt.ylabel('Mean AUC')\n",
    "\n",
    "plt.legend()\n",
    "plt.title('Bayesian Optimization Results')\n",
    "\n",
    "plt.show()"
   ]
  },
  {
   "cell_type": "markdown",
   "metadata": {},
   "source": [
    "The optimization didn't do a great job in this case. We never really saw improvement. \n",
    "There were only 10 iterations, and two exploratory n_init points. I'm going to run the whole thing again with different parameters to see\n",
    "if this can be improved. "
   ]
  },
  {
   "cell_type": "code",
   "execution_count": 26,
   "metadata": {},
   "outputs": [
    {
     "name": "stdout",
     "output_type": "stream",
     "text": [
      "|   iter    |  target   | lambda_l1 | lambda_l2 | max_depth | min_ch... | min_da... | num_le... |\n",
      "-------------------------------------------------------------------------------------------------\n",
      "Training until validation scores don't improve for 100 rounds\n",
      "Early stopping, best iteration is:\n",
      "[899]\tcv_agg's valid auc: 0.743147 + 0.00388248\n",
      "| \u001b[0m1        \u001b[0m | \u001b[0m0.7431   \u001b[0m | \u001b[0m0.03261  \u001b[0m | \u001b[0m0.0002486\u001b[0m | \u001b[0m12.38    \u001b[0m | \u001b[0m9.682e+03\u001b[0m | \u001b[0m1.887e+03\u001b[0m | \u001b[0m594.7    \u001b[0m |\n",
      "Training until validation scores don't improve for 100 rounds\n",
      "Early stopping, best iteration is:\n",
      "[837]\tcv_agg's valid auc: 0.743444 + 0.00499525\n",
      "| \u001b[95m2        \u001b[0m | \u001b[95m0.7434   \u001b[0m | \u001b[95m0.03657  \u001b[0m | \u001b[95m0.01413  \u001b[0m | \u001b[95m12.93    \u001b[0m | \u001b[95m4.786e+03\u001b[0m | \u001b[95m1.96e+03 \u001b[0m | \u001b[95m1.654e+03\u001b[0m |\n",
      "Training until validation scores don't improve for 100 rounds\n",
      "Early stopping, best iteration is:\n",
      "[196]\tcv_agg's valid auc: 0.725812 + 0.00329789\n",
      "| \u001b[0m3        \u001b[0m | \u001b[0m0.7258   \u001b[0m | \u001b[0m0.02613  \u001b[0m | \u001b[0m0.0392   \u001b[0m | \u001b[0m51.88    \u001b[0m | \u001b[0m60.41    \u001b[0m | \u001b[0m704.9    \u001b[0m | \u001b[0m585.5    \u001b[0m |\n",
      "Training until validation scores don't improve for 100 rounds\n",
      "Did not meet early stopping. Best iteration is:\n",
      "[966]\tcv_agg's valid auc: 0.743786 + 0.00449583\n",
      "| \u001b[95m4        \u001b[0m | \u001b[95m0.7438   \u001b[0m | \u001b[95m0.01801  \u001b[0m | \u001b[95m0.03414  \u001b[0m | \u001b[95m43.6     \u001b[0m | \u001b[95m9.697e+03\u001b[0m | \u001b[95m1.719e+03\u001b[0m | \u001b[95m2.337e+03\u001b[0m |\n",
      "Training until validation scores don't improve for 100 rounds\n",
      "Early stopping, best iteration is:\n",
      "[776]\tcv_agg's valid auc: 0.742921 + 0.00403553\n",
      "| \u001b[0m5        \u001b[0m | \u001b[0m0.7429   \u001b[0m | \u001b[0m0.04135  \u001b[0m | \u001b[0m0.02197  \u001b[0m | \u001b[0m31.34    \u001b[0m | \u001b[0m1.65e+03 \u001b[0m | \u001b[0m1.359e+03\u001b[0m | \u001b[0m2.848e+03\u001b[0m |\n",
      "Training until validation scores don't improve for 100 rounds\n",
      "Early stopping, best iteration is:\n",
      "[31]\tcv_agg's valid auc: 0.71902 + 0.0036156\n",
      "| \u001b[0m6        \u001b[0m | \u001b[0m0.719    \u001b[0m | \u001b[0m0.01813  \u001b[0m | \u001b[0m0.02038  \u001b[0m | \u001b[0m18.75    \u001b[0m | \u001b[0m905.8    \u001b[0m | \u001b[0m408.0    \u001b[0m | \u001b[0m853.4    \u001b[0m |\n",
      "Training until validation scores don't improve for 100 rounds\n",
      "Did not meet early stopping. Best iteration is:\n",
      "[981]\tcv_agg's valid auc: 0.7439 + 0.00460444\n",
      "| \u001b[95m7        \u001b[0m | \u001b[95m0.7439   \u001b[0m | \u001b[95m0.03647  \u001b[0m | \u001b[95m0.03325  \u001b[0m | \u001b[95m42.44    \u001b[0m | \u001b[95m3.56e+03 \u001b[0m | \u001b[95m1.808e+03\u001b[0m | \u001b[95m3.368e+03\u001b[0m |\n",
      "Training until validation scores don't improve for 100 rounds\n",
      "Did not meet early stopping. Best iteration is:\n",
      "[955]\tcv_agg's valid auc: 0.7433 + 0.00448892\n",
      "| \u001b[0m8        \u001b[0m | \u001b[0m0.7433   \u001b[0m | \u001b[0m0.001757 \u001b[0m | \u001b[0m0.04113  \u001b[0m | \u001b[0m31.67    \u001b[0m | \u001b[0m7.393e+03\u001b[0m | \u001b[0m1.758e+03\u001b[0m | \u001b[0m1.84e+03 \u001b[0m |\n",
      "Training until validation scores don't improve for 100 rounds\n",
      "Early stopping, best iteration is:\n",
      "[30]\tcv_agg's valid auc: 0.720692 + 0.00429235\n",
      "| \u001b[0m9        \u001b[0m | \u001b[0m0.7207   \u001b[0m | \u001b[0m0.02099  \u001b[0m | \u001b[0m0.03058  \u001b[0m | \u001b[0m25.19    \u001b[0m | \u001b[0m3.309e+03\u001b[0m | \u001b[0m245.1    \u001b[0m | \u001b[0m1.939e+03\u001b[0m |\n",
      "Training until validation scores don't improve for 100 rounds\n",
      "Early stopping, best iteration is:\n",
      "[773]\tcv_agg's valid auc: 0.743296 + 0.00483358\n",
      "| \u001b[0m10       \u001b[0m | \u001b[0m0.7433   \u001b[0m | \u001b[0m0.02469  \u001b[0m | \u001b[0m0.02224  \u001b[0m | \u001b[0m26.84    \u001b[0m | \u001b[0m5.923e+03\u001b[0m | \u001b[0m1.99e+03 \u001b[0m | \u001b[0m3.724e+03\u001b[0m |\n",
      "Training until validation scores don't improve for 100 rounds\n",
      "Did not meet early stopping. Best iteration is:\n",
      "[996]\tcv_agg's valid auc: 0.743242 + 0.00368621\n",
      "| \u001b[0m11       \u001b[0m | \u001b[0m0.7432   \u001b[0m | \u001b[0m0.03071  \u001b[0m | \u001b[0m0.002154 \u001b[0m | \u001b[0m10.84    \u001b[0m | \u001b[0m3.61e+03 \u001b[0m | \u001b[0m1.242e+03\u001b[0m | \u001b[0m1.732e+03\u001b[0m |\n",
      "Training until validation scores don't improve for 100 rounds\n",
      "Did not meet early stopping. Best iteration is:\n",
      "[927]\tcv_agg's valid auc: 0.743584 + 0.00422746\n",
      "| \u001b[0m12       \u001b[0m | \u001b[0m0.7436   \u001b[0m | \u001b[0m0.03425  \u001b[0m | \u001b[0m0.03529  \u001b[0m | \u001b[0m41.85    \u001b[0m | \u001b[0m2.859e+03\u001b[0m | \u001b[0m1.973e+03\u001b[0m | \u001b[0m2.391e+03\u001b[0m |\n",
      "Training until validation scores don't improve for 100 rounds\n",
      "Did not meet early stopping. Best iteration is:\n",
      "[999]\tcv_agg's valid auc: 0.743496 + 0.00462248\n",
      "| \u001b[0m13       \u001b[0m | \u001b[0m0.7435   \u001b[0m | \u001b[0m0.04297  \u001b[0m | \u001b[0m0.04326  \u001b[0m | \u001b[0m17.36    \u001b[0m | \u001b[0m3.777e+03\u001b[0m | \u001b[0m1.993e+03\u001b[0m | \u001b[0m616.7    \u001b[0m |\n",
      "Training until validation scores don't improve for 100 rounds\n",
      "Early stopping, best iteration is:\n",
      "[36]\tcv_agg's valid auc: 0.719119 + 0.00357723\n",
      "| \u001b[0m14       \u001b[0m | \u001b[0m0.7191   \u001b[0m | \u001b[0m0.02443  \u001b[0m | \u001b[0m0.02935  \u001b[0m | \u001b[0m51.4     \u001b[0m | \u001b[0m8.844e+03\u001b[0m | \u001b[0m425.0    \u001b[0m | \u001b[0m1.451e+03\u001b[0m |\n",
      "Training until validation scores don't improve for 100 rounds\n",
      "Early stopping, best iteration is:\n",
      "[897]\tcv_agg's valid auc: 0.743712 + 0.00430738\n",
      "| \u001b[0m15       \u001b[0m | \u001b[0m0.7437   \u001b[0m | \u001b[0m0.0212   \u001b[0m | \u001b[0m0.004706 \u001b[0m | \u001b[0m36.96    \u001b[0m | \u001b[0m9.689e+03\u001b[0m | \u001b[0m1.674e+03\u001b[0m | \u001b[0m1.529e+03\u001b[0m |\n",
      "Training until validation scores don't improve for 100 rounds\n",
      "Did not meet early stopping. Best iteration is:\n",
      "[901]\tcv_agg's valid auc: 0.743696 + 0.00461671\n",
      "| \u001b[0m16       \u001b[0m | \u001b[0m0.7437   \u001b[0m | \u001b[0m0.01992  \u001b[0m | \u001b[0m0.03969  \u001b[0m | \u001b[0m47.25    \u001b[0m | \u001b[0m2.114e+03\u001b[0m | \u001b[0m1.949e+03\u001b[0m | \u001b[0m3.966e+03\u001b[0m |\n",
      "Training until validation scores don't improve for 100 rounds\n",
      "Early stopping, best iteration is:\n",
      "[25]\tcv_agg's valid auc: 0.719523 + 0.00376682\n",
      "| \u001b[0m17       \u001b[0m | \u001b[0m0.7195   \u001b[0m | \u001b[0m0.01147  \u001b[0m | \u001b[0m0.04774  \u001b[0m | \u001b[0m53.51    \u001b[0m | \u001b[0m1.462e+03\u001b[0m | \u001b[0m305.2    \u001b[0m | \u001b[0m2.572e+03\u001b[0m |\n",
      "Training until validation scores don't improve for 100 rounds\n",
      "Did not meet early stopping. Best iteration is:\n",
      "[998]\tcv_agg's valid auc: 0.743295 + 0.00438347\n",
      "| \u001b[0m18       \u001b[0m | \u001b[0m0.7433   \u001b[0m | \u001b[0m0.04676  \u001b[0m | \u001b[0m0.002864 \u001b[0m | \u001b[0m7.819    \u001b[0m | \u001b[0m9.687e+03\u001b[0m | \u001b[0m1.706e+03\u001b[0m | \u001b[0m2.417e+03\u001b[0m |\n",
      "Training until validation scores don't improve for 100 rounds\n",
      "Early stopping, best iteration is:\n",
      "[887]\tcv_agg's valid auc: 0.743063 + 0.0043373\n",
      "| \u001b[0m19       \u001b[0m | \u001b[0m0.7431   \u001b[0m | \u001b[0m0.03101  \u001b[0m | \u001b[0m0.02183  \u001b[0m | \u001b[0m60.53    \u001b[0m | \u001b[0m348.3    \u001b[0m | \u001b[0m1.989e+03\u001b[0m | \u001b[0m3.5e+03  \u001b[0m |\n",
      "Training until validation scores don't improve for 100 rounds\n",
      "Did not meet early stopping. Best iteration is:\n",
      "[905]\tcv_agg's valid auc: 0.743271 + 0.00450318\n",
      "| \u001b[0m20       \u001b[0m | \u001b[0m0.7433   \u001b[0m | \u001b[0m0.02401  \u001b[0m | \u001b[0m0.002052 \u001b[0m | \u001b[0m22.22    \u001b[0m | \u001b[0m4.531e+03\u001b[0m | \u001b[0m1.983e+03\u001b[0m | \u001b[0m3.576e+03\u001b[0m |\n",
      "Training until validation scores don't improve for 100 rounds\n",
      "Did not meet early stopping. Best iteration is:\n",
      "[985]\tcv_agg's valid auc: 0.743295 + 0.0047867\n",
      "| \u001b[0m21       \u001b[0m | \u001b[0m0.7433   \u001b[0m | \u001b[0m0.03305  \u001b[0m | \u001b[0m0.02346  \u001b[0m | \u001b[0m61.75    \u001b[0m | \u001b[0m7.806e+03\u001b[0m | \u001b[0m1.961e+03\u001b[0m | \u001b[0m3.989e+03\u001b[0m |\n",
      "Training until validation scores don't improve for 100 rounds\n",
      "Did not meet early stopping. Best iteration is:\n",
      "[934]\tcv_agg's valid auc: 0.743467 + 0.00450306\n",
      "| \u001b[0m22       \u001b[0m | \u001b[0m0.7435   \u001b[0m | \u001b[0m0.03564  \u001b[0m | \u001b[0m0.001096 \u001b[0m | \u001b[0m48.65    \u001b[0m | \u001b[0m8.765e+03\u001b[0m | \u001b[0m1.528e+03\u001b[0m | \u001b[0m159.5    \u001b[0m |\n",
      "Training until validation scores don't improve for 100 rounds\n",
      "Early stopping, best iteration is:\n",
      "[861]\tcv_agg's valid auc: 0.743583 + 0.0043221\n",
      "| \u001b[0m23       \u001b[0m | \u001b[0m0.7436   \u001b[0m | \u001b[0m0.04867  \u001b[0m | \u001b[0m0.02162  \u001b[0m | \u001b[0m29.46    \u001b[0m | \u001b[0m7.774e+03\u001b[0m | \u001b[0m1.706e+03\u001b[0m | \u001b[0m3.574e+03\u001b[0m |\n",
      "Training until validation scores don't improve for 100 rounds\n",
      "Did not meet early stopping. Best iteration is:\n",
      "[998]\tcv_agg's valid auc: 0.743683 + 0.00451403\n",
      "| \u001b[0m24       \u001b[0m | \u001b[0m0.7437   \u001b[0m | \u001b[0m0.03067  \u001b[0m | \u001b[0m0.01841  \u001b[0m | \u001b[0m55.15    \u001b[0m | \u001b[0m6.695e+03\u001b[0m | \u001b[0m1.992e+03\u001b[0m | \u001b[0m30.78    \u001b[0m |\n",
      "Training until validation scores don't improve for 100 rounds\n",
      "Early stopping, best iteration is:\n",
      "[25]\tcv_agg's valid auc: 0.719629 + 0.00419824\n",
      "| \u001b[0m25       \u001b[0m | \u001b[0m0.7196   \u001b[0m | \u001b[0m0.01097  \u001b[0m | \u001b[0m0.02455  \u001b[0m | \u001b[0m25.76    \u001b[0m | \u001b[0m6.386e+03\u001b[0m | \u001b[0m299.8    \u001b[0m | \u001b[0m3.929e+03\u001b[0m |\n",
      "Training until validation scores don't improve for 100 rounds\n",
      "Early stopping, best iteration is:\n",
      "[72]\tcv_agg's valid auc: 0.718819 + 0.00442698\n",
      "| \u001b[0m26       \u001b[0m | \u001b[0m0.7188   \u001b[0m | \u001b[0m0.03688  \u001b[0m | \u001b[0m0.04762  \u001b[0m | \u001b[0m15.11    \u001b[0m | \u001b[0m5.513e+03\u001b[0m | \u001b[0m464.5    \u001b[0m | \u001b[0m30.47    \u001b[0m |\n",
      "Training until validation scores don't improve for 100 rounds\n",
      "Did not meet early stopping. Best iteration is:\n",
      "[960]\tcv_agg's valid auc: 0.743333 + 0.00468603\n",
      "| \u001b[0m27       \u001b[0m | \u001b[0m0.7433   \u001b[0m | \u001b[0m0.01283  \u001b[0m | \u001b[0m0.01821  \u001b[0m | \u001b[0m27.73    \u001b[0m | \u001b[0m4.527e+03\u001b[0m | \u001b[0m1.998e+03\u001b[0m | \u001b[0m3.577e+03\u001b[0m |\n",
      "Training until validation scores don't improve for 100 rounds\n",
      "Did not meet early stopping. Best iteration is:\n",
      "[950]\tcv_agg's valid auc: 0.743029 + 0.00412252\n",
      "| \u001b[0m28       \u001b[0m | \u001b[0m0.743    \u001b[0m | \u001b[0m0.04093  \u001b[0m | \u001b[0m0.02837  \u001b[0m | \u001b[0m7.625    \u001b[0m | \u001b[0m7.801e+03\u001b[0m | \u001b[0m1.998e+03\u001b[0m | \u001b[0m104.2    \u001b[0m |\n",
      "Training until validation scores don't improve for 100 rounds\n",
      "Did not meet early stopping. Best iteration is:\n",
      "[929]\tcv_agg's valid auc: 0.743711 + 0.00479916\n",
      "| \u001b[0m29       \u001b[0m | \u001b[0m0.7437   \u001b[0m | \u001b[0m0.007871 \u001b[0m | \u001b[0m0.0226   \u001b[0m | \u001b[0m25.08    \u001b[0m | \u001b[0m9.729e+03\u001b[0m | \u001b[0m1.977e+03\u001b[0m | \u001b[0m3.968e+03\u001b[0m |\n",
      "Training until validation scores don't improve for 100 rounds\n",
      "Did not meet early stopping. Best iteration is:\n",
      "[943]\tcv_agg's valid auc: 0.743259 + 0.0044367\n",
      "| \u001b[0m30       \u001b[0m | \u001b[0m0.7433   \u001b[0m | \u001b[0m0.04158  \u001b[0m | \u001b[0m0.03041  \u001b[0m | \u001b[0m43.98    \u001b[0m | \u001b[0m8.321e+03\u001b[0m | \u001b[0m1.989e+03\u001b[0m | \u001b[0m2.58e+03 \u001b[0m |\n",
      "Training until validation scores don't improve for 100 rounds\n",
      "Did not meet early stopping. Best iteration is:\n",
      "[1000]\tcv_agg's valid auc: 0.743298 + 0.00469529\n",
      "| \u001b[0m31       \u001b[0m | \u001b[0m0.7433   \u001b[0m | \u001b[0m0.0302   \u001b[0m | \u001b[0m0.03018  \u001b[0m | \u001b[0m45.13    \u001b[0m | \u001b[0m6.181e+03\u001b[0m | \u001b[0m1.99e+03 \u001b[0m | \u001b[0m2.391e+03\u001b[0m |\n",
      "Training until validation scores don't improve for 100 rounds\n",
      "Early stopping, best iteration is:\n",
      "[28]\tcv_agg's valid auc: 0.71961 + 0.00412559\n",
      "| \u001b[0m32       \u001b[0m | \u001b[0m0.7196   \u001b[0m | \u001b[0m0.02414  \u001b[0m | \u001b[0m0.00294  \u001b[0m | \u001b[0m29.89    \u001b[0m | \u001b[0m9.957e+03\u001b[0m | \u001b[0m267.7    \u001b[0m | \u001b[0m3.991e+03\u001b[0m |\n",
      "Training until validation scores don't improve for 100 rounds\n",
      "Early stopping, best iteration is:\n",
      "[889]\tcv_agg's valid auc: 0.743578 + 0.00436258\n",
      "| \u001b[0m33       \u001b[0m | \u001b[0m0.7436   \u001b[0m | \u001b[0m0.03213  \u001b[0m | \u001b[0m0.01157  \u001b[0m | \u001b[0m18.5     \u001b[0m | \u001b[0m1.092e+03\u001b[0m | \u001b[0m1.998e+03\u001b[0m | \u001b[0m2.399e+03\u001b[0m |\n",
      "Training until validation scores don't improve for 100 rounds\n",
      "Did not meet early stopping. Best iteration is:\n",
      "[986]\tcv_agg's valid auc: 0.743098 + 0.00403717\n",
      "| \u001b[0m34       \u001b[0m | \u001b[0m0.7431   \u001b[0m | \u001b[0m0.003193 \u001b[0m | \u001b[0m0.02544  \u001b[0m | \u001b[0m9.887    \u001b[0m | \u001b[0m9.938e+03\u001b[0m | \u001b[0m1.748e+03\u001b[0m | \u001b[0m3.125e+03\u001b[0m |\n",
      "Training until validation scores don't improve for 100 rounds\n",
      "Did not meet early stopping. Best iteration is:\n",
      "[935]\tcv_agg's valid auc: 0.743674 + 0.0047993\n",
      "| \u001b[0m35       \u001b[0m | \u001b[0m0.7437   \u001b[0m | \u001b[0m0.01204  \u001b[0m | \u001b[0m0.009626 \u001b[0m | \u001b[0m46.12    \u001b[0m | \u001b[0m2.226e+03\u001b[0m | \u001b[0m1.909e+03\u001b[0m | \u001b[0m153.0    \u001b[0m |\n",
      "Training until validation scores don't improve for 100 rounds\n",
      "Early stopping, best iteration is:\n",
      "[25]\tcv_agg's valid auc: 0.719746 + 0.00374519\n",
      "| \u001b[0m36       \u001b[0m | \u001b[0m0.7197   \u001b[0m | \u001b[0m0.04048  \u001b[0m | \u001b[0m0.01677  \u001b[0m | \u001b[0m48.57    \u001b[0m | \u001b[0m3.218e+03\u001b[0m | \u001b[0m330.5    \u001b[0m | \u001b[0m354.4    \u001b[0m |\n",
      "Training until validation scores don't improve for 100 rounds\n",
      "Early stopping, best iteration is:\n",
      "[695]\tcv_agg's valid auc: 0.742424 + 0.00412396\n",
      "| \u001b[0m37       \u001b[0m | \u001b[0m0.7424   \u001b[0m | \u001b[0m0.03337  \u001b[0m | \u001b[0m0.02841  \u001b[0m | \u001b[0m31.5     \u001b[0m | \u001b[0m6.993e+03\u001b[0m | \u001b[0m1.203e+03\u001b[0m | \u001b[0m3.075e+03\u001b[0m |\n",
      "Training until validation scores don't improve for 100 rounds\n",
      "Early stopping, best iteration is:\n",
      "[38]\tcv_agg's valid auc: 0.720016 + 0.00368234\n",
      "| \u001b[0m38       \u001b[0m | \u001b[0m0.72     \u001b[0m | \u001b[0m0.005984 \u001b[0m | \u001b[0m0.03505  \u001b[0m | \u001b[0m18.41    \u001b[0m | \u001b[0m7.651e+03\u001b[0m | \u001b[0m476.1    \u001b[0m | \u001b[0m2.582e+03\u001b[0m |\n",
      "Training until validation scores don't improve for 100 rounds\n",
      "Early stopping, best iteration is:\n",
      "[897]\tcv_agg's valid auc: 0.743442 + 0.00502643\n",
      "| \u001b[0m39       \u001b[0m | \u001b[0m0.7434   \u001b[0m | \u001b[0m0.01391  \u001b[0m | \u001b[0m0.04164  \u001b[0m | \u001b[0m15.3     \u001b[0m | \u001b[0m7.016e+03\u001b[0m | \u001b[0m1.977e+03\u001b[0m | \u001b[0m3.084e+03\u001b[0m |\n",
      "Training until validation scores don't improve for 100 rounds\n",
      "Did not meet early stopping. Best iteration is:\n",
      "[959]\tcv_agg's valid auc: 0.74379 + 0.00473652\n",
      "| \u001b[0m40       \u001b[0m | \u001b[0m0.7438   \u001b[0m | \u001b[0m0.02683  \u001b[0m | \u001b[0m0.04247  \u001b[0m | \u001b[0m52.85    \u001b[0m | \u001b[0m2.926e+03\u001b[0m | \u001b[0m1.963e+03\u001b[0m | \u001b[0m1.249e+03\u001b[0m |\n",
      "Training until validation scores don't improve for 100 rounds\n",
      "Early stopping, best iteration is:\n",
      "[34]\tcv_agg's valid auc: 0.72065 + 0.00379495\n",
      "| \u001b[0m41       \u001b[0m | \u001b[0m0.7206   \u001b[0m | \u001b[0m0.04598  \u001b[0m | \u001b[0m0.016    \u001b[0m | \u001b[0m13.03    \u001b[0m | \u001b[0m9.028e+03\u001b[0m | \u001b[0m156.9    \u001b[0m | \u001b[0m841.7    \u001b[0m |\n",
      "Training until validation scores don't improve for 100 rounds\n",
      "Did not meet early stopping. Best iteration is:\n",
      "[999]\tcv_agg's valid auc: 0.743567 + 0.00482994\n",
      "| \u001b[0m42       \u001b[0m | \u001b[0m0.7436   \u001b[0m | \u001b[0m0.0154   \u001b[0m | \u001b[0m0.01021  \u001b[0m | \u001b[0m10.14    \u001b[0m | \u001b[0m4.204e+03\u001b[0m | \u001b[0m1.96e+03 \u001b[0m | \u001b[0m2.475e+03\u001b[0m |\n",
      "Training until validation scores don't improve for 100 rounds\n",
      "Did not meet early stopping. Best iteration is:\n",
      "[982]\tcv_agg's valid auc: 0.743698 + 0.00458011\n",
      "| \u001b[0m43       \u001b[0m | \u001b[0m0.7437   \u001b[0m | \u001b[0m0.04285  \u001b[0m | \u001b[0m0.0466   \u001b[0m | \u001b[0m24.18    \u001b[0m | \u001b[0m8.64e+03 \u001b[0m | \u001b[0m1.976e+03\u001b[0m | \u001b[0m1.377e+03\u001b[0m |\n",
      "Training until validation scores don't improve for 100 rounds\n",
      "Did not meet early stopping. Best iteration is:\n",
      "[971]\tcv_agg's valid auc: 0.743716 + 0.00457938\n",
      "| \u001b[0m44       \u001b[0m | \u001b[0m0.7437   \u001b[0m | \u001b[0m0.04896  \u001b[0m | \u001b[0m0.01284  \u001b[0m | \u001b[0m57.39    \u001b[0m | \u001b[0m865.4    \u001b[0m | \u001b[0m1.947e+03\u001b[0m | \u001b[0m72.2     \u001b[0m |\n",
      "Training until validation scores don't improve for 100 rounds\n",
      "Early stopping, best iteration is:\n",
      "[883]\tcv_agg's valid auc: 0.743804 + 0.00436723\n",
      "| \u001b[0m45       \u001b[0m | \u001b[0m0.7438   \u001b[0m | \u001b[0m0.02401  \u001b[0m | \u001b[0m0.02292  \u001b[0m | \u001b[0m57.83    \u001b[0m | \u001b[0m6.497e+03\u001b[0m | \u001b[0m1.999e+03\u001b[0m | \u001b[0m1.047e+03\u001b[0m |\n",
      "Training until validation scores don't improve for 100 rounds\n",
      "Early stopping, best iteration is:\n",
      "[767]\tcv_agg's valid auc: 0.743114 + 0.00488645\n",
      "| \u001b[0m46       \u001b[0m | \u001b[0m0.7431   \u001b[0m | \u001b[0m0.01331  \u001b[0m | \u001b[0m0.002029 \u001b[0m | \u001b[0m35.09    \u001b[0m | \u001b[0m1.564e+03\u001b[0m | \u001b[0m1.968e+03\u001b[0m | \u001b[0m3.193e+03\u001b[0m |\n",
      "Training until validation scores don't improve for 100 rounds\n",
      "Early stopping, best iteration is:\n",
      "[201]\tcv_agg's valid auc: 0.728021 + 0.00356339\n",
      "| \u001b[0m47       \u001b[0m | \u001b[0m0.728    \u001b[0m | \u001b[0m0.02325  \u001b[0m | \u001b[0m0.04139  \u001b[0m | \u001b[0m11.26    \u001b[0m | \u001b[0m180.5    \u001b[0m | \u001b[0m795.7    \u001b[0m | \u001b[0m3.983e+03\u001b[0m |\n",
      "Training until validation scores don't improve for 100 rounds\n",
      "Did not meet early stopping. Best iteration is:\n",
      "[987]\tcv_agg's valid auc: 0.743642 + 0.00456249\n",
      "| \u001b[0m48       \u001b[0m | \u001b[0m0.7436   \u001b[0m | \u001b[0m0.03751  \u001b[0m | \u001b[0m0.00916  \u001b[0m | \u001b[0m34.06    \u001b[0m | \u001b[0m105.5    \u001b[0m | \u001b[0m1.964e+03\u001b[0m | \u001b[0m2.223e+03\u001b[0m |\n",
      "Training until validation scores don't improve for 100 rounds\n",
      "Early stopping, best iteration is:\n",
      "[535]\tcv_agg's valid auc: 0.739699 + 0.00202961\n",
      "| \u001b[0m49       \u001b[0m | \u001b[0m0.7397   \u001b[0m | \u001b[0m0.006257 \u001b[0m | \u001b[0m0.04224  \u001b[0m | \u001b[0m37.25    \u001b[0m | \u001b[0m3.089e+03\u001b[0m | \u001b[0m1.102e+03\u001b[0m | \u001b[0m3.989e+03\u001b[0m |\n",
      "Training until validation scores don't improve for 100 rounds\n",
      "Did not meet early stopping. Best iteration is:\n",
      "[922]\tcv_agg's valid auc: 0.743673 + 0.00491871\n",
      "| \u001b[0m50       \u001b[0m | \u001b[0m0.7437   \u001b[0m | \u001b[0m0.01181  \u001b[0m | \u001b[0m0.01792  \u001b[0m | \u001b[0m53.18    \u001b[0m | \u001b[0m1.232e+03\u001b[0m | \u001b[0m1.982e+03\u001b[0m | \u001b[0m1.117e+03\u001b[0m |\n",
      "Training until validation scores don't improve for 100 rounds\n",
      "Early stopping, best iteration is:\n",
      "[900]\tcv_agg's valid auc: 0.743145 + 0.00512898\n",
      "| \u001b[0m51       \u001b[0m | \u001b[0m0.7431   \u001b[0m | \u001b[0m0.03377  \u001b[0m | \u001b[0m0.04334  \u001b[0m | \u001b[0m39.53    \u001b[0m | \u001b[0m9.97e+03 \u001b[0m | \u001b[0m1.96e+03 \u001b[0m | \u001b[0m1.887e+03\u001b[0m |\n",
      "Training until validation scores don't improve for 100 rounds\n",
      "Did not meet early stopping. Best iteration is:\n",
      "[999]\tcv_agg's valid auc: 0.743175 + 0.0044139\n",
      "| \u001b[0m52       \u001b[0m | \u001b[0m0.7432   \u001b[0m | \u001b[0m0.03554  \u001b[0m | \u001b[0m0.03312  \u001b[0m | \u001b[0m23.88    \u001b[0m | \u001b[0m3.83e+03 \u001b[0m | \u001b[0m1.998e+03\u001b[0m | \u001b[0m1.68e+03 \u001b[0m |\n",
      "Training until validation scores don't improve for 100 rounds\n",
      "Did not meet early stopping. Best iteration is:\n",
      "[949]\tcv_agg's valid auc: 0.743767 + 0.00459275\n",
      "| \u001b[0m53       \u001b[0m | \u001b[0m0.7438   \u001b[0m | \u001b[0m0.0205   \u001b[0m | \u001b[0m0.02597  \u001b[0m | \u001b[0m35.24    \u001b[0m | \u001b[0m5.19e+03 \u001b[0m | \u001b[0m1.959e+03\u001b[0m | \u001b[0m25.65    \u001b[0m |\n",
      "Training until validation scores don't improve for 100 rounds\n",
      "Did not meet early stopping. Best iteration is:\n",
      "[913]\tcv_agg's valid auc: 0.743759 + 0.00444467\n",
      "| \u001b[0m54       \u001b[0m | \u001b[0m0.7438   \u001b[0m | \u001b[0m0.006329 \u001b[0m | \u001b[0m0.0487   \u001b[0m | \u001b[0m42.95    \u001b[0m | \u001b[0m112.5    \u001b[0m | \u001b[0m1.991e+03\u001b[0m | \u001b[0m1.046e+03\u001b[0m |\n",
      "Training until validation scores don't improve for 100 rounds\n",
      "Early stopping, best iteration is:\n",
      "[887]\tcv_agg's valid auc: 0.743398 + 0.00469935\n",
      "| \u001b[0m55       \u001b[0m | \u001b[0m0.7434   \u001b[0m | \u001b[0m0.002392 \u001b[0m | \u001b[0m0.02751  \u001b[0m | \u001b[0m31.62    \u001b[0m | \u001b[0m9.002e+03\u001b[0m | \u001b[0m1.996e+03\u001b[0m | \u001b[0m3.617e+03\u001b[0m |\n",
      "=================================================================================================\n"
     ]
    }
   ],
   "source": [
    "lgbBO_2 = BayesianOptimization(lgb_eval, {'num_leaves': (25, 4000),\n",
    "                                                'max_depth': (5, 63),\n",
    "                                                'lambda_l2': (0.0, 0.05),\n",
    "                                                'lambda_l1': (0.0, 0.05),\n",
    "                                                'min_child_samples': (50, 10000),\n",
    "                                                'min_data_in_leaf': (100, 2000)\n",
    "                                                })\n",
    "\n",
    "#5x n_iter and init_points - This will take a while. \n",
    "lgbBO_2.maximize(n_iter=50, init_points=5)"
   ]
  },
  {
   "cell_type": "code",
   "execution_count": 27,
   "metadata": {},
   "outputs": [
    {
     "data": {
      "text/plain": [
       "{'target': 0.7438996109438086,\n",
       " 'params': {'lambda_l1': 0.03647350294075576,\n",
       "  'lambda_l2': 0.033248710628291434,\n",
       "  'max_depth': 42.435447166574484,\n",
       "  'min_child_samples': 3560.15540414075,\n",
       "  'min_data_in_leaf': 1808.3549328835088,\n",
       "  'num_leaves': 3368.128472244125}}"
      ]
     },
     "execution_count": 27,
     "metadata": {},
     "output_type": "execute_result"
    }
   ],
   "source": [
    "lgbBO_2.max"
   ]
  },
  {
   "cell_type": "code",
   "execution_count": 30,
   "metadata": {},
   "outputs": [],
   "source": [
    "target_scores_2 = []\n",
    "\n",
    "for i in lgbBO_2.res:\n",
    "    target_scores_2.append(i['target'])"
   ]
  },
  {
   "cell_type": "code",
   "execution_count": 34,
   "metadata": {},
   "outputs": [
    {
     "data": {
      "image/png": "[encoded data removed]",
      "text/plain": [
       "<Figure size 1500x800 with 1 Axes>"
      ]
     },
     "metadata": {},
     "output_type": "display_data"
    }
   ],
   "source": [
    "plt.figure(figsize=(15,8))\n",
    "\n",
    "x_values = range(1, len(target_scores_2) + 1)\n",
    "\n",
    "plt.plot(x_values,target_scores_2)\n",
    "\n",
    "plt.axvline(target_scores_2.index(lgbBO_2.max['target'])+1, color = 'r', linestyle ='--', label = 'best score')\n",
    "\n",
    "#plt.xticks([1,2,3,4,5,6,7,8,9,10,11,12])\n",
    "\n",
    "\n",
    "\n",
    "plt.xlabel('Iteration')\n",
    "plt.ylabel('Mean AUC')\n",
    "\n",
    "plt.legend()\n",
    "plt.title('Bayesian Optimization Results')\n",
    "\n",
    "plt.show()"
   ]
  },
  {
   "cell_type": "markdown",
   "metadata": {},
   "source": [
    "Again not great, we didn't beat the prvious max for AUC by much at all. This leads me to believe that the hyperparameter space needs adjusting or that\n",
    "another algorithm would be a better fit for the data set. It could also be that the data we have just isn't capable of giving better performance \n",
    "given the features we have available. \n"
   ]
  }
 ],
 "metadata": {
  "colab": {
   "name": "Bayesian_optimization_exercise.ipynb",
   "provenance": []
  },
  "deepnote_execution_queue": [],
  "kernelspec": {
   "display_name": "Python 3",
   "language": "python",
   "name": "python3"
  },
  "language_info": {
   "codemirror_mode": {
    "name": "ipython",
    "version": 3
   },
   "file_extension": ".py",
   "mimetype": "text/x-python",
   "name": "python",
   "nbconvert_exporter": "python",
   "pygments_lexer": "ipython3",
   "version": "3.9.18"
  },
  "varInspector": {
   "cols": {
    "lenName": 16,
    "lenType": 16,
    "lenVar": 40
   },
   "kernels_config": {
    "python": {
     "delete_cmd_postfix": "",
     "delete_cmd_prefix": "del ",
     "library": "var_list.py",
     "varRefreshCmd": "print(var_dic_list())"
    },
    "r": {
     "delete_cmd_postfix": ") ",
     "delete_cmd_prefix": "rm(",
     "library": "var_list.r",
     "varRefreshCmd": "cat(var_dic_list()) "
    }
   },
   "types_to_exclude": [
    "module",
    "function",
    "builtin_function_or_method",
    "instance",
    "_Feature"
   ],
   "window_display": false
  }
 },
 "nbformat": 4,
 "nbformat_minor": 1
}
